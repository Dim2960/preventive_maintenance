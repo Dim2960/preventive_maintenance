{
 "cells": [
  {
   "cell_type": "code",
   "execution_count": 2,
   "metadata": {
    "execution": {
     "iopub.execute_input": "2024-06-25T13:34:46.511782Z",
     "iopub.status.busy": "2024-06-25T13:34:46.510784Z",
     "iopub.status.idle": "2024-06-25T13:34:47.152759Z",
     "shell.execute_reply": "2024-06-25T13:34:47.152759Z"
    }
   },
   "outputs": [],
   "source": [
    "import pandas as pd\n",
    "from sqlalchemy import create_engine,  MetaData, Table, Column, Date, String, Boolean\n",
    "\n",
    "from datetime import date\n",
    "import datetime\n",
    "\n",
    "import json\n",
    "import re"
   ]
  },
  {
   "cell_type": "markdown",
   "metadata": {},
   "source": [
    "## Ouverture des csv en dataframe"
   ]
  },
  {
   "cell_type": "markdown",
   "metadata": {},
   "source": [
    "### aeronefs"
   ]
  },
  {
   "cell_type": "code",
   "execution_count": 3,
   "metadata": {
    "execution": {
     "iopub.execute_input": "2024-06-25T13:34:47.157769Z",
     "iopub.status.busy": "2024-06-25T13:34:47.156769Z",
     "iopub.status.idle": "2024-06-25T13:34:47.163767Z",
     "shell.execute_reply": "2024-06-25T13:34:47.163767Z"
    }
   },
   "outputs": [],
   "source": [
    "# ouvrir csv pour mettre en data frame\n",
    "df_aeronef = pd.read_csv(r'dataset\\aeronefs_clean.csv')"
   ]
  },
  {
   "cell_type": "code",
   "execution_count": 4,
   "metadata": {
    "execution": {
     "iopub.execute_input": "2024-06-25T13:34:47.167774Z",
     "iopub.status.busy": "2024-06-25T13:34:47.166774Z",
     "iopub.status.idle": "2024-06-25T13:34:47.180513Z",
     "shell.execute_reply": "2024-06-25T13:34:47.180513Z"
    }
   },
   "outputs": [
    {
     "data": {
      "text/html": [
       "<div>\n",
       "<style scoped>\n",
       "    .dataframe tbody tr th:only-of-type {\n",
       "        vertical-align: middle;\n",
       "    }\n",
       "\n",
       "    .dataframe tbody tr th {\n",
       "        vertical-align: top;\n",
       "    }\n",
       "\n",
       "    .dataframe thead th {\n",
       "        text-align: right;\n",
       "    }\n",
       "</style>\n",
       "<table border=\"1\" class=\"dataframe\">\n",
       "  <thead>\n",
       "    <tr style=\"text-align: right;\">\n",
       "      <th></th>\n",
       "      <th>ref_aero</th>\n",
       "      <th>type_model</th>\n",
       "      <th>debut_service</th>\n",
       "      <th>last_maint</th>\n",
       "      <th>en_maintenance</th>\n",
       "      <th>end_maint</th>\n",
       "    </tr>\n",
       "  </thead>\n",
       "  <tbody>\n",
       "    <tr>\n",
       "      <th>0</th>\n",
       "      <td>E170_6356</td>\n",
       "      <td>E170</td>\n",
       "      <td>2000-03-17</td>\n",
       "      <td>2024-03-27</td>\n",
       "      <td>False</td>\n",
       "      <td>NaN</td>\n",
       "    </tr>\n",
       "    <tr>\n",
       "      <th>1</th>\n",
       "      <td>B767_2803</td>\n",
       "      <td>B767</td>\n",
       "      <td>2020-12-03</td>\n",
       "      <td>2024-06-01</td>\n",
       "      <td>False</td>\n",
       "      <td>NaN</td>\n",
       "    </tr>\n",
       "    <tr>\n",
       "      <th>2</th>\n",
       "      <td>CRJ700_6943</td>\n",
       "      <td>CRJ700</td>\n",
       "      <td>2015-01-29</td>\n",
       "      <td>2024-06-02</td>\n",
       "      <td>True</td>\n",
       "      <td>2024-06-03 14:13:00</td>\n",
       "    </tr>\n",
       "    <tr>\n",
       "      <th>3</th>\n",
       "      <td>A350_1177</td>\n",
       "      <td>A350</td>\n",
       "      <td>2005-08-07</td>\n",
       "      <td>2024-01-04</td>\n",
       "      <td>False</td>\n",
       "      <td>NaN</td>\n",
       "    </tr>\n",
       "    <tr>\n",
       "      <th>4</th>\n",
       "      <td>B777_4029</td>\n",
       "      <td>B777</td>\n",
       "      <td>2009-01-01</td>\n",
       "      <td>2024-06-01</td>\n",
       "      <td>False</td>\n",
       "      <td>NaN</td>\n",
       "    </tr>\n",
       "    <tr>\n",
       "      <th>...</th>\n",
       "      <td>...</td>\n",
       "      <td>...</td>\n",
       "      <td>...</td>\n",
       "      <td>...</td>\n",
       "      <td>...</td>\n",
       "      <td>...</td>\n",
       "    </tr>\n",
       "    <tr>\n",
       "      <th>226</th>\n",
       "      <td>B737_4369</td>\n",
       "      <td>B737</td>\n",
       "      <td>2010-01-05</td>\n",
       "      <td>2024-06-01</td>\n",
       "      <td>False</td>\n",
       "      <td>NaN</td>\n",
       "    </tr>\n",
       "    <tr>\n",
       "      <th>227</th>\n",
       "      <td>A340_4021</td>\n",
       "      <td>A340</td>\n",
       "      <td>2004-12-13</td>\n",
       "      <td>2024-05-31</td>\n",
       "      <td>False</td>\n",
       "      <td>NaN</td>\n",
       "    </tr>\n",
       "    <tr>\n",
       "      <th>228</th>\n",
       "      <td>CRJ900_1740</td>\n",
       "      <td>CRJ900</td>\n",
       "      <td>2003-07-20</td>\n",
       "      <td>2024-06-01</td>\n",
       "      <td>False</td>\n",
       "      <td>NaN</td>\n",
       "    </tr>\n",
       "    <tr>\n",
       "      <th>229</th>\n",
       "      <td>E170_5551</td>\n",
       "      <td>E170</td>\n",
       "      <td>2021-04-10</td>\n",
       "      <td>2024-06-01</td>\n",
       "      <td>False</td>\n",
       "      <td>NaN</td>\n",
       "    </tr>\n",
       "    <tr>\n",
       "      <th>230</th>\n",
       "      <td>CRJ700_2988</td>\n",
       "      <td>CRJ700</td>\n",
       "      <td>2000-10-25</td>\n",
       "      <td>2024-02-01</td>\n",
       "      <td>False</td>\n",
       "      <td>NaN</td>\n",
       "    </tr>\n",
       "  </tbody>\n",
       "</table>\n",
       "<p>231 rows × 6 columns</p>\n",
       "</div>"
      ],
      "text/plain": [
       "        ref_aero type_model debut_service  last_maint  en_maintenance  \\\n",
       "0      E170_6356       E170    2000-03-17  2024-03-27           False   \n",
       "1      B767_2803       B767    2020-12-03  2024-06-01           False   \n",
       "2    CRJ700_6943     CRJ700    2015-01-29  2024-06-02            True   \n",
       "3      A350_1177       A350    2005-08-07  2024-01-04           False   \n",
       "4      B777_4029       B777    2009-01-01  2024-06-01           False   \n",
       "..           ...        ...           ...         ...             ...   \n",
       "226    B737_4369       B737    2010-01-05  2024-06-01           False   \n",
       "227    A340_4021       A340    2004-12-13  2024-05-31           False   \n",
       "228  CRJ900_1740     CRJ900    2003-07-20  2024-06-01           False   \n",
       "229    E170_5551       E170    2021-04-10  2024-06-01           False   \n",
       "230  CRJ700_2988     CRJ700    2000-10-25  2024-02-01           False   \n",
       "\n",
       "               end_maint  \n",
       "0                    NaN  \n",
       "1                    NaN  \n",
       "2    2024-06-03 14:13:00  \n",
       "3                    NaN  \n",
       "4                    NaN  \n",
       "..                   ...  \n",
       "226                  NaN  \n",
       "227                  NaN  \n",
       "228                  NaN  \n",
       "229                  NaN  \n",
       "230                  NaN  \n",
       "\n",
       "[231 rows x 6 columns]"
      ]
     },
     "execution_count": 4,
     "metadata": {},
     "output_type": "execute_result"
    }
   ],
   "source": [
    "df_aeronef"
   ]
  },
  {
   "cell_type": "code",
   "execution_count": 5,
   "metadata": {
    "execution": {
     "iopub.execute_input": "2024-06-25T13:34:47.184521Z",
     "iopub.status.busy": "2024-06-25T13:34:47.184521Z",
     "iopub.status.idle": "2024-06-25T13:34:47.195317Z",
     "shell.execute_reply": "2024-06-25T13:34:47.194797Z"
    }
   },
   "outputs": [],
   "source": [
    "# convertir les donnÃ©es avant insertion dans la table sql\n",
    "df_aeronef['debut_service'] = pd.to_datetime(df_aeronef['debut_service'])\n",
    "df_aeronef['last_maint'] = pd.to_datetime(df_aeronef['last_maint'])\n",
    "df_aeronef['end_maint'] = pd.to_datetime(df_aeronef['end_maint'])\n",
    "\n",
    "df_aeronef['en_maintenance'] = df_aeronef['en_maintenance'].astype('boolean')\n"
   ]
  },
  {
   "cell_type": "code",
   "execution_count": 6,
   "metadata": {
    "execution": {
     "iopub.execute_input": "2024-06-25T13:34:47.199366Z",
     "iopub.status.busy": "2024-06-25T13:34:47.199366Z",
     "iopub.status.idle": "2024-06-25T13:34:47.209420Z",
     "shell.execute_reply": "2024-06-25T13:34:47.209057Z"
    }
   },
   "outputs": [
    {
     "data": {
      "text/html": [
       "<div>\n",
       "<style scoped>\n",
       "    .dataframe tbody tr th:only-of-type {\n",
       "        vertical-align: middle;\n",
       "    }\n",
       "\n",
       "    .dataframe tbody tr th {\n",
       "        vertical-align: top;\n",
       "    }\n",
       "\n",
       "    .dataframe thead th {\n",
       "        text-align: right;\n",
       "    }\n",
       "</style>\n",
       "<table border=\"1\" class=\"dataframe\">\n",
       "  <thead>\n",
       "    <tr style=\"text-align: right;\">\n",
       "      <th></th>\n",
       "      <th>ref_aero</th>\n",
       "      <th>type_model</th>\n",
       "      <th>debut_service</th>\n",
       "      <th>last_maint</th>\n",
       "      <th>en_maintenance</th>\n",
       "      <th>end_maint</th>\n",
       "    </tr>\n",
       "  </thead>\n",
       "  <tbody>\n",
       "    <tr>\n",
       "      <th>0</th>\n",
       "      <td>E170_6356</td>\n",
       "      <td>E170</td>\n",
       "      <td>2000-03-17</td>\n",
       "      <td>2024-03-27</td>\n",
       "      <td>False</td>\n",
       "      <td>NaT</td>\n",
       "    </tr>\n",
       "    <tr>\n",
       "      <th>1</th>\n",
       "      <td>B767_2803</td>\n",
       "      <td>B767</td>\n",
       "      <td>2020-12-03</td>\n",
       "      <td>2024-06-01</td>\n",
       "      <td>False</td>\n",
       "      <td>NaT</td>\n",
       "    </tr>\n",
       "    <tr>\n",
       "      <th>2</th>\n",
       "      <td>CRJ700_6943</td>\n",
       "      <td>CRJ700</td>\n",
       "      <td>2015-01-29</td>\n",
       "      <td>2024-06-02</td>\n",
       "      <td>True</td>\n",
       "      <td>2024-06-03 14:13:00</td>\n",
       "    </tr>\n",
       "    <tr>\n",
       "      <th>3</th>\n",
       "      <td>A350_1177</td>\n",
       "      <td>A350</td>\n",
       "      <td>2005-08-07</td>\n",
       "      <td>2024-01-04</td>\n",
       "      <td>False</td>\n",
       "      <td>NaT</td>\n",
       "    </tr>\n",
       "    <tr>\n",
       "      <th>4</th>\n",
       "      <td>B777_4029</td>\n",
       "      <td>B777</td>\n",
       "      <td>2009-01-01</td>\n",
       "      <td>2024-06-01</td>\n",
       "      <td>False</td>\n",
       "      <td>NaT</td>\n",
       "    </tr>\n",
       "    <tr>\n",
       "      <th>...</th>\n",
       "      <td>...</td>\n",
       "      <td>...</td>\n",
       "      <td>...</td>\n",
       "      <td>...</td>\n",
       "      <td>...</td>\n",
       "      <td>...</td>\n",
       "    </tr>\n",
       "    <tr>\n",
       "      <th>226</th>\n",
       "      <td>B737_4369</td>\n",
       "      <td>B737</td>\n",
       "      <td>2010-01-05</td>\n",
       "      <td>2024-06-01</td>\n",
       "      <td>False</td>\n",
       "      <td>NaT</td>\n",
       "    </tr>\n",
       "    <tr>\n",
       "      <th>227</th>\n",
       "      <td>A340_4021</td>\n",
       "      <td>A340</td>\n",
       "      <td>2004-12-13</td>\n",
       "      <td>2024-05-31</td>\n",
       "      <td>False</td>\n",
       "      <td>NaT</td>\n",
       "    </tr>\n",
       "    <tr>\n",
       "      <th>228</th>\n",
       "      <td>CRJ900_1740</td>\n",
       "      <td>CRJ900</td>\n",
       "      <td>2003-07-20</td>\n",
       "      <td>2024-06-01</td>\n",
       "      <td>False</td>\n",
       "      <td>NaT</td>\n",
       "    </tr>\n",
       "    <tr>\n",
       "      <th>229</th>\n",
       "      <td>E170_5551</td>\n",
       "      <td>E170</td>\n",
       "      <td>2021-04-10</td>\n",
       "      <td>2024-06-01</td>\n",
       "      <td>False</td>\n",
       "      <td>NaT</td>\n",
       "    </tr>\n",
       "    <tr>\n",
       "      <th>230</th>\n",
       "      <td>CRJ700_2988</td>\n",
       "      <td>CRJ700</td>\n",
       "      <td>2000-10-25</td>\n",
       "      <td>2024-02-01</td>\n",
       "      <td>False</td>\n",
       "      <td>NaT</td>\n",
       "    </tr>\n",
       "  </tbody>\n",
       "</table>\n",
       "<p>231 rows × 6 columns</p>\n",
       "</div>"
      ],
      "text/plain": [
       "        ref_aero type_model debut_service last_maint  en_maintenance  \\\n",
       "0      E170_6356       E170    2000-03-17 2024-03-27           False   \n",
       "1      B767_2803       B767    2020-12-03 2024-06-01           False   \n",
       "2    CRJ700_6943     CRJ700    2015-01-29 2024-06-02            True   \n",
       "3      A350_1177       A350    2005-08-07 2024-01-04           False   \n",
       "4      B777_4029       B777    2009-01-01 2024-06-01           False   \n",
       "..           ...        ...           ...        ...             ...   \n",
       "226    B737_4369       B737    2010-01-05 2024-06-01           False   \n",
       "227    A340_4021       A340    2004-12-13 2024-05-31           False   \n",
       "228  CRJ900_1740     CRJ900    2003-07-20 2024-06-01           False   \n",
       "229    E170_5551       E170    2021-04-10 2024-06-01           False   \n",
       "230  CRJ700_2988     CRJ700    2000-10-25 2024-02-01           False   \n",
       "\n",
       "              end_maint  \n",
       "0                   NaT  \n",
       "1                   NaT  \n",
       "2   2024-06-03 14:13:00  \n",
       "3                   NaT  \n",
       "4                   NaT  \n",
       "..                  ...  \n",
       "226                 NaT  \n",
       "227                 NaT  \n",
       "228                 NaT  \n",
       "229                 NaT  \n",
       "230                 NaT  \n",
       "\n",
       "[231 rows x 6 columns]"
      ]
     },
     "execution_count": 6,
     "metadata": {},
     "output_type": "execute_result"
    }
   ],
   "source": [
    "df_aeronef"
   ]
  },
  {
   "cell_type": "markdown",
   "metadata": {},
   "source": [
    "### Composants"
   ]
  },
  {
   "cell_type": "code",
   "execution_count": 7,
   "metadata": {
    "execution": {
     "iopub.execute_input": "2024-06-25T13:34:47.212429Z",
     "iopub.status.busy": "2024-06-25T13:34:47.212429Z",
     "iopub.status.idle": "2024-06-25T13:34:47.233753Z",
     "shell.execute_reply": "2024-06-25T13:34:47.233753Z"
    }
   },
   "outputs": [],
   "source": [
    "# ouvrir csv pour mettre en data frame\n",
    "df_composants = pd.read_csv(r'dataset\\composants_clean.csv')"
   ]
  },
  {
   "cell_type": "code",
   "execution_count": 8,
   "metadata": {
    "execution": {
     "iopub.execute_input": "2024-06-25T13:34:47.237762Z",
     "iopub.status.busy": "2024-06-25T13:34:47.236764Z",
     "iopub.status.idle": "2024-06-25T13:34:47.240318Z",
     "shell.execute_reply": "2024-06-25T13:34:47.240318Z"
    }
   },
   "outputs": [],
   "source": [
    "# convertir les donnÃ©es avant insertion dans la table sql\n",
    "\n",
    "# -> pas de besoin\n"
   ]
  },
  {
   "cell_type": "code",
   "execution_count": 9,
   "metadata": {
    "execution": {
     "iopub.execute_input": "2024-06-25T13:34:47.244323Z",
     "iopub.status.busy": "2024-06-25T13:34:47.244323Z",
     "iopub.status.idle": "2024-06-25T13:34:47.252916Z",
     "shell.execute_reply": "2024-06-25T13:34:47.252916Z"
    }
   },
   "outputs": [
    {
     "data": {
      "text/html": [
       "<div>\n",
       "<style scoped>\n",
       "    .dataframe tbody tr th:only-of-type {\n",
       "        vertical-align: middle;\n",
       "    }\n",
       "\n",
       "    .dataframe tbody tr th {\n",
       "        vertical-align: top;\n",
       "    }\n",
       "\n",
       "    .dataframe thead th {\n",
       "        text-align: right;\n",
       "    }\n",
       "</style>\n",
       "<table border=\"1\" class=\"dataframe\">\n",
       "  <thead>\n",
       "    <tr style=\"text-align: right;\">\n",
       "      <th></th>\n",
       "      <th>ref_compo</th>\n",
       "      <th>categorie</th>\n",
       "      <th>aero</th>\n",
       "      <th>desc_compo</th>\n",
       "      <th>lifespan</th>\n",
       "      <th>taux_usure_actuel</th>\n",
       "      <th>cout</th>\n",
       "    </tr>\n",
       "  </thead>\n",
       "  <tbody>\n",
       "    <tr>\n",
       "      <th>0</th>\n",
       "      <td>REAE170-E170_6353-0</td>\n",
       "      <td>Composants Critiques</td>\n",
       "      <td>E170_6353</td>\n",
       "      <td>Réacteur gauche</td>\n",
       "      <td>13045</td>\n",
       "      <td>53.308375</td>\n",
       "      <td>15552</td>\n",
       "    </tr>\n",
       "    <tr>\n",
       "      <th>1</th>\n",
       "      <td>REAE170-E170_6353-1</td>\n",
       "      <td>Composants Critiques</td>\n",
       "      <td>E170_6353</td>\n",
       "      <td>Réacteur droit</td>\n",
       "      <td>13626</td>\n",
       "      <td>50.111950</td>\n",
       "      <td>17559</td>\n",
       "    </tr>\n",
       "    <tr>\n",
       "      <th>2</th>\n",
       "      <td>SYSE170-E170_6353-2</td>\n",
       "      <td>Composants Critiques</td>\n",
       "      <td>E170_6353</td>\n",
       "      <td>Système de navigation</td>\n",
       "      <td>10541</td>\n",
       "      <td>16.730575</td>\n",
       "      <td>16514</td>\n",
       "    </tr>\n",
       "    <tr>\n",
       "      <th>3</th>\n",
       "      <td>ORDE170-E170_6353-3</td>\n",
       "      <td>Composants Critiques</td>\n",
       "      <td>E170_6353</td>\n",
       "      <td>Ordinateur de vol</td>\n",
       "      <td>10441</td>\n",
       "      <td>6.653075</td>\n",
       "      <td>16047</td>\n",
       "    </tr>\n",
       "    <tr>\n",
       "      <th>4</th>\n",
       "      <td>AUTE170-E170_6353-4</td>\n",
       "      <td>Composants Critiques</td>\n",
       "      <td>E170_6353</td>\n",
       "      <td>Autopilote</td>\n",
       "      <td>14847</td>\n",
       "      <td>42.033525</td>\n",
       "      <td>19362</td>\n",
       "    </tr>\n",
       "  </tbody>\n",
       "</table>\n",
       "</div>"
      ],
      "text/plain": [
       "             ref_compo             categorie       aero  \\\n",
       "0  REAE170-E170_6353-0  Composants Critiques  E170_6353   \n",
       "1  REAE170-E170_6353-1  Composants Critiques  E170_6353   \n",
       "2  SYSE170-E170_6353-2  Composants Critiques  E170_6353   \n",
       "3  ORDE170-E170_6353-3  Composants Critiques  E170_6353   \n",
       "4  AUTE170-E170_6353-4  Composants Critiques  E170_6353   \n",
       "\n",
       "              desc_compo  lifespan  taux_usure_actuel   cout  \n",
       "0        Réacteur gauche     13045          53.308375  15552  \n",
       "1         Réacteur droit     13626          50.111950  17559  \n",
       "2  Système de navigation     10541          16.730575  16514  \n",
       "3      Ordinateur de vol     10441           6.653075  16047  \n",
       "4             Autopilote     14847          42.033525  19362  "
      ]
     },
     "execution_count": 9,
     "metadata": {},
     "output_type": "execute_result"
    }
   ],
   "source": [
    "df_composants.head()"
   ]
  },
  {
   "cell_type": "markdown",
   "metadata": {},
   "source": [
    "### degradations"
   ]
  },
  {
   "cell_type": "code",
   "execution_count": 10,
   "metadata": {
    "execution": {
     "iopub.execute_input": "2024-06-25T13:34:47.256923Z",
     "iopub.status.busy": "2024-06-25T13:34:47.255922Z",
     "iopub.status.idle": "2024-06-25T13:34:47.259368Z",
     "shell.execute_reply": "2024-06-25T13:34:47.259368Z"
    }
   },
   "outputs": [],
   "source": [
    "# # cration date du jour\n",
    "# aujourdhui = date.today()\n",
    "# aujourdhui = aujourdhui.strftime('%Y-%m-%d')\n",
    "\n",
    "# aujourdhui = '2024-06-12'"
   ]
  },
  {
   "cell_type": "code",
   "execution_count": 11,
   "metadata": {
    "execution": {
     "iopub.execute_input": "2024-06-25T13:34:47.263374Z",
     "iopub.status.busy": "2024-06-25T13:34:47.262375Z",
     "iopub.status.idle": "2024-06-25T13:34:48.106373Z",
     "shell.execute_reply": "2024-06-25T13:34:48.106373Z"
    }
   },
   "outputs": [],
   "source": [
    "# ouvrir csv pour mettre en data frame\n",
    "df_degradations = pd.read_csv(f'http://sc-e.fr/docs/degradations_{aujourdhui}.csv')"
   ]
  },
  {
   "cell_type": "code",
   "execution_count": 12,
   "metadata": {
    "execution": {
     "iopub.execute_input": "2024-06-25T13:34:48.110845Z",
     "iopub.status.busy": "2024-06-25T13:34:48.109840Z",
     "iopub.status.idle": "2024-06-25T13:34:48.118349Z",
     "shell.execute_reply": "2024-06-25T13:34:48.118349Z"
    }
   },
   "outputs": [
    {
     "data": {
      "text/html": [
       "<div>\n",
       "<style scoped>\n",
       "    .dataframe tbody tr th:only-of-type {\n",
       "        vertical-align: middle;\n",
       "    }\n",
       "\n",
       "    .dataframe tbody tr th {\n",
       "        vertical-align: top;\n",
       "    }\n",
       "\n",
       "    .dataframe thead th {\n",
       "        text-align: right;\n",
       "    }\n",
       "</style>\n",
       "<table border=\"1\" class=\"dataframe\">\n",
       "  <thead>\n",
       "    <tr style=\"text-align: right;\">\n",
       "      <th></th>\n",
       "      <th>ref_deg</th>\n",
       "      <th>linked_aero</th>\n",
       "      <th>compo_concerned</th>\n",
       "      <th>usure_nouvelle</th>\n",
       "      <th>measure_day</th>\n",
       "      <th>need_replacement</th>\n",
       "    </tr>\n",
       "  </thead>\n",
       "  <tbody>\n",
       "    <tr>\n",
       "      <th>0</th>\n",
       "      <td>D003661</td>\n",
       "      <td>E170_6353</td>\n",
       "      <td>REAE170-E170_6353-0</td>\n",
       "      <td>57.508865</td>\n",
       "      <td>2024-06-12</td>\n",
       "      <td>False</td>\n",
       "    </tr>\n",
       "    <tr>\n",
       "      <th>1</th>\n",
       "      <td>D009402</td>\n",
       "      <td>E170_6353</td>\n",
       "      <td>REAE170-E170_6353-1</td>\n",
       "      <td>54.499522</td>\n",
       "      <td>2024-06-12</td>\n",
       "      <td>False</td>\n",
       "    </tr>\n",
       "    <tr>\n",
       "      <th>2</th>\n",
       "      <td>D000812</td>\n",
       "      <td>E170_6353</td>\n",
       "      <td>SYSE170-E170_6353-2</td>\n",
       "      <td>20.124777</td>\n",
       "      <td>2024-06-12</td>\n",
       "      <td>False</td>\n",
       "    </tr>\n",
       "    <tr>\n",
       "      <th>3</th>\n",
       "      <td>D006665</td>\n",
       "      <td>E170_6353</td>\n",
       "      <td>ORDE170-E170_6353-3</td>\n",
       "      <td>10.015077</td>\n",
       "      <td>2024-06-12</td>\n",
       "      <td>False</td>\n",
       "    </tr>\n",
       "    <tr>\n",
       "      <th>4</th>\n",
       "      <td>D001163</td>\n",
       "      <td>E170_6353</td>\n",
       "      <td>AUTE170-E170_6353-4</td>\n",
       "      <td>46.814259</td>\n",
       "      <td>2024-06-12</td>\n",
       "      <td>False</td>\n",
       "    </tr>\n",
       "  </tbody>\n",
       "</table>\n",
       "</div>"
      ],
      "text/plain": [
       "   ref_deg linked_aero      compo_concerned  usure_nouvelle measure_day  \\\n",
       "0  D003661   E170_6353  REAE170-E170_6353-0       57.508865  2024-06-12   \n",
       "1  D009402   E170_6353  REAE170-E170_6353-1       54.499522  2024-06-12   \n",
       "2  D000812   E170_6353  SYSE170-E170_6353-2       20.124777  2024-06-12   \n",
       "3  D006665   E170_6353  ORDE170-E170_6353-3       10.015077  2024-06-12   \n",
       "4  D001163   E170_6353  AUTE170-E170_6353-4       46.814259  2024-06-12   \n",
       "\n",
       "   need_replacement  \n",
       "0             False  \n",
       "1             False  \n",
       "2             False  \n",
       "3             False  \n",
       "4             False  "
      ]
     },
     "execution_count": 12,
     "metadata": {},
     "output_type": "execute_result"
    }
   ],
   "source": [
    "df_degradations.head()"
   ]
  },
  {
   "cell_type": "markdown",
   "metadata": {},
   "source": [
    "#### preparation des donnÃ©es / nettoyage"
   ]
  },
  {
   "cell_type": "code",
   "execution_count": 13,
   "metadata": {
    "execution": {
     "iopub.execute_input": "2024-06-25T13:34:48.121386Z",
     "iopub.status.busy": "2024-06-25T13:34:48.121386Z",
     "iopub.status.idle": "2024-06-25T13:34:48.240364Z",
     "shell.execute_reply": "2024-06-25T13:34:48.240364Z"
    }
   },
   "outputs": [],
   "source": [
    "# Ajout d'une colonne pour primaryKey\n",
    "df_degradations.insert(0, 'clef', df_degradations.apply(lambda row: str(row['ref_deg']) + str(row['linked_aero'])  + str(row['compo_concerned'])+ str(row['measure_day']), axis=1))\n"
   ]
  },
  {
   "cell_type": "code",
   "execution_count": 14,
   "metadata": {
    "execution": {
     "iopub.execute_input": "2024-06-25T13:34:48.244368Z",
     "iopub.status.busy": "2024-06-25T13:34:48.243368Z",
     "iopub.status.idle": "2024-06-25T13:34:48.255961Z",
     "shell.execute_reply": "2024-06-25T13:34:48.255961Z"
    }
   },
   "outputs": [],
   "source": [
    "#modification du type de la colonne date\n",
    "\n",
    "df_degradations['measure_day'] = df_degradations['measure_day'].str.split().str[0]\n",
    "df_degradations['measure_day'] = pd.to_datetime(df_degradations['measure_day'], format='%Y-%m-%d')\n"
   ]
  },
  {
   "cell_type": "markdown",
   "metadata": {},
   "source": [
    "### logs_vols"
   ]
  },
  {
   "cell_type": "code",
   "execution_count": 15,
   "metadata": {
    "execution": {
     "iopub.execute_input": "2024-06-25T13:34:48.259541Z",
     "iopub.status.busy": "2024-06-25T13:34:48.258476Z",
     "iopub.status.idle": "2024-06-25T13:34:48.366726Z",
     "shell.execute_reply": "2024-06-25T13:34:48.364714Z"
    }
   },
   "outputs": [],
   "source": [
    "# ouvrir csv pour mettre en data frame\n",
    "df_logs_vols = pd.read_csv(f'http://sc-e.fr/docs/logs_vols_{aujourdhui}.csv')"
   ]
  },
  {
   "cell_type": "code",
   "execution_count": 16,
   "metadata": {
    "execution": {
     "iopub.execute_input": "2024-06-25T13:34:48.376008Z",
     "iopub.status.busy": "2024-06-25T13:34:48.375007Z",
     "iopub.status.idle": "2024-06-25T13:34:48.388555Z",
     "shell.execute_reply": "2024-06-25T13:34:48.386883Z"
    }
   },
   "outputs": [],
   "source": [
    "#modification du type de la colonne date\n",
    "\n",
    "df_logs_vols['jour_vol'] = df_logs_vols['jour_vol'].str.split().str[0]\n",
    "df_logs_vols['jour_vol'] = pd.to_datetime(df_logs_vols['jour_vol'], format='%Y-%m-%d')"
   ]
  },
  {
   "cell_type": "code",
   "execution_count": null,
   "metadata": {
    "execution": {
     "iopub.execute_input": "2024-06-25T13:28:03.933223Z",
     "iopub.status.busy": "2024-06-25T13:28:03.931223Z",
     "iopub.status.idle": "2024-06-25T13:28:03.937890Z",
     "shell.execute_reply": "2024-06-25T13:28:03.937366Z"
    }
   },
   "outputs": [],
   "source": []
  },
  {
   "cell_type": "code",
   "execution_count": 17,
   "metadata": {
    "execution": {
     "iopub.execute_input": "2024-06-25T13:34:48.397087Z",
     "iopub.status.busy": "2024-06-25T13:34:48.395517Z",
     "iopub.status.idle": "2024-06-25T13:34:48.406359Z",
     "shell.execute_reply": "2024-06-25T13:34:48.406359Z"
    }
   },
   "outputs": [
    {
     "data": {
      "text/plain": [
       "{'pressure', 'temp', 'vibrations'}"
      ]
     },
     "execution_count": 17,
     "metadata": {},
     "output_type": "execute_result"
    }
   ],
   "source": [
    "# séparation de la colonne sensor_data en plusieurs colonne\n",
    "# 1- regarder les diffrent sensor \n",
    "\n",
    "list_sensor = list()\n",
    "\n",
    "for elem in df_logs_vols['sensor_data']:\n",
    "\n",
    "    elem = elem.replace('\\'', '\"')\n",
    "    elem = json.loads(elem.replace('\\'', '\"'))\n",
    "\n",
    "\n",
    "    for key in elem.keys():\n",
    "        if key not in list_sensor:\n",
    "            list_sensor.append(key)\n",
    "\n",
    "list_sensor = set(list_sensor)\n",
    "\n",
    "list_sensor"
   ]
  },
  {
   "cell_type": "code",
   "execution_count": 18,
   "metadata": {
    "execution": {
     "iopub.execute_input": "2024-06-25T13:34:48.410953Z",
     "iopub.status.busy": "2024-06-25T13:34:48.410953Z",
     "iopub.status.idle": "2024-06-25T13:34:48.420701Z",
     "shell.execute_reply": "2024-06-25T13:34:48.420701Z"
    }
   },
   "outputs": [],
   "source": [
    "# dÃ©coupage des sensor en colonne en supprimant les unitÃ©s de la colonne et ajoutant une col unité\n",
    "\n",
    "#patternn de sÃ©paration des unitÃ©\n",
    "pattern = r\"([-+]?\\d*\\.?\\d+)((Â°C)?( hPa)?( m/s²)?)\"\n",
    "\n",
    "for sensor in list_sensor:\n",
    "    df_logs_vols[sensor] = df_logs_vols['sensor_data'].apply(lambda x: re.match(pattern, json.loads(x.replace('\\'', '\"')).get(sensor)).group(1))\n",
    "    df_logs_vols[f'{sensor}_unit'] = df_logs_vols['sensor_data'].apply(lambda x: re.match(pattern, json.loads(x.replace('\\'', '\"')).get(sensor)).group(2))\n"
   ]
  },
  {
   "cell_type": "code",
   "execution_count": 19,
   "metadata": {
    "execution": {
     "iopub.execute_input": "2024-06-25T13:34:48.424896Z",
     "iopub.status.busy": "2024-06-25T13:34:48.424896Z",
     "iopub.status.idle": "2024-06-25T13:34:48.428400Z",
     "shell.execute_reply": "2024-06-25T13:34:48.428400Z"
    }
   },
   "outputs": [],
   "source": [
    "# passage des variables des sensors en float\n",
    "\n",
    "for sensor in list_sensor:\n",
    "    df_logs_vols[sensor] = df_logs_vols[sensor].astype(float)"
   ]
  },
  {
   "cell_type": "code",
   "execution_count": 20,
   "metadata": {
    "execution": {
     "iopub.execute_input": "2024-06-25T13:34:48.431885Z",
     "iopub.status.busy": "2024-06-25T13:34:48.431885Z",
     "iopub.status.idle": "2024-06-25T13:34:48.442283Z",
     "shell.execute_reply": "2024-06-25T13:34:48.442283Z"
    }
   },
   "outputs": [
    {
     "data": {
      "text/html": [
       "<div>\n",
       "<style scoped>\n",
       "    .dataframe tbody tr th:only-of-type {\n",
       "        vertical-align: middle;\n",
       "    }\n",
       "\n",
       "    .dataframe tbody tr th {\n",
       "        vertical-align: top;\n",
       "    }\n",
       "\n",
       "    .dataframe thead th {\n",
       "        text-align: right;\n",
       "    }\n",
       "</style>\n",
       "<table border=\"1\" class=\"dataframe\">\n",
       "  <thead>\n",
       "    <tr style=\"text-align: right;\">\n",
       "      <th></th>\n",
       "      <th>ref_vol</th>\n",
       "      <th>aero_linked</th>\n",
       "      <th>jour_vol</th>\n",
       "      <th>time_en_air</th>\n",
       "      <th>sensor_data</th>\n",
       "      <th>etat_voyant</th>\n",
       "      <th>vibrations</th>\n",
       "      <th>vibrations_unit</th>\n",
       "      <th>pressure</th>\n",
       "      <th>pressure_unit</th>\n",
       "      <th>temp</th>\n",
       "      <th>temp_unit</th>\n",
       "    </tr>\n",
       "  </thead>\n",
       "  <tbody>\n",
       "    <tr>\n",
       "      <th>0</th>\n",
       "      <td>V05387875</td>\n",
       "      <td>A380_6283</td>\n",
       "      <td>2024-06-15</td>\n",
       "      <td>5.6</td>\n",
       "      <td>{'temp': '-16.9°C', 'pressure': '993.3 hPa', '...</td>\n",
       "      <td>1</td>\n",
       "      <td>1.567379</td>\n",
       "      <td>m/s²</td>\n",
       "      <td>993.3</td>\n",
       "      <td>hPa</td>\n",
       "      <td>-16.9</td>\n",
       "      <td></td>\n",
       "    </tr>\n",
       "    <tr>\n",
       "      <th>1</th>\n",
       "      <td>V00358714</td>\n",
       "      <td>A330_3519</td>\n",
       "      <td>2024-06-15</td>\n",
       "      <td>4.8</td>\n",
       "      <td>{'temp': '6.9°C', 'pressure': '1006.2 hPa', 'v...</td>\n",
       "      <td>0</td>\n",
       "      <td>0.769160</td>\n",
       "      <td>m/s²</td>\n",
       "      <td>1006.2</td>\n",
       "      <td>hPa</td>\n",
       "      <td>6.9</td>\n",
       "      <td></td>\n",
       "    </tr>\n",
       "    <tr>\n",
       "      <th>2</th>\n",
       "      <td>V03581109</td>\n",
       "      <td>B777_3944</td>\n",
       "      <td>2024-06-15</td>\n",
       "      <td>3.5</td>\n",
       "      <td>{'temp': '9.6°C', 'pressure': '828.2 hPa', 'vi...</td>\n",
       "      <td>0</td>\n",
       "      <td>4.297897</td>\n",
       "      <td>m/s²</td>\n",
       "      <td>828.2</td>\n",
       "      <td>hPa</td>\n",
       "      <td>9.6</td>\n",
       "      <td></td>\n",
       "    </tr>\n",
       "    <tr>\n",
       "      <th>3</th>\n",
       "      <td>V04236197</td>\n",
       "      <td>A350_4789</td>\n",
       "      <td>2024-06-15</td>\n",
       "      <td>2.2</td>\n",
       "      <td>{'temp': '-4.4°C', 'pressure': '855.4 hPa', 'v...</td>\n",
       "      <td>0</td>\n",
       "      <td>2.120253</td>\n",
       "      <td>m/s²</td>\n",
       "      <td>855.4</td>\n",
       "      <td>hPa</td>\n",
       "      <td>-4.4</td>\n",
       "      <td></td>\n",
       "    </tr>\n",
       "    <tr>\n",
       "      <th>4</th>\n",
       "      <td>V06334255</td>\n",
       "      <td>CRJ900_5500</td>\n",
       "      <td>2024-06-15</td>\n",
       "      <td>9.3</td>\n",
       "      <td>{'temp': '10.1°C', 'pressure': '965.8 hPa', 'v...</td>\n",
       "      <td>0</td>\n",
       "      <td>0.848859</td>\n",
       "      <td>m/s²</td>\n",
       "      <td>965.8</td>\n",
       "      <td>hPa</td>\n",
       "      <td>10.1</td>\n",
       "      <td></td>\n",
       "    </tr>\n",
       "  </tbody>\n",
       "</table>\n",
       "</div>"
      ],
      "text/plain": [
       "     ref_vol  aero_linked   jour_vol  time_en_air  \\\n",
       "0  V05387875    A380_6283 2024-06-15          5.6   \n",
       "1  V00358714    A330_3519 2024-06-15          4.8   \n",
       "2  V03581109    B777_3944 2024-06-15          3.5   \n",
       "3  V04236197    A350_4789 2024-06-15          2.2   \n",
       "4  V06334255  CRJ900_5500 2024-06-15          9.3   \n",
       "\n",
       "                                         sensor_data  etat_voyant  vibrations  \\\n",
       "0  {'temp': '-16.9°C', 'pressure': '993.3 hPa', '...            1    1.567379   \n",
       "1  {'temp': '6.9°C', 'pressure': '1006.2 hPa', 'v...            0    0.769160   \n",
       "2  {'temp': '9.6°C', 'pressure': '828.2 hPa', 'vi...            0    4.297897   \n",
       "3  {'temp': '-4.4°C', 'pressure': '855.4 hPa', 'v...            0    2.120253   \n",
       "4  {'temp': '10.1°C', 'pressure': '965.8 hPa', 'v...            0    0.848859   \n",
       "\n",
       "  vibrations_unit  pressure pressure_unit  temp temp_unit  \n",
       "0            m/s²     993.3           hPa -16.9            \n",
       "1            m/s²    1006.2           hPa   6.9            \n",
       "2            m/s²     828.2           hPa   9.6            \n",
       "3            m/s²     855.4           hPa  -4.4            \n",
       "4            m/s²     965.8           hPa  10.1            "
      ]
     },
     "execution_count": 20,
     "metadata": {},
     "output_type": "execute_result"
    }
   ],
   "source": [
    "df_logs_vols.head()"
   ]
  },
  {
   "cell_type": "markdown",
   "metadata": {},
   "source": [
    "## Connexion et insertion des donnÃ©es dans la bdd"
   ]
  },
  {
   "cell_type": "markdown",
   "metadata": {},
   "source": [
    "### Connexion Ã  la bdd"
   ]
  },
  {
   "cell_type": "code",
   "execution_count": 21,
   "metadata": {
    "execution": {
     "iopub.execute_input": "2024-06-25T13:34:48.445289Z",
     "iopub.status.busy": "2024-06-25T13:34:48.445289Z",
     "iopub.status.idle": "2024-06-25T13:34:48.608801Z",
     "shell.execute_reply": "2024-06-25T13:34:48.608277Z"
    }
   },
   "outputs": [],
   "source": [
    "# DÃ©finition des paramÃ¨tres de connexion Ã  la base de donnÃ©es\n",
    "username = 'postgres'\n",
    "password = 'admin'\n",
    "host = 'localhost'\n",
    "port = '5432'\n",
    "dbname = 'preventive_maintenance'\n",
    "\n",
    "# Configuration de la connexion Ã  la base de donnÃ©es PostgreSQL\n",
    "connection_str = f'postgresql+psycopg2://{username}:{password}@{host}:{port}/{dbname}'\n",
    "engine = create_engine(connection_str, echo = False)\n",
    "\n",
    "# generation de l'obet bdd\n",
    "metadata = MetaData()\n",
    "metadata.reflect(bind=engine)\n"
   ]
  },
  {
   "cell_type": "markdown",
   "metadata": {},
   "source": [
    "### declaration des tables"
   ]
  },
  {
   "cell_type": "code",
   "execution_count": 22,
   "metadata": {
    "execution": {
     "iopub.execute_input": "2024-06-25T13:34:48.613811Z",
     "iopub.status.busy": "2024-06-25T13:34:48.612812Z",
     "iopub.status.idle": "2024-06-25T13:34:48.623031Z",
     "shell.execute_reply": "2024-06-25T13:34:48.623031Z"
    }
   },
   "outputs": [],
   "source": [
    "aeronefs = Table(\n",
    "    'aeronefs', metadata,\n",
    "    )\n",
    "\n",
    "composants = Table(\n",
    "    'composants', metadata,\n",
    "    )\n",
    "\n",
    "degradations = Table(\n",
    "    'degradations', metadata,\n",
    "    )\n",
    "\n",
    "logs_vols = Table(\n",
    "    'logs_vols', metadata,\n",
    "    )\n",
    "\n",
    "aeronefs_cdc = Table(\n",
    "    'aeronefs_cdc', metadata,\n",
    "    )\n",
    "\n",
    "composants_cdc = Table(\n",
    "    'composants_cdc', metadata,\n",
    "    )\n",
    "\n",
    "degradations_cdc = Table(\n",
    "    'degradations_cdc', metadata,\n",
    "    )\n",
    "\n",
    "logs_vols_cdc = Table(\n",
    "    'logs_vols_cdc', metadata,\n",
    "    )\n",
    "\n",
    "metadata.create_all(engine)"
   ]
  },
  {
   "cell_type": "markdown",
   "metadata": {},
   "source": [
    "### insertion des donnÃ©es"
   ]
  },
  {
   "cell_type": "code",
   "execution_count": 23,
   "metadata": {
    "execution": {
     "iopub.execute_input": "2024-06-25T13:34:48.626039Z",
     "iopub.status.busy": "2024-06-25T13:34:48.626039Z",
     "iopub.status.idle": "2024-06-25T13:34:48.635983Z",
     "shell.execute_reply": "2024-06-25T13:34:48.635983Z"
    }
   },
   "outputs": [],
   "source": [
    "\n",
    "def maj_table(df:pd.DataFrame, table : Table, table_cdc : Table)->None:  # , ref_temp: str, data_to:dict[str:str, str:Date, str:int]\n",
    "    \"\"\"\n",
    "    InsÃ¨re ou met Ã  jour les donnÃ©es d'une table SQL Ã  partir d'un DataFrame Pandas.\n",
    "\n",
    "    Pour chaque ligne du DataFrame, la fonction vÃ©rifie si la rÃ©fÃ©rence (ref_aero) existe dÃ©jÃ  dans la table.\n",
    "    Si la rÃ©fÃ©rence n'existe pas, la ligne est insÃ©rÃ©e. Si la rÃ©fÃ©rence existe et que les donnÃ©es sont diffÃ©rentes,\n",
    "    la ligne est mise Ã  jour.\n",
    "\n",
    "    Parameters\n",
    "    ----------\n",
    "    df : pd.DataFrame\n",
    "        DataFrame contenant les donnÃ©es Ã  insÃ©rer ou mettre Ã  jour dans la table.\n",
    "    table : Table\n",
    "        Objet Table de SQLAlchemy reprÃ©sentant la table dans laquelle les donnÃ©es seront insÃ©rÃ©es ou mises Ã  jour.\n",
    "    \"\"\"   \n",
    "    with engine.connect() as connection:\n",
    "        \n",
    "        comptage_insertion = 0\n",
    "        comptage_update = 0\n",
    "\n",
    "        # Parcour de l'ensemble des lignes du df Ã  inserer\n",
    "        for row in df.itertuples(index=False):\n",
    "\n",
    "            data_to = {}\n",
    "            \n",
    "            # PrÃ©paration des donnÃ©es Ã  inserer ou updater\n",
    "            column_names = df.columns\n",
    "\n",
    "            for index, col in zip(range(len(row)), column_names):\n",
    "\n",
    "                if row[index]  is not pd.NaT:\n",
    "                    data_to[col] = row[index]\n",
    "                else : \n",
    "                    data_to[col] = None\n",
    "\n",
    "\n",
    "            primary_key_columns = table.primary_key.columns.keys()\n",
    "            \n",
    "            # RÃ©cupÃ©ration de la valeur de la colonne reference/primarykey\n",
    "            # Verification si la clÃ© existe dans le dataframe\n",
    "            if primary_key_columns[0] in data_to:\n",
    "                ref_temp = data_to[primary_key_columns[0]]\n",
    "            else : \n",
    "                break\n",
    "\n",
    "            # identification si la ref est dÃ©jÃ  prÃ©sente ou non dans la table \n",
    "            sel = table.select().where(table.c[primary_key_columns[0]] == ref_temp)\n",
    "            result = connection.execute(sel)   \n",
    "            row_in_table = result.fetchone()    \n",
    "\n",
    "            # # identification si les infos sont dejÃ  existantes dans la table cdc \n",
    "            # sel = table_cdc.select().where(table_cdc.c[primary_key_columns[0]] == ref_temp)\n",
    "            # result = connection.execute(sel)   \n",
    "            # row_in_table = result.fetchone()   \n",
    "\n",
    "            if row_in_table is None: \n",
    "                \n",
    "                #insertion de la ligne dans la table\n",
    "                connection.execute(table.insert().values(data_to))\n",
    "                comptage_insertion += 1\n",
    "\n",
    "            else:\n",
    "                # mise au mÃªme format de row et row_in_table pour les dates\n",
    "                row1 = [i for i in row]\n",
    "                row2 = [i for i in row_in_table]\n",
    "\n",
    "                for i, elem in enumerate(row2):\n",
    "\n",
    "                    if isinstance(elem, datetime.date) or elem is None:\n",
    "\n",
    "                        row2[i] = pd.Timestamp(row2[i])\n",
    "\n",
    "                # Ajout de la condition de doublon ou non\n",
    "                if row1 != row2 and row1[0] == row2[0]:\n",
    "                    # update de la ligne dans la table si non doublon\n",
    "                    connection.execute(table.update().where(table.c[primary_key_columns[0]] == ref_temp).values(data_to))\n",
    "                    # Information sur la mise Ã  jour\n",
    "                    print(f'Comparaison des donnÃ©es pour MÃ J : \\n{row1}\\n{row2}\\n')\n",
    "                    \n",
    "                    comptage_update += 1\n",
    "                \n",
    "            # Commit dans la table des insertions ou update \n",
    "            connection.commit()\n",
    "\n",
    "        # Affichage des rÃ©sultats\n",
    "        print(f'Nombre de lignes insÃ©rÃ©es : {comptage_insertion}')\n",
    "        print(f'Nombre de lignes mises Ã  jour : {comptage_update}')\n",
    "\n",
    "\n"
   ]
  },
  {
   "cell_type": "code",
   "execution_count": 24,
   "metadata": {
    "execution": {
     "iopub.execute_input": "2024-06-25T13:34:48.639467Z",
     "iopub.status.busy": "2024-06-25T13:34:48.639467Z",
     "iopub.status.idle": "2024-06-25T13:34:48.642357Z",
     "shell.execute_reply": "2024-06-25T13:34:48.642357Z"
    }
   },
   "outputs": [],
   "source": [
    "# maj_table(df_aeronef, aeronefs, aeronefs_cdc)"
   ]
  },
  {
   "cell_type": "code",
   "execution_count": 25,
   "metadata": {
    "execution": {
     "iopub.execute_input": "2024-06-25T13:34:48.645363Z",
     "iopub.status.busy": "2024-06-25T13:34:48.645363Z",
     "iopub.status.idle": "2024-06-25T13:34:48.649658Z",
     "shell.execute_reply": "2024-06-25T13:34:48.649050Z"
    }
   },
   "outputs": [],
   "source": [
    "# maj_table(df_composants, composants, composants_cdc)"
   ]
  },
  {
   "cell_type": "code",
   "execution_count": 26,
   "metadata": {
    "execution": {
     "iopub.execute_input": "2024-06-25T13:34:48.652717Z",
     "iopub.status.busy": "2024-06-25T13:34:48.652717Z",
     "iopub.status.idle": "2024-06-25T13:34:56.612822Z",
     "shell.execute_reply": "2024-06-25T13:34:56.611813Z"
    }
   },
   "outputs": [
    {
     "name": "stdout",
     "output_type": "stream",
     "text": [
      "Nombre de lignes insÃ©rÃ©es : 3960\n",
      "Nombre de lignes mises Ã  jour : 0\n"
     ]
    }
   ],
   "source": [
    "maj_table(df_degradations, degradations, degradations_cdc)"
   ]
  },
  {
   "cell_type": "code",
   "execution_count": 27,
   "metadata": {
    "execution": {
     "iopub.execute_input": "2024-06-25T13:34:56.615824Z",
     "iopub.status.busy": "2024-06-25T13:34:56.615824Z",
     "iopub.status.idle": "2024-06-25T13:34:56.745608Z",
     "shell.execute_reply": "2024-06-25T13:34:56.744599Z"
    }
   },
   "outputs": [
    {
     "name": "stdout",
     "output_type": "stream",
     "text": [
      "Nombre de lignes insÃ©rÃ©es : 88\n",
      "Nombre de lignes mises Ã  jour : 0\n"
     ]
    }
   ],
   "source": [
    "maj_table(df_logs_vols, logs_vols, logs_vols_cdc)"
   ]
  }
 ],
 "metadata": {
  "kernelspec": {
   "display_name": "Python 3",
   "language": "python",
   "name": "python3"
  },
  "language_info": {
   "codemirror_mode": {
    "name": "ipython",
    "version": 3
   },
   "file_extension": ".py",
   "mimetype": "text/x-python",
   "name": "python",
   "nbconvert_exporter": "python",
   "pygments_lexer": "ipython3",
   "version": "3.12.3"
  }
 },
 "nbformat": 4,
 "nbformat_minor": 2
}
