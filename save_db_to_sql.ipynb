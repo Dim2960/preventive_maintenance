{
 "cells": [
  {
   "cell_type": "code",
   "execution_count": 3,
   "metadata": {},
   "outputs": [],
   "source": [
    "import pandas as pd\n",
    "from sqlalchemy import create_engine,  MetaData, Table, Column, Date, String, Boolean\n",
    "\n",
    "import datetime"
   ]
  },
  {
   "cell_type": "markdown",
   "metadata": {},
   "source": [
    "## Ouverture des csv en dataframe"
   ]
  },
  {
   "cell_type": "markdown",
   "metadata": {},
   "source": [
    "### aeronefs"
   ]
  },
  {
   "cell_type": "code",
   "execution_count": 4,
   "metadata": {},
   "outputs": [],
   "source": [
    "# ouvrir csv pour mettre en data frame\n",
    "df_aeronef = pd.read_csv(r'dataset\\aeronefs_clean.csv')"
   ]
  },
  {
   "cell_type": "code",
   "execution_count": 5,
   "metadata": {},
   "outputs": [],
   "source": [
    "# convertir les données avant insertion dans la table sql\n",
    "df_aeronef['debut_service'] = pd.to_datetime(df_aeronef['debut_service'])\n",
    "df_aeronef['last_maint'] = pd.to_datetime(df_aeronef['last_maint'])\n",
    "df_aeronef['end_maint'] = pd.to_datetime(df_aeronef['end_maint'])\n",
    "\n",
    "df_aeronef['en_maintenance'] = df_aeronef['en_maintenance'].astype('boolean')\n"
   ]
  },
  {
   "cell_type": "code",
   "execution_count": 6,
   "metadata": {},
   "outputs": [
    {
     "data": {
      "text/html": [
       "<div>\n",
       "<style scoped>\n",
       "    .dataframe tbody tr th:only-of-type {\n",
       "        vertical-align: middle;\n",
       "    }\n",
       "\n",
       "    .dataframe tbody tr th {\n",
       "        vertical-align: top;\n",
       "    }\n",
       "\n",
       "    .dataframe thead th {\n",
       "        text-align: right;\n",
       "    }\n",
       "</style>\n",
       "<table border=\"1\" class=\"dataframe\">\n",
       "  <thead>\n",
       "    <tr style=\"text-align: right;\">\n",
       "      <th></th>\n",
       "      <th>ref_aero</th>\n",
       "      <th>type_model</th>\n",
       "      <th>debut_service</th>\n",
       "      <th>last_maint</th>\n",
       "      <th>en_maintenance</th>\n",
       "      <th>end_maint</th>\n",
       "    </tr>\n",
       "  </thead>\n",
       "  <tbody>\n",
       "    <tr>\n",
       "      <th>0</th>\n",
       "      <td>E170_6356</td>\n",
       "      <td>E170</td>\n",
       "      <td>2000-03-17</td>\n",
       "      <td>2024-03-27</td>\n",
       "      <td>False</td>\n",
       "      <td>NaT</td>\n",
       "    </tr>\n",
       "    <tr>\n",
       "      <th>1</th>\n",
       "      <td>B767_2803</td>\n",
       "      <td>B767</td>\n",
       "      <td>2020-12-03</td>\n",
       "      <td>2024-06-01</td>\n",
       "      <td>False</td>\n",
       "      <td>NaT</td>\n",
       "    </tr>\n",
       "    <tr>\n",
       "      <th>2</th>\n",
       "      <td>CRJ700_6943</td>\n",
       "      <td>CRJ700</td>\n",
       "      <td>2015-01-29</td>\n",
       "      <td>2024-06-02</td>\n",
       "      <td>True</td>\n",
       "      <td>2024-06-03 14:13:00</td>\n",
       "    </tr>\n",
       "    <tr>\n",
       "      <th>3</th>\n",
       "      <td>A350_1177</td>\n",
       "      <td>A350</td>\n",
       "      <td>2005-08-07</td>\n",
       "      <td>2024-01-04</td>\n",
       "      <td>False</td>\n",
       "      <td>NaT</td>\n",
       "    </tr>\n",
       "    <tr>\n",
       "      <th>4</th>\n",
       "      <td>B777_4029</td>\n",
       "      <td>B777</td>\n",
       "      <td>2009-01-01</td>\n",
       "      <td>2024-06-01</td>\n",
       "      <td>False</td>\n",
       "      <td>NaT</td>\n",
       "    </tr>\n",
       "    <tr>\n",
       "      <th>...</th>\n",
       "      <td>...</td>\n",
       "      <td>...</td>\n",
       "      <td>...</td>\n",
       "      <td>...</td>\n",
       "      <td>...</td>\n",
       "      <td>...</td>\n",
       "    </tr>\n",
       "    <tr>\n",
       "      <th>227</th>\n",
       "      <td>B737_4369</td>\n",
       "      <td>B737</td>\n",
       "      <td>2010-01-05</td>\n",
       "      <td>2024-06-01</td>\n",
       "      <td>False</td>\n",
       "      <td>NaT</td>\n",
       "    </tr>\n",
       "    <tr>\n",
       "      <th>228</th>\n",
       "      <td>A340_4021</td>\n",
       "      <td>A340</td>\n",
       "      <td>2004-12-13</td>\n",
       "      <td>2024-05-31</td>\n",
       "      <td>False</td>\n",
       "      <td>NaT</td>\n",
       "    </tr>\n",
       "    <tr>\n",
       "      <th>229</th>\n",
       "      <td>CRJ900_1740</td>\n",
       "      <td>CRJ900</td>\n",
       "      <td>2003-07-20</td>\n",
       "      <td>2024-06-01</td>\n",
       "      <td>False</td>\n",
       "      <td>NaT</td>\n",
       "    </tr>\n",
       "    <tr>\n",
       "      <th>230</th>\n",
       "      <td>E170_5551</td>\n",
       "      <td>E170</td>\n",
       "      <td>2021-04-10</td>\n",
       "      <td>2024-06-01</td>\n",
       "      <td>False</td>\n",
       "      <td>NaT</td>\n",
       "    </tr>\n",
       "    <tr>\n",
       "      <th>231</th>\n",
       "      <td>CRJ700_2988</td>\n",
       "      <td>CRJ700</td>\n",
       "      <td>2000-10-25</td>\n",
       "      <td>2024-02-01</td>\n",
       "      <td>False</td>\n",
       "      <td>NaT</td>\n",
       "    </tr>\n",
       "  </tbody>\n",
       "</table>\n",
       "<p>232 rows × 6 columns</p>\n",
       "</div>"
      ],
      "text/plain": [
       "        ref_aero type_model debut_service last_maint  en_maintenance  \\\n",
       "0      E170_6356       E170    2000-03-17 2024-03-27           False   \n",
       "1      B767_2803       B767    2020-12-03 2024-06-01           False   \n",
       "2    CRJ700_6943     CRJ700    2015-01-29 2024-06-02            True   \n",
       "3      A350_1177       A350    2005-08-07 2024-01-04           False   \n",
       "4      B777_4029       B777    2009-01-01 2024-06-01           False   \n",
       "..           ...        ...           ...        ...             ...   \n",
       "227    B737_4369       B737    2010-01-05 2024-06-01           False   \n",
       "228    A340_4021       A340    2004-12-13 2024-05-31           False   \n",
       "229  CRJ900_1740     CRJ900    2003-07-20 2024-06-01           False   \n",
       "230    E170_5551       E170    2021-04-10 2024-06-01           False   \n",
       "231  CRJ700_2988     CRJ700    2000-10-25 2024-02-01           False   \n",
       "\n",
       "              end_maint  \n",
       "0                   NaT  \n",
       "1                   NaT  \n",
       "2   2024-06-03 14:13:00  \n",
       "3                   NaT  \n",
       "4                   NaT  \n",
       "..                  ...  \n",
       "227                 NaT  \n",
       "228                 NaT  \n",
       "229                 NaT  \n",
       "230                 NaT  \n",
       "231                 NaT  \n",
       "\n",
       "[232 rows x 6 columns]"
      ]
     },
     "execution_count": 6,
     "metadata": {},
     "output_type": "execute_result"
    }
   ],
   "source": [
    "df_aeronef"
   ]
  },
  {
   "cell_type": "markdown",
   "metadata": {},
   "source": [
    "### Composants"
   ]
  },
  {
   "cell_type": "code",
   "execution_count": null,
   "metadata": {},
   "outputs": [],
   "source": [
    "# ouvrir csv pour mettre en data frame\n",
    "df_composants = pd.read_csv(r'dataset\\composants_clean.csv')"
   ]
  },
  {
   "cell_type": "code",
   "execution_count": null,
   "metadata": {},
   "outputs": [],
   "source": [
    "# convertir les données avant insertion dans la table sql\n",
    "df_composants['debut_service'] = pd.to_datetime(df_composants['debut_service'])\n",
    "df_composants['last_maint'] = pd.to_datetime(df_composants['last_maint'])\n",
    "df_composants['end_maint'] = pd.to_datetime(df_composants['end_maint'])\n",
    "\n",
    "df_composants['en_maintenance'] = df_composants['en_maintenance'].astype('boolean')\n"
   ]
  },
  {
   "cell_type": "code",
   "execution_count": null,
   "metadata": {},
   "outputs": [],
   "source": [
    "df_aeronef"
   ]
  },
  {
   "cell_type": "markdown",
   "metadata": {},
   "source": [
    "## Connexion et insertion des données dans la bdd"
   ]
  },
  {
   "cell_type": "markdown",
   "metadata": {},
   "source": [
    "### Connexion à la bdd"
   ]
  },
  {
   "cell_type": "code",
   "execution_count": 7,
   "metadata": {},
   "outputs": [],
   "source": [
    "# Définition des paramètres de connexion à la base de données\n",
    "username = 'postgres'\n",
    "password = 'admin'\n",
    "host = 'localhost'\n",
    "port = '5432'\n",
    "dbname = 'preventive_maintenance'\n",
    "\n",
    "# Configuration de la connexion à la base de données PostgreSQL\n",
    "connection_str = f'postgresql+psycopg2://{username}:{password}@{host}:{port}/{dbname}'\n",
    "engine = create_engine(connection_str, echo = False)\n",
    "\n",
    "# # Connexion à la base de données\n",
    "# connection = engine.connect()\n",
    "\n",
    "# generation de l'obet bdd\n",
    "metadata = MetaData()\n",
    "metadata.reflect(bind=engine)\n"
   ]
  },
  {
   "cell_type": "markdown",
   "metadata": {},
   "source": [
    "### declaration des tables"
   ]
  },
  {
   "cell_type": "code",
   "execution_count": 84,
   "metadata": {},
   "outputs": [],
   "source": [
    "aeronefs = Table(\n",
    "    'aeronefs', metadata,\n",
    "    )\n",
    "\n",
    "composants = Table(\n",
    "    'composants', metadata,\n",
    "    )\n",
    "\n",
    "degradations = Table(\n",
    "    'degradations', metadata,\n",
    "    )\n",
    "\n",
    "logs_vols = Table(\n",
    "    'logs_vols', metadata,\n",
    "    )\n",
    "\n",
    "metadata.create_all(engine)"
   ]
  },
  {
   "cell_type": "markdown",
   "metadata": {},
   "source": [
    "### insertion des données"
   ]
  },
  {
   "cell_type": "code",
   "execution_count": 96,
   "metadata": {},
   "outputs": [],
   "source": [
    "\n",
    "def maj_table(df:pd.DataFrame, table : Table)->None:  # , ref_temp: str, data_to:dict[str:str, str:Date, str:int]\n",
    "    \"\"\"\n",
    "    Insère ou met à jour les données d'une table SQL à partir d'un DataFrame Pandas.\n",
    "\n",
    "    Pour chaque ligne du DataFrame, la fonction vérifie si la référence (ref_aero) existe déjà dans la table.\n",
    "    Si la référence n'existe pas, la ligne est insérée. Si la référence existe et que les données sont différentes,\n",
    "    la ligne est mise à jour.\n",
    "\n",
    "    Parameters\n",
    "    ----------\n",
    "    df : pd.DataFrame\n",
    "        DataFrame contenant les données à insérer ou mettre à jour dans la table.\n",
    "    table : Table\n",
    "        Objet Table de SQLAlchemy représentant la table dans laquelle les données seront insérées ou mises à jour.\n",
    "    \"\"\"\n",
    "    with engine.connect() as connection:\n",
    "        \n",
    "        comptage_insertion = 0\n",
    "        comptage_update = 0\n",
    "\n",
    "        # Parcour de l'ensemble des lignes du df à inserer\n",
    "        for row in df.itertuples(index=False):\n",
    "\n",
    "            data_to = {}\n",
    "            \n",
    "            # Récupération de la valeur de la colonne ref_aero\n",
    "            ref_temp = row[0]\n",
    "\n",
    "            # Préparation des données à inserer ou updater\n",
    "            column_names = df.columns\n",
    "\n",
    "            for index, col in zip(range(len(row)), column_names):\n",
    "\n",
    "                if row[index]  is not pd.NaT:\n",
    "                    data_to[col] = row[index]\n",
    "                else : \n",
    "                    data_to[col] = None\n",
    "\n",
    "\n",
    "            # identification si la ref_aero est déjà présente ou non dans la table \n",
    "            sel = table.select().where(table.c.ref_aero == ref_temp)\n",
    "            result = connection.execute(sel)   \n",
    "            row_in_table = result.fetchone()    \n",
    "\n",
    "            if row_in_table is None: \n",
    "                \n",
    "                #insertion de la ligne dans la table\n",
    "                connection.execute(table.insert().values(data_to))\n",
    "                comptage_insertion += 1\n",
    "\n",
    "            else:\n",
    "                # mise au même format de row et row_in_table pour les dates\n",
    "                row1 = [i for i in row]\n",
    "                row2 = [i for i in row_in_table]\n",
    "\n",
    "                for i, elem in enumerate(row2):\n",
    "\n",
    "                    if isinstance(elem, datetime.date) or elem is None:\n",
    "\n",
    "                        row2[i] = pd.Timestamp(row2[i])\n",
    "\n",
    "                # Ajout de la condition de doublon ou non\n",
    "                if row1 != row2 and row1[0] == row2[0]:\n",
    "                    # update de la ligne dans la table si non doublon\n",
    "                    connection.execute(table.update().where(table.c.ref_aero == ref_temp).values(data_to))\n",
    "                    # Information sur la mise à jour\n",
    "                    print(f'Comparaison des données pour MàJ : \\n{row1}\\n{row2}\\n')\n",
    "                    \n",
    "                    comptage_update += 1\n",
    "                \n",
    "            # Commit dans la table des insertions ou update \n",
    "            connection.commit()\n",
    "\n",
    "    # Affichage des résultats\n",
    "    print(f'Nombre de lignes insérées : {comptage_insertion}')\n",
    "    print(f'Nombre de lignes mises à jour : {comptage_update}')\n"
   ]
  },
  {
   "cell_type": "code",
   "execution_count": 97,
   "metadata": {},
   "outputs": [
    {
     "name": "stdout",
     "output_type": "stream",
     "text": [
      "Comparaison des données pour MàJ : \n",
      "['E170_5551', 'E170', Timestamp('2021-04-10 00:00:00'), Timestamp('2024-06-01 00:00:00'), False, NaT]\n",
      "['E170_5551', 'E170', Timestamp('2017-02-07 00:00:00'), Timestamp('2024-06-01 00:00:00'), False, NaT]\n",
      "\n",
      "Nombre de lignes insérées : 231\n",
      "Nombre de lignes mises à jour : 1\n"
     ]
    }
   ],
   "source": [
    "maj_table(df_aeronef, aeronefs)"
   ]
  },
  {
   "cell_type": "code",
   "execution_count": null,
   "metadata": {},
   "outputs": [],
   "source": [
    "maj_table(df_composants, composants)"
   ]
  }
 ],
 "metadata": {
  "kernelspec": {
   "display_name": "Python 3",
   "language": "python",
   "name": "python3"
  },
  "language_info": {
   "codemirror_mode": {
    "name": "ipython",
    "version": 3
   },
   "file_extension": ".py",
   "mimetype": "text/x-python",
   "name": "python",
   "nbconvert_exporter": "python",
   "pygments_lexer": "ipython3",
   "version": "3.12.3"
  }
 },
 "nbformat": 4,
 "nbformat_minor": 2
}
