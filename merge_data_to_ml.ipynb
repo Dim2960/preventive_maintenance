{
 "cells": [
  {
   "cell_type": "code",
   "execution_count": 17,
   "metadata": {},
   "outputs": [],
   "source": [
    "import pandas as pd\n",
    "\n",
    "import mysql.connector\n",
    "\n",
    "from sqlalchemy import create_engine\n",
    "\n",
    "from skimpy import skim"
   ]
  },
  {
   "cell_type": "markdown",
   "metadata": {},
   "source": [
    "# 0- importation des données en df"
   ]
  },
  {
   "cell_type": "code",
   "execution_count": 2,
   "metadata": {},
   "outputs": [],
   "source": [
    "username = 'postgres'\n",
    "password = 'admin'\n",
    "host = '127.0.0.1'  # ou l'adresse IP de votre serveur PostgreSQL\n",
    "port = '5432'  # le port par défaut pour PostgreSQL est 5432\n",
    "database = 'preventive_maintenance'\n",
    "\n",
    "# Créer l'URL de connexion\n",
    "db_url = f'postgresql+psycopg2://{username}:{password}@{host}:{port}/{database}'\n",
    "\n",
    "# Créer le moteur SQLAlchemy\n",
    "engine = create_engine(db_url)\n",
    "\n",
    "# Se connecter à la base de données\n",
    "connexion = engine.connect()\n"
   ]
  },
  {
   "cell_type": "code",
   "execution_count": 3,
   "metadata": {},
   "outputs": [],
   "source": [
    "df_aero = pd.read_sql_query('''\n",
    "                  SELECT * \n",
    "                  FROM aeronefs\n",
    "                  ''', connexion)\n"
   ]
  },
  {
   "cell_type": "code",
   "execution_count": 4,
   "metadata": {},
   "outputs": [],
   "source": [
    "df_composants = pd.read_sql_query('''\n",
    "                  SELECT * \n",
    "                  FROM composants\n",
    "                  ''', connexion)"
   ]
  },
  {
   "cell_type": "code",
   "execution_count": 5,
   "metadata": {},
   "outputs": [],
   "source": [
    "df_degradations = pd.read_sql_query('''\n",
    "                  SELECT * \n",
    "                  FROM degradations\n",
    "                  ''', connexion)"
   ]
  },
  {
   "cell_type": "code",
   "execution_count": 6,
   "metadata": {},
   "outputs": [],
   "source": [
    "df_logs_vols = pd.read_sql_query('''\n",
    "                  SELECT * \n",
    "                  FROM logs_vols\n",
    "                  ''', connexion)"
   ]
  },
  {
   "cell_type": "code",
   "execution_count": 7,
   "metadata": {},
   "outputs": [],
   "source": [
    "connexion.close()"
   ]
  },
  {
   "cell_type": "markdown",
   "metadata": {},
   "source": [
    "# 1- merge des dataframes"
   ]
  },
  {
   "cell_type": "code",
   "execution_count": 8,
   "metadata": {},
   "outputs": [],
   "source": [
    "# merge du aeronefs et compoosants en left join avec aeronefs en left\n",
    "\n",
    "df_merge_aero_log = pd.merge(df_aero, df_logs_vols, how='inner', left_on='ref_aero', right_on='aero_linked')"
   ]
  },
  {
   "cell_type": "code",
   "execution_count": 9,
   "metadata": {},
   "outputs": [],
   "source": [
    "# merge du df_merge_aero_compo et degradations en left join avec df_merge_aero_compo en left\n",
    "\n",
    "df_merge_aero_log_degrad = pd.merge(df_merge_aero_log, df_degradations, how='inner', left_on='ref_aero', right_on='linked_aero')"
   ]
  },
  {
   "cell_type": "code",
   "execution_count": 10,
   "metadata": {},
   "outputs": [],
   "source": [
    "# merge du df_merge_aero_compo et degradations en left join avec df_merge_aero_compo en left\n",
    "\n",
    "df_merge_total = pd.merge(df_merge_aero_log_degrad, df_composants, how='left', left_on='compo_concerned', right_on='ref_compo')"
   ]
  },
  {
   "cell_type": "code",
   "execution_count": 11,
   "metadata": {},
   "outputs": [
    {
     "data": {
      "text/plain": [
       "(5140440, 32)"
      ]
     },
     "execution_count": 11,
     "metadata": {},
     "output_type": "execute_result"
    }
   ],
   "source": [
    "df_merge_total.shape"
   ]
  },
  {
   "cell_type": "markdown",
   "metadata": {},
   "source": [
    "# 2- Nettoayage du df"
   ]
  },
  {
   "cell_type": "code",
   "execution_count": 12,
   "metadata": {},
   "outputs": [
    {
     "data": {
      "text/plain": [
       "Index(['ref_aero', 'type_model', 'debut_service', 'last_maint',\n",
       "       'en_maintenance', 'end_maint', 'ref_vol', 'aero_linked', 'jour_vol',\n",
       "       'time_en_air', 'sensor_data', 'etat_voyant', 'temp', 'temp_unit',\n",
       "       'pressure', 'pressure_unit', 'vibrations', 'vibrations_unit', 'clef',\n",
       "       'ref_deg', 'linked_aero', 'compo_concerned', 'usure_nouvelle',\n",
       "       'measure_day', 'need_replacement', 'ref_compo', 'categorie', 'aero',\n",
       "       'desc_compo', 'lifespan', 'taux_usure_actuel', 'cout'],\n",
       "      dtype='object')"
      ]
     },
     "execution_count": 12,
     "metadata": {},
     "output_type": "execute_result"
    }
   ],
   "source": [
    "df_merge_total.columns"
   ]
  },
  {
   "cell_type": "code",
   "execution_count": 13,
   "metadata": {},
   "outputs": [],
   "source": [
    "df_merge_total = df_merge_total.drop(columns=[\n",
    "                            'aero_linked', \n",
    "                            'sensor_data',\n",
    "                            'temp_unit',\n",
    "                            'pressure_unit', \n",
    "                            'vibrations_unit',\n",
    "                            'linked_aero', \n",
    "                            'compo_concerned',\n",
    "                            'aero'])"
   ]
  },
  {
   "cell_type": "code",
   "execution_count": 15,
   "metadata": {},
   "outputs": [],
   "source": [
    "pd.set_option(\"display.max_columns\", None)"
   ]
  },
  {
   "cell_type": "code",
   "execution_count": 18,
   "metadata": {},
   "outputs": [
    {
     "data": {
      "text/html": [
       "<div>\n",
       "<style scoped>\n",
       "    .dataframe tbody tr th:only-of-type {\n",
       "        vertical-align: middle;\n",
       "    }\n",
       "\n",
       "    .dataframe tbody tr th {\n",
       "        vertical-align: top;\n",
       "    }\n",
       "\n",
       "    .dataframe thead th {\n",
       "        text-align: right;\n",
       "    }\n",
       "</style>\n",
       "<table border=\"1\" class=\"dataframe\">\n",
       "  <thead>\n",
       "    <tr style=\"text-align: right;\">\n",
       "      <th></th>\n",
       "      <th>ref_aero</th>\n",
       "      <th>type_model</th>\n",
       "      <th>debut_service</th>\n",
       "      <th>last_maint</th>\n",
       "      <th>en_maintenance</th>\n",
       "      <th>end_maint</th>\n",
       "      <th>ref_vol</th>\n",
       "      <th>jour_vol</th>\n",
       "      <th>time_en_air</th>\n",
       "      <th>etat_voyant</th>\n",
       "      <th>temp</th>\n",
       "      <th>pressure</th>\n",
       "      <th>vibrations</th>\n",
       "      <th>clef</th>\n",
       "      <th>ref_deg</th>\n",
       "      <th>usure_nouvelle</th>\n",
       "      <th>measure_day</th>\n",
       "      <th>need_replacement</th>\n",
       "      <th>ref_compo</th>\n",
       "      <th>categorie</th>\n",
       "      <th>desc_compo</th>\n",
       "      <th>lifespan</th>\n",
       "      <th>taux_usure_actuel</th>\n",
       "      <th>cout</th>\n",
       "    </tr>\n",
       "  </thead>\n",
       "  <tbody>\n",
       "    <tr>\n",
       "      <th>0</th>\n",
       "      <td>B767_2803</td>\n",
       "      <td>B767</td>\n",
       "      <td>2020-12-03</td>\n",
       "      <td>2024-06-01</td>\n",
       "      <td>False</td>\n",
       "      <td>NaT</td>\n",
       "      <td>V04670188</td>\n",
       "      <td>2024-06-04</td>\n",
       "      <td>0.6</td>\n",
       "      <td>0</td>\n",
       "      <td>4.6</td>\n",
       "      <td>896.2</td>\n",
       "      <td>1.72443</td>\n",
       "      <td>D003716B767_2803REAB767-B767_2803-02024-06-04</td>\n",
       "      <td>D003716</td>\n",
       "      <td>5.241075</td>\n",
       "      <td>2024-06-04</td>\n",
       "      <td>False</td>\n",
       "      <td>REAB767-B767_2803-0</td>\n",
       "      <td>Composants Critiques</td>\n",
       "      <td>Réacteur gauche</td>\n",
       "      <td>13045</td>\n",
       "      <td>4.184430</td>\n",
       "      <td>15552</td>\n",
       "    </tr>\n",
       "    <tr>\n",
       "      <th>1</th>\n",
       "      <td>B767_2803</td>\n",
       "      <td>B767</td>\n",
       "      <td>2020-12-03</td>\n",
       "      <td>2024-06-01</td>\n",
       "      <td>False</td>\n",
       "      <td>NaT</td>\n",
       "      <td>V04670188</td>\n",
       "      <td>2024-06-04</td>\n",
       "      <td>0.6</td>\n",
       "      <td>0</td>\n",
       "      <td>4.6</td>\n",
       "      <td>896.2</td>\n",
       "      <td>1.72443</td>\n",
       "      <td>D004900B767_2803REAB767-B767_2803-12024-06-04</td>\n",
       "      <td>D004900</td>\n",
       "      <td>20.329510</td>\n",
       "      <td>2024-06-04</td>\n",
       "      <td>False</td>\n",
       "      <td>REAB767-B767_2803-1</td>\n",
       "      <td>Composants Critiques</td>\n",
       "      <td>Réacteur droit</td>\n",
       "      <td>13626</td>\n",
       "      <td>19.225804</td>\n",
       "      <td>17559</td>\n",
       "    </tr>\n",
       "    <tr>\n",
       "      <th>2</th>\n",
       "      <td>B767_2803</td>\n",
       "      <td>B767</td>\n",
       "      <td>2020-12-03</td>\n",
       "      <td>2024-06-01</td>\n",
       "      <td>False</td>\n",
       "      <td>NaT</td>\n",
       "      <td>V04670188</td>\n",
       "      <td>2024-06-04</td>\n",
       "      <td>0.6</td>\n",
       "      <td>0</td>\n",
       "      <td>4.6</td>\n",
       "      <td>896.2</td>\n",
       "      <td>1.72443</td>\n",
       "      <td>D009419B767_2803SYSB767-B767_2803-22024-06-04</td>\n",
       "      <td>D009419</td>\n",
       "      <td>47.413035</td>\n",
       "      <td>2024-06-04</td>\n",
       "      <td>False</td>\n",
       "      <td>SYSB767-B767_2803-2</td>\n",
       "      <td>Composants Critiques</td>\n",
       "      <td>Système de navigation</td>\n",
       "      <td>10541</td>\n",
       "      <td>46.559214</td>\n",
       "      <td>16514</td>\n",
       "    </tr>\n",
       "  </tbody>\n",
       "</table>\n",
       "</div>"
      ],
      "text/plain": [
       "    ref_aero type_model debut_service  last_maint  en_maintenance end_maint  \\\n",
       "0  B767_2803       B767    2020-12-03  2024-06-01           False       NaT   \n",
       "1  B767_2803       B767    2020-12-03  2024-06-01           False       NaT   \n",
       "2  B767_2803       B767    2020-12-03  2024-06-01           False       NaT   \n",
       "\n",
       "     ref_vol    jour_vol  time_en_air  etat_voyant  temp  pressure  \\\n",
       "0  V04670188  2024-06-04          0.6            0   4.6     896.2   \n",
       "1  V04670188  2024-06-04          0.6            0   4.6     896.2   \n",
       "2  V04670188  2024-06-04          0.6            0   4.6     896.2   \n",
       "\n",
       "   vibrations                                           clef  ref_deg  \\\n",
       "0     1.72443  D003716B767_2803REAB767-B767_2803-02024-06-04  D003716   \n",
       "1     1.72443  D004900B767_2803REAB767-B767_2803-12024-06-04  D004900   \n",
       "2     1.72443  D009419B767_2803SYSB767-B767_2803-22024-06-04  D009419   \n",
       "\n",
       "   usure_nouvelle measure_day  need_replacement            ref_compo  \\\n",
       "0        5.241075  2024-06-04             False  REAB767-B767_2803-0   \n",
       "1       20.329510  2024-06-04             False  REAB767-B767_2803-1   \n",
       "2       47.413035  2024-06-04             False  SYSB767-B767_2803-2   \n",
       "\n",
       "              categorie             desc_compo  lifespan  taux_usure_actuel  \\\n",
       "0  Composants Critiques        Réacteur gauche     13045           4.184430   \n",
       "1  Composants Critiques         Réacteur droit     13626          19.225804   \n",
       "2  Composants Critiques  Système de navigation     10541          46.559214   \n",
       "\n",
       "    cout  \n",
       "0  15552  \n",
       "1  17559  \n",
       "2  16514  "
      ]
     },
     "execution_count": 18,
     "metadata": {},
     "output_type": "execute_result"
    }
   ],
   "source": [
    "df_merge_total.head(3)"
   ]
  },
  {
   "cell_type": "code",
   "execution_count": 19,
   "metadata": {},
   "outputs": [
    {
     "data": {
      "text/html": [
       "<pre style=\"white-space:pre;overflow-x:auto;line-height:normal;font-family:Menlo,'DejaVu Sans Mono',consolas,'Courier New',monospace\">╭──────────────────────────────────────────────── skimpy summary ─────────────────────────────────────────────────╮\n",
       "│ <span style=\"font-style: italic\">         Data Summary          </span> <span style=\"font-style: italic\">      Data Types       </span>                                                         │\n",
       "│ ┏━━━━━━━━━━━━━━━━━━━┳━━━━━━━━━┓ ┏━━━━━━━━━━━━━┳━━━━━━━┓                                                         │\n",
       "│ ┃<span style=\"color: #008080; text-decoration-color: #008080; font-weight: bold\"> dataframe         </span>┃<span style=\"color: #008080; text-decoration-color: #008080; font-weight: bold\"> Values  </span>┃ ┃<span style=\"color: #008080; text-decoration-color: #008080; font-weight: bold\"> Column Type </span>┃<span style=\"color: #008080; text-decoration-color: #008080; font-weight: bold\"> Count </span>┃                                                         │\n",
       "│ ┡━━━━━━━━━━━━━━━━━━━╇━━━━━━━━━┩ ┡━━━━━━━━━━━━━╇━━━━━━━┩                                                         │\n",
       "│ │ Number of rows    │ 5140440 │ │ string      │ 8     │                                                         │\n",
       "│ │ Number of columns │ 24      │ │ float64     │ 6     │                                                         │\n",
       "│ └───────────────────┴─────────┘ │ object      │ 4     │                                                         │\n",
       "│                                 │ int32       │ 3     │                                                         │\n",
       "│                                 │ bool        │ 2     │                                                         │\n",
       "│                                 │ datetime64  │ 1     │                                                         │\n",
       "│                                 └─────────────┴───────┘                                                         │\n",
       "│ <span style=\"font-style: italic\">                                                    number                                                    </span>  │\n",
       "│ ┏━━━━━━━━━━━━━━━━━━━━━┳━━━━━┳━━━━━━━┳━━━━━━━━━┳━━━━━━━━━┳━━━━━━━━━━━┳━━━━━━━┳━━━━━━━┳━━━━━━━┳━━━━━━━┳━━━━━━━━┓  │\n",
       "│ ┃<span style=\"font-weight: bold\"> column_name         </span>┃<span style=\"font-weight: bold\"> NA  </span>┃<span style=\"font-weight: bold\"> NA %  </span>┃<span style=\"font-weight: bold\"> mean    </span>┃<span style=\"font-weight: bold\"> sd      </span>┃<span style=\"font-weight: bold\"> p0        </span>┃<span style=\"font-weight: bold\"> p25   </span>┃<span style=\"font-weight: bold\"> p50   </span>┃<span style=\"font-weight: bold\"> p75   </span>┃<span style=\"font-weight: bold\"> p100  </span>┃<span style=\"font-weight: bold\"> hist   </span>┃  │\n",
       "│ ┡━━━━━━━━━━━━━━━━━━━━━╇━━━━━╇━━━━━━━╇━━━━━━━━━╇━━━━━━━━━╇━━━━━━━━━━━╇━━━━━━━╇━━━━━━━╇━━━━━━━╇━━━━━━━╇━━━━━━━━┩  │\n",
       "│ │ <span style=\"color: #af87ff; text-decoration-color: #af87ff\">time_en_air        </span> │ <span style=\"color: #008080; text-decoration-color: #008080\">  0</span> │ <span style=\"color: #008080; text-decoration-color: #008080\">    0</span> │ <span style=\"color: #008080; text-decoration-color: #008080\">  5.059</span> │ <span style=\"color: #008080; text-decoration-color: #008080\">  2.444</span> │ <span style=\"color: #008080; text-decoration-color: #008080\">      0.6</span> │ <span style=\"color: #008080; text-decoration-color: #008080\">  3.3</span> │ <span style=\"color: #008080; text-decoration-color: #008080\">    5</span> │ <span style=\"color: #008080; text-decoration-color: #008080\">  6.7</span> │ <span style=\"color: #008080; text-decoration-color: #008080\">   15</span> │ <span style=\"color: #008000; text-decoration-color: #008000\"> ▅▇▇▃ </span> │  │\n",
       "│ │ <span style=\"color: #af87ff; text-decoration-color: #af87ff\">etat_voyant        </span> │ <span style=\"color: #008080; text-decoration-color: #008080\">  0</span> │ <span style=\"color: #008080; text-decoration-color: #008080\">    0</span> │ <span style=\"color: #008080; text-decoration-color: #008080\"> 0.1796</span> │ <span style=\"color: #008080; text-decoration-color: #008080\"> 0.4412</span> │ <span style=\"color: #008080; text-decoration-color: #008080\">        0</span> │ <span style=\"color: #008080; text-decoration-color: #008080\">    0</span> │ <span style=\"color: #008080; text-decoration-color: #008080\">    0</span> │ <span style=\"color: #008080; text-decoration-color: #008080\">    0</span> │ <span style=\"color: #008080; text-decoration-color: #008080\">    3</span> │ <span style=\"color: #008000; text-decoration-color: #008000\"> ▇ ▁  </span> │  │\n",
       "│ │ <span style=\"color: #af87ff; text-decoration-color: #af87ff\">temp               </span> │ <span style=\"color: #008080; text-decoration-color: #008080\">  0</span> │ <span style=\"color: #008080; text-decoration-color: #008080\">    0</span> │ <span style=\"color: #008080; text-decoration-color: #008080\">  0.114</span> │ <span style=\"color: #008080; text-decoration-color: #008080\">  9.867</span> │ <span style=\"color: #008080; text-decoration-color: #008080\">    -36.5</span> │ <span style=\"color: #008080; text-decoration-color: #008080\"> -6.5</span> │ <span style=\"color: #008080; text-decoration-color: #008080\">  0.2</span> │ <span style=\"color: #008080; text-decoration-color: #008080\">  6.7</span> │ <span style=\"color: #008080; text-decoration-color: #008080\">   35</span> │ <span style=\"color: #008000; text-decoration-color: #008000\"> ▂▇▇▂ </span> │  │\n",
       "│ │ <span style=\"color: #af87ff; text-decoration-color: #af87ff\">pressure           </span> │ <span style=\"color: #008080; text-decoration-color: #008080\">  0</span> │ <span style=\"color: #008080; text-decoration-color: #008080\">    0</span> │ <span style=\"color: #008080; text-decoration-color: #008080\">  950.8</span> │ <span style=\"color: #008080; text-decoration-color: #008080\">  49.23</span> │ <span style=\"color: #008080; text-decoration-color: #008080\">    757.3</span> │ <span style=\"color: #008080; text-decoration-color: #008080\">917.2</span> │ <span style=\"color: #008080; text-decoration-color: #008080\">951.8</span> │ <span style=\"color: #008080; text-decoration-color: #008080\">  985</span> │ <span style=\"color: #008080; text-decoration-color: #008080\"> 1110</span> │ <span style=\"color: #008000; text-decoration-color: #008000\"> ▁▅▇▃ </span> │  │\n",
       "│ │ <span style=\"color: #af87ff; text-decoration-color: #af87ff\">vibrations         </span> │ <span style=\"color: #008080; text-decoration-color: #008080\">  0</span> │ <span style=\"color: #008080; text-decoration-color: #008080\">    0</span> │ <span style=\"color: #008080; text-decoration-color: #008080\">  2.518</span> │ <span style=\"color: #008080; text-decoration-color: #008080\">  1.451</span> │ <span style=\"color: #008080; text-decoration-color: #008080\"> 0.001847</span> │ <span style=\"color: #008080; text-decoration-color: #008080\">1.271</span> │ <span style=\"color: #008080; text-decoration-color: #008080\">2.525</span> │ <span style=\"color: #008080; text-decoration-color: #008080\">3.771</span> │ <span style=\"color: #008080; text-decoration-color: #008080\">4.999</span> │ <span style=\"color: #008000; text-decoration-color: #008000\">▇▇▇▇▇▇</span> │  │\n",
       "│ │ <span style=\"color: #af87ff; text-decoration-color: #af87ff\">usure_nouvelle     </span> │ <span style=\"color: #008080; text-decoration-color: #008080\">  0</span> │ <span style=\"color: #008080; text-decoration-color: #008080\">    0</span> │ <span style=\"color: #008080; text-decoration-color: #008080\">  38.82</span> │ <span style=\"color: #008080; text-decoration-color: #008080\">  18.16</span> │ <span style=\"color: #008080; text-decoration-color: #008080\">     0.11</span> │ <span style=\"color: #008080; text-decoration-color: #008080\">23.77</span> │ <span style=\"color: #008080; text-decoration-color: #008080\">38.95</span> │ <span style=\"color: #008080; text-decoration-color: #008080\">53.71</span> │ <span style=\"color: #008080; text-decoration-color: #008080\">  100</span> │ <span style=\"color: #008000; text-decoration-color: #008000\">▃▇▇▇▁ </span> │  │\n",
       "│ │ <span style=\"color: #af87ff; text-decoration-color: #af87ff\">lifespan           </span> │ <span style=\"color: #008080; text-decoration-color: #008080\">  0</span> │ <span style=\"color: #008080; text-decoration-color: #008080\">    0</span> │ <span style=\"color: #008080; text-decoration-color: #008080\">  13570</span> │ <span style=\"color: #008080; text-decoration-color: #008080\">   8481</span> │ <span style=\"color: #008080; text-decoration-color: #008080\">    10020</span> │ <span style=\"color: #008080; text-decoration-color: #008080\">11020</span> │ <span style=\"color: #008080; text-decoration-color: #008080\">12640</span> │ <span style=\"color: #008080; text-decoration-color: #008080\">13630</span> │ <span style=\"color: #008080; text-decoration-color: #008080\">68980</span> │ <span style=\"color: #008000; text-decoration-color: #008000\">  ▇   </span> │  │\n",
       "│ │ <span style=\"color: #af87ff; text-decoration-color: #af87ff\">taux_usure_actuel  </span> │ <span style=\"color: #008080; text-decoration-color: #008080\">  0</span> │ <span style=\"color: #008080; text-decoration-color: #008080\">    0</span> │ <span style=\"color: #008080; text-decoration-color: #008080\">  31.16</span> │ <span style=\"color: #008080; text-decoration-color: #008080\">  17.26</span> │ <span style=\"color: #008080; text-decoration-color: #008080\">     0.11</span> │ <span style=\"color: #008080; text-decoration-color: #008080\"> 16.4</span> │ <span style=\"color: #008080; text-decoration-color: #008080\">31.23</span> │ <span style=\"color: #008080; text-decoration-color: #008080\">45.88</span> │ <span style=\"color: #008080; text-decoration-color: #008080\">68.91</span> │ <span style=\"color: #008000; text-decoration-color: #008000\">▇▇▇▇▇▂</span> │  │\n",
       "│ │ <span style=\"color: #af87ff; text-decoration-color: #af87ff\">cout               </span> │ <span style=\"color: #008080; text-decoration-color: #008080\">  0</span> │ <span style=\"color: #008080; text-decoration-color: #008080\">    0</span> │ <span style=\"color: #008080; text-decoration-color: #008080\">  11420</span> │ <span style=\"color: #008080; text-decoration-color: #008080\">   5763</span> │ <span style=\"color: #008080; text-decoration-color: #008080\">     2021</span> │ <span style=\"color: #008080; text-decoration-color: #008080\"> 4801</span> │ <span style=\"color: #008080; text-decoration-color: #008080\">12660</span> │ <span style=\"color: #008080; text-decoration-color: #008080\">16270</span> │ <span style=\"color: #008080; text-decoration-color: #008080\">19490</span> │ <span style=\"color: #008000; text-decoration-color: #008000\">▇▁▂▇▅▇</span> │  │\n",
       "│ └─────────────────────┴─────┴───────┴─────────┴─────────┴───────────┴───────┴───────┴───────┴───────┴────────┘  │\n",
       "│ <span style=\"font-style: italic\">                                                     bool                                                     </span>  │\n",
       "│ ┏━━━━━━━━━━━━━━━━━━━━━━━━━━━━━━━━━━━━━━━━━━┳━━━━━━━━━━━━━━━━━━━┳━━━━━━━━━━━━━━━━━━━━━━━━━━┳━━━━━━━━━━━━━━━━━━┓  │\n",
       "│ ┃<span style=\"font-weight: bold\"> column_name                              </span>┃<span style=\"font-weight: bold\"> true              </span>┃<span style=\"font-weight: bold\"> true rate                </span>┃<span style=\"font-weight: bold\"> hist             </span>┃  │\n",
       "│ ┡━━━━━━━━━━━━━━━━━━━━━━━━━━━━━━━━━━━━━━━━━━╇━━━━━━━━━━━━━━━━━━━╇━━━━━━━━━━━━━━━━━━━━━━━━━━╇━━━━━━━━━━━━━━━━━━┩  │\n",
       "│ │ <span style=\"color: #af87ff; text-decoration-color: #af87ff\">en_maintenance                          </span> │ <span style=\"color: #008080; text-decoration-color: #008080\">           277065</span> │ <span style=\"color: #008080; text-decoration-color: #008080\">                   0.054</span> │ <span style=\"color: #008000; text-decoration-color: #008000\">       ▇        </span> │  │\n",
       "│ │ <span style=\"color: #af87ff; text-decoration-color: #af87ff\">need_replacement                        </span> │ <span style=\"color: #008080; text-decoration-color: #008080\">                0</span> │ <span style=\"color: #008080; text-decoration-color: #008080\">                       0</span> │ <span style=\"color: #008000; text-decoration-color: #008000\">         ▇      </span> │  │\n",
       "│ └──────────────────────────────────────────┴───────────────────┴──────────────────────────┴──────────────────┘  │\n",
       "│ <span style=\"font-style: italic\">                                                   datetime                                                   </span>  │\n",
       "│ ┏━━━━━━━━━━━━━━━━━┳━━━━━━━━━━━━┳━━━━━━━━━┳━━━━━━━━━━━━━━━━━━━━━━━━━━┳━━━━━━━━━━━━━━━━━━━━━━━━━━┳━━━━━━━━━━━━━┓  │\n",
       "│ ┃<span style=\"font-weight: bold\"> column_name     </span>┃<span style=\"font-weight: bold\"> NA         </span>┃<span style=\"font-weight: bold\"> NA %    </span>┃<span style=\"font-weight: bold\"> first                    </span>┃<span style=\"font-weight: bold\"> last                     </span>┃<span style=\"font-weight: bold\"> frequency   </span>┃  │\n",
       "│ ┡━━━━━━━━━━━━━━━━━╇━━━━━━━━━━━━╇━━━━━━━━━╇━━━━━━━━━━━━━━━━━━━━━━━━━━╇━━━━━━━━━━━━━━━━━━━━━━━━━━╇━━━━━━━━━━━━━┩  │\n",
       "│ │ <span style=\"color: #af87ff; text-decoration-color: #af87ff\">end_maint      </span> │ <span style=\"color: #008080; text-decoration-color: #008080\">   4863375</span> │ <span style=\"color: #008080; text-decoration-color: #008080\">  94.61</span> │ <span style=\"color: #800000; text-decoration-color: #800000\">  2024-06-03 14:13:00   </span> │ <span style=\"color: #800000; text-decoration-color: #800000\">  2024-06-16 14:13:00   </span> │ <span style=\"color: #af87ff; text-decoration-color: #af87ff\">None       </span> │  │\n",
       "│ └─────────────────┴────────────┴─────────┴──────────────────────────┴──────────────────────────┴─────────────┘  │\n",
       "│ <span style=\"font-style: italic\">                                           &lt;class 'datetime.date'&gt;                                            </span>  │\n",
       "│ ┏━━━━━━━━━━━━━━━━━━━━━━━━━━┳━━━━━━━┳━━━━━━━━━━━┳━━━━━━━━━━━━━━━━━━━━━┳━━━━━━━━━━━━━━━━━━━━┳━━━━━━━━━━━━━━━━━━┓  │\n",
       "│ ┃<span style=\"font-weight: bold\"> column_name              </span>┃<span style=\"font-weight: bold\"> NA    </span>┃<span style=\"font-weight: bold\"> NA %      </span>┃<span style=\"font-weight: bold\"> first               </span>┃<span style=\"font-weight: bold\"> last               </span>┃<span style=\"font-weight: bold\"> frequency        </span>┃  │\n",
       "│ ┡━━━━━━━━━━━━━━━━━━━━━━━━━━╇━━━━━━━╇━━━━━━━━━━━╇━━━━━━━━━━━━━━━━━━━━━╇━━━━━━━━━━━━━━━━━━━━╇━━━━━━━━━━━━━━━━━━┩  │\n",
       "│ │ <span style=\"color: #af87ff; text-decoration-color: #af87ff\">debut_service           </span> │ <span style=\"color: #008080; text-decoration-color: #008080\">    0</span> │ <span style=\"color: #008080; text-decoration-color: #008080\">        0</span> │ <span style=\"color: #af87ff; text-decoration-color: #af87ff\">2000-02-03         </span> │ <span style=\"color: #af87ff; text-decoration-color: #af87ff\">2022-11-11        </span> │ <span style=\"color: #af87ff; text-decoration-color: #af87ff\">None            </span> │  │\n",
       "│ │ <span style=\"color: #af87ff; text-decoration-color: #af87ff\">last_maint              </span> │ <span style=\"color: #008080; text-decoration-color: #008080\">    0</span> │ <span style=\"color: #008080; text-decoration-color: #008080\">        0</span> │ <span style=\"color: #af87ff; text-decoration-color: #af87ff\">2023-07-02         </span> │ <span style=\"color: #af87ff; text-decoration-color: #af87ff\">2024-06-02        </span> │ <span style=\"color: #af87ff; text-decoration-color: #af87ff\">None            </span> │  │\n",
       "│ │ <span style=\"color: #af87ff; text-decoration-color: #af87ff\">jour_vol                </span> │ <span style=\"color: #008080; text-decoration-color: #008080\">    0</span> │ <span style=\"color: #008080; text-decoration-color: #008080\">        0</span> │ <span style=\"color: #af87ff; text-decoration-color: #af87ff\">2024-06-04         </span> │ <span style=\"color: #af87ff; text-decoration-color: #af87ff\">2024-07-23        </span> │ <span style=\"color: #af87ff; text-decoration-color: #af87ff\">None            </span> │  │\n",
       "│ │ <span style=\"color: #af87ff; text-decoration-color: #af87ff\">measure_day             </span> │ <span style=\"color: #008080; text-decoration-color: #008080\">    0</span> │ <span style=\"color: #008080; text-decoration-color: #008080\">        0</span> │ <span style=\"color: #af87ff; text-decoration-color: #af87ff\">2023-07-07         </span> │ <span style=\"color: #af87ff; text-decoration-color: #af87ff\">2024-07-23        </span> │ <span style=\"color: #af87ff; text-decoration-color: #af87ff\">None            </span> │  │\n",
       "│ └──────────────────────────┴───────┴───────────┴─────────────────────┴────────────────────┴──────────────────┘  │\n",
       "│ <span style=\"font-style: italic\">                                                    string                                                    </span>  │\n",
       "│ ┏━━━━━━━━━━━━━━━━━━━━━━━━━━━┳━━━━━━━━━┳━━━━━━━━━━━━┳━━━━━━━━━━━━━━━━━━━━━━━━━━━━━━┳━━━━━━━━━━━━━━━━━━━━━━━━━━┓  │\n",
       "│ ┃<span style=\"font-weight: bold\"> column_name               </span>┃<span style=\"font-weight: bold\"> NA      </span>┃<span style=\"font-weight: bold\"> NA %       </span>┃<span style=\"font-weight: bold\"> words per row                </span>┃<span style=\"font-weight: bold\"> total words              </span>┃  │\n",
       "│ ┡━━━━━━━━━━━━━━━━━━━━━━━━━━━╇━━━━━━━━━╇━━━━━━━━━━━━╇━━━━━━━━━━━━━━━━━━━━━━━━━━━━━━╇━━━━━━━━━━━━━━━━━━━━━━━━━━┩  │\n",
       "│ │ <span style=\"color: #af87ff; text-decoration-color: #af87ff\">ref_aero                 </span> │ <span style=\"color: #008080; text-decoration-color: #008080\">      0</span> │ <span style=\"color: #008080; text-decoration-color: #008080\">         0</span> │ <span style=\"color: #008080; text-decoration-color: #008080\">                           1</span> │ <span style=\"color: #008080; text-decoration-color: #008080\">                 5140440</span> │  │\n",
       "│ │ <span style=\"color: #af87ff; text-decoration-color: #af87ff\">type_model               </span> │ <span style=\"color: #008080; text-decoration-color: #008080\">      0</span> │ <span style=\"color: #008080; text-decoration-color: #008080\">         0</span> │ <span style=\"color: #008080; text-decoration-color: #008080\">                           1</span> │ <span style=\"color: #008080; text-decoration-color: #008080\">                 5140440</span> │  │\n",
       "│ │ <span style=\"color: #af87ff; text-decoration-color: #af87ff\">ref_vol                  </span> │ <span style=\"color: #008080; text-decoration-color: #008080\">      0</span> │ <span style=\"color: #008080; text-decoration-color: #008080\">         0</span> │ <span style=\"color: #008080; text-decoration-color: #008080\">                           1</span> │ <span style=\"color: #008080; text-decoration-color: #008080\">                 5140440</span> │  │\n",
       "│ │ <span style=\"color: #af87ff; text-decoration-color: #af87ff\">clef                     </span> │ <span style=\"color: #008080; text-decoration-color: #008080\">      0</span> │ <span style=\"color: #008080; text-decoration-color: #008080\">         0</span> │ <span style=\"color: #008080; text-decoration-color: #008080\">                           1</span> │ <span style=\"color: #008080; text-decoration-color: #008080\">                 5147550</span> │  │\n",
       "│ │ <span style=\"color: #af87ff; text-decoration-color: #af87ff\">ref_deg                  </span> │ <span style=\"color: #008080; text-decoration-color: #008080\">      0</span> │ <span style=\"color: #008080; text-decoration-color: #008080\">         0</span> │ <span style=\"color: #008080; text-decoration-color: #008080\">                           1</span> │ <span style=\"color: #008080; text-decoration-color: #008080\">                 5140440</span> │  │\n",
       "│ │ <span style=\"color: #af87ff; text-decoration-color: #af87ff\">ref_compo                </span> │ <span style=\"color: #008080; text-decoration-color: #008080\">      0</span> │ <span style=\"color: #008080; text-decoration-color: #008080\">         0</span> │ <span style=\"color: #008080; text-decoration-color: #008080\">                           1</span> │ <span style=\"color: #008080; text-decoration-color: #008080\">                 5140440</span> │  │\n",
       "│ │ <span style=\"color: #af87ff; text-decoration-color: #af87ff\">categorie                </span> │ <span style=\"color: #008080; text-decoration-color: #008080\">      0</span> │ <span style=\"color: #008080; text-decoration-color: #008080\">         0</span> │ <span style=\"color: #008080; text-decoration-color: #008080\">                           2</span> │ <span style=\"color: #008080; text-decoration-color: #008080\">                10280880</span> │  │\n",
       "│ │ <span style=\"color: #af87ff; text-decoration-color: #af87ff\">desc_compo               </span> │ <span style=\"color: #008080; text-decoration-color: #008080\">      0</span> │ <span style=\"color: #008080; text-decoration-color: #008080\">         0</span> │ <span style=\"color: #008080; text-decoration-color: #008080\">                           3</span> │ <span style=\"color: #008080; text-decoration-color: #008080\">                15535552</span> │  │\n",
       "│ └───────────────────────────┴─────────┴────────────┴──────────────────────────────┴──────────────────────────┘  │\n",
       "╰────────────────────────────────────────────────────── End ──────────────────────────────────────────────────────╯\n",
       "</pre>\n"
      ],
      "text/plain": [
       "╭──────────────────────────────────────────────── skimpy summary ─────────────────────────────────────────────────╮\n",
       "│ \u001b[3m         Data Summary          \u001b[0m \u001b[3m      Data Types       \u001b[0m                                                         │\n",
       "│ ┏━━━━━━━━━━━━━━━━━━━┳━━━━━━━━━┓ ┏━━━━━━━━━━━━━┳━━━━━━━┓                                                         │\n",
       "│ ┃\u001b[1;36m \u001b[0m\u001b[1;36mdataframe        \u001b[0m\u001b[1;36m \u001b[0m┃\u001b[1;36m \u001b[0m\u001b[1;36mValues \u001b[0m\u001b[1;36m \u001b[0m┃ ┃\u001b[1;36m \u001b[0m\u001b[1;36mColumn Type\u001b[0m\u001b[1;36m \u001b[0m┃\u001b[1;36m \u001b[0m\u001b[1;36mCount\u001b[0m\u001b[1;36m \u001b[0m┃                                                         │\n",
       "│ ┡━━━━━━━━━━━━━━━━━━━╇━━━━━━━━━┩ ┡━━━━━━━━━━━━━╇━━━━━━━┩                                                         │\n",
       "│ │ Number of rows    │ 5140440 │ │ string      │ 8     │                                                         │\n",
       "│ │ Number of columns │ 24      │ │ float64     │ 6     │                                                         │\n",
       "│ └───────────────────┴─────────┘ │ object      │ 4     │                                                         │\n",
       "│                                 │ int32       │ 3     │                                                         │\n",
       "│                                 │ bool        │ 2     │                                                         │\n",
       "│                                 │ datetime64  │ 1     │                                                         │\n",
       "│                                 └─────────────┴───────┘                                                         │\n",
       "│ \u001b[3m                                                    number                                                    \u001b[0m  │\n",
       "│ ┏━━━━━━━━━━━━━━━━━━━━━┳━━━━━┳━━━━━━━┳━━━━━━━━━┳━━━━━━━━━┳━━━━━━━━━━━┳━━━━━━━┳━━━━━━━┳━━━━━━━┳━━━━━━━┳━━━━━━━━┓  │\n",
       "│ ┃\u001b[1m \u001b[0m\u001b[1mcolumn_name        \u001b[0m\u001b[1m \u001b[0m┃\u001b[1m \u001b[0m\u001b[1mNA \u001b[0m\u001b[1m \u001b[0m┃\u001b[1m \u001b[0m\u001b[1mNA % \u001b[0m\u001b[1m \u001b[0m┃\u001b[1m \u001b[0m\u001b[1mmean   \u001b[0m\u001b[1m \u001b[0m┃\u001b[1m \u001b[0m\u001b[1msd     \u001b[0m\u001b[1m \u001b[0m┃\u001b[1m \u001b[0m\u001b[1mp0       \u001b[0m\u001b[1m \u001b[0m┃\u001b[1m \u001b[0m\u001b[1mp25  \u001b[0m\u001b[1m \u001b[0m┃\u001b[1m \u001b[0m\u001b[1mp50  \u001b[0m\u001b[1m \u001b[0m┃\u001b[1m \u001b[0m\u001b[1mp75  \u001b[0m\u001b[1m \u001b[0m┃\u001b[1m \u001b[0m\u001b[1mp100 \u001b[0m\u001b[1m \u001b[0m┃\u001b[1m \u001b[0m\u001b[1mhist  \u001b[0m\u001b[1m \u001b[0m┃  │\n",
       "│ ┡━━━━━━━━━━━━━━━━━━━━━╇━━━━━╇━━━━━━━╇━━━━━━━━━╇━━━━━━━━━╇━━━━━━━━━━━╇━━━━━━━╇━━━━━━━╇━━━━━━━╇━━━━━━━╇━━━━━━━━┩  │\n",
       "│ │ \u001b[38;5;141mtime_en_air        \u001b[0m │ \u001b[36m  0\u001b[0m │ \u001b[36m    0\u001b[0m │ \u001b[36m  5.059\u001b[0m │ \u001b[36m  2.444\u001b[0m │ \u001b[36m      0.6\u001b[0m │ \u001b[36m  3.3\u001b[0m │ \u001b[36m    5\u001b[0m │ \u001b[36m  6.7\u001b[0m │ \u001b[36m   15\u001b[0m │ \u001b[32m ▅▇▇▃ \u001b[0m │  │\n",
       "│ │ \u001b[38;5;141metat_voyant        \u001b[0m │ \u001b[36m  0\u001b[0m │ \u001b[36m    0\u001b[0m │ \u001b[36m 0.1796\u001b[0m │ \u001b[36m 0.4412\u001b[0m │ \u001b[36m        0\u001b[0m │ \u001b[36m    0\u001b[0m │ \u001b[36m    0\u001b[0m │ \u001b[36m    0\u001b[0m │ \u001b[36m    3\u001b[0m │ \u001b[32m ▇ ▁  \u001b[0m │  │\n",
       "│ │ \u001b[38;5;141mtemp               \u001b[0m │ \u001b[36m  0\u001b[0m │ \u001b[36m    0\u001b[0m │ \u001b[36m  0.114\u001b[0m │ \u001b[36m  9.867\u001b[0m │ \u001b[36m    -36.5\u001b[0m │ \u001b[36m -6.5\u001b[0m │ \u001b[36m  0.2\u001b[0m │ \u001b[36m  6.7\u001b[0m │ \u001b[36m   35\u001b[0m │ \u001b[32m ▂▇▇▂ \u001b[0m │  │\n",
       "│ │ \u001b[38;5;141mpressure           \u001b[0m │ \u001b[36m  0\u001b[0m │ \u001b[36m    0\u001b[0m │ \u001b[36m  950.8\u001b[0m │ \u001b[36m  49.23\u001b[0m │ \u001b[36m    757.3\u001b[0m │ \u001b[36m917.2\u001b[0m │ \u001b[36m951.8\u001b[0m │ \u001b[36m  985\u001b[0m │ \u001b[36m 1110\u001b[0m │ \u001b[32m ▁▅▇▃ \u001b[0m │  │\n",
       "│ │ \u001b[38;5;141mvibrations         \u001b[0m │ \u001b[36m  0\u001b[0m │ \u001b[36m    0\u001b[0m │ \u001b[36m  2.518\u001b[0m │ \u001b[36m  1.451\u001b[0m │ \u001b[36m 0.001847\u001b[0m │ \u001b[36m1.271\u001b[0m │ \u001b[36m2.525\u001b[0m │ \u001b[36m3.771\u001b[0m │ \u001b[36m4.999\u001b[0m │ \u001b[32m▇▇▇▇▇▇\u001b[0m │  │\n",
       "│ │ \u001b[38;5;141musure_nouvelle     \u001b[0m │ \u001b[36m  0\u001b[0m │ \u001b[36m    0\u001b[0m │ \u001b[36m  38.82\u001b[0m │ \u001b[36m  18.16\u001b[0m │ \u001b[36m     0.11\u001b[0m │ \u001b[36m23.77\u001b[0m │ \u001b[36m38.95\u001b[0m │ \u001b[36m53.71\u001b[0m │ \u001b[36m  100\u001b[0m │ \u001b[32m▃▇▇▇▁ \u001b[0m │  │\n",
       "│ │ \u001b[38;5;141mlifespan           \u001b[0m │ \u001b[36m  0\u001b[0m │ \u001b[36m    0\u001b[0m │ \u001b[36m  13570\u001b[0m │ \u001b[36m   8481\u001b[0m │ \u001b[36m    10020\u001b[0m │ \u001b[36m11020\u001b[0m │ \u001b[36m12640\u001b[0m │ \u001b[36m13630\u001b[0m │ \u001b[36m68980\u001b[0m │ \u001b[32m  ▇   \u001b[0m │  │\n",
       "│ │ \u001b[38;5;141mtaux_usure_actuel  \u001b[0m │ \u001b[36m  0\u001b[0m │ \u001b[36m    0\u001b[0m │ \u001b[36m  31.16\u001b[0m │ \u001b[36m  17.26\u001b[0m │ \u001b[36m     0.11\u001b[0m │ \u001b[36m 16.4\u001b[0m │ \u001b[36m31.23\u001b[0m │ \u001b[36m45.88\u001b[0m │ \u001b[36m68.91\u001b[0m │ \u001b[32m▇▇▇▇▇▂\u001b[0m │  │\n",
       "│ │ \u001b[38;5;141mcout               \u001b[0m │ \u001b[36m  0\u001b[0m │ \u001b[36m    0\u001b[0m │ \u001b[36m  11420\u001b[0m │ \u001b[36m   5763\u001b[0m │ \u001b[36m     2021\u001b[0m │ \u001b[36m 4801\u001b[0m │ \u001b[36m12660\u001b[0m │ \u001b[36m16270\u001b[0m │ \u001b[36m19490\u001b[0m │ \u001b[32m▇▁▂▇▅▇\u001b[0m │  │\n",
       "│ └─────────────────────┴─────┴───────┴─────────┴─────────┴───────────┴───────┴───────┴───────┴───────┴────────┘  │\n",
       "│ \u001b[3m                                                     bool                                                     \u001b[0m  │\n",
       "│ ┏━━━━━━━━━━━━━━━━━━━━━━━━━━━━━━━━━━━━━━━━━━┳━━━━━━━━━━━━━━━━━━━┳━━━━━━━━━━━━━━━━━━━━━━━━━━┳━━━━━━━━━━━━━━━━━━┓  │\n",
       "│ ┃\u001b[1m \u001b[0m\u001b[1mcolumn_name                             \u001b[0m\u001b[1m \u001b[0m┃\u001b[1m \u001b[0m\u001b[1mtrue             \u001b[0m\u001b[1m \u001b[0m┃\u001b[1m \u001b[0m\u001b[1mtrue rate               \u001b[0m\u001b[1m \u001b[0m┃\u001b[1m \u001b[0m\u001b[1mhist            \u001b[0m\u001b[1m \u001b[0m┃  │\n",
       "│ ┡━━━━━━━━━━━━━━━━━━━━━━━━━━━━━━━━━━━━━━━━━━╇━━━━━━━━━━━━━━━━━━━╇━━━━━━━━━━━━━━━━━━━━━━━━━━╇━━━━━━━━━━━━━━━━━━┩  │\n",
       "│ │ \u001b[38;5;141men_maintenance                          \u001b[0m │ \u001b[36m           277065\u001b[0m │ \u001b[36m                   0.054\u001b[0m │ \u001b[32m       ▇        \u001b[0m │  │\n",
       "│ │ \u001b[38;5;141mneed_replacement                        \u001b[0m │ \u001b[36m                0\u001b[0m │ \u001b[36m                       0\u001b[0m │ \u001b[32m         ▇      \u001b[0m │  │\n",
       "│ └──────────────────────────────────────────┴───────────────────┴──────────────────────────┴──────────────────┘  │\n",
       "│ \u001b[3m                                                   datetime                                                   \u001b[0m  │\n",
       "│ ┏━━━━━━━━━━━━━━━━━┳━━━━━━━━━━━━┳━━━━━━━━━┳━━━━━━━━━━━━━━━━━━━━━━━━━━┳━━━━━━━━━━━━━━━━━━━━━━━━━━┳━━━━━━━━━━━━━┓  │\n",
       "│ ┃\u001b[1m \u001b[0m\u001b[1mcolumn_name    \u001b[0m\u001b[1m \u001b[0m┃\u001b[1m \u001b[0m\u001b[1mNA        \u001b[0m\u001b[1m \u001b[0m┃\u001b[1m \u001b[0m\u001b[1mNA %   \u001b[0m\u001b[1m \u001b[0m┃\u001b[1m \u001b[0m\u001b[1mfirst                   \u001b[0m\u001b[1m \u001b[0m┃\u001b[1m \u001b[0m\u001b[1mlast                    \u001b[0m\u001b[1m \u001b[0m┃\u001b[1m \u001b[0m\u001b[1mfrequency  \u001b[0m\u001b[1m \u001b[0m┃  │\n",
       "│ ┡━━━━━━━━━━━━━━━━━╇━━━━━━━━━━━━╇━━━━━━━━━╇━━━━━━━━━━━━━━━━━━━━━━━━━━╇━━━━━━━━━━━━━━━━━━━━━━━━━━╇━━━━━━━━━━━━━┩  │\n",
       "│ │ \u001b[38;5;141mend_maint      \u001b[0m │ \u001b[36m   4863375\u001b[0m │ \u001b[36m  94.61\u001b[0m │ \u001b[31m  2024-06-03 14:13:00   \u001b[0m │ \u001b[31m  2024-06-16 14:13:00   \u001b[0m │ \u001b[38;5;141mNone       \u001b[0m │  │\n",
       "│ └─────────────────┴────────────┴─────────┴──────────────────────────┴──────────────────────────┴─────────────┘  │\n",
       "│ \u001b[3m                                           <class 'datetime.date'>                                            \u001b[0m  │\n",
       "│ ┏━━━━━━━━━━━━━━━━━━━━━━━━━━┳━━━━━━━┳━━━━━━━━━━━┳━━━━━━━━━━━━━━━━━━━━━┳━━━━━━━━━━━━━━━━━━━━┳━━━━━━━━━━━━━━━━━━┓  │\n",
       "│ ┃\u001b[1m \u001b[0m\u001b[1mcolumn_name             \u001b[0m\u001b[1m \u001b[0m┃\u001b[1m \u001b[0m\u001b[1mNA   \u001b[0m\u001b[1m \u001b[0m┃\u001b[1m \u001b[0m\u001b[1mNA %     \u001b[0m\u001b[1m \u001b[0m┃\u001b[1m \u001b[0m\u001b[1mfirst              \u001b[0m\u001b[1m \u001b[0m┃\u001b[1m \u001b[0m\u001b[1mlast              \u001b[0m\u001b[1m \u001b[0m┃\u001b[1m \u001b[0m\u001b[1mfrequency       \u001b[0m\u001b[1m \u001b[0m┃  │\n",
       "│ ┡━━━━━━━━━━━━━━━━━━━━━━━━━━╇━━━━━━━╇━━━━━━━━━━━╇━━━━━━━━━━━━━━━━━━━━━╇━━━━━━━━━━━━━━━━━━━━╇━━━━━━━━━━━━━━━━━━┩  │\n",
       "│ │ \u001b[38;5;141mdebut_service           \u001b[0m │ \u001b[36m    0\u001b[0m │ \u001b[36m        0\u001b[0m │ \u001b[38;5;141m2000-02-03         \u001b[0m │ \u001b[38;5;141m2022-11-11        \u001b[0m │ \u001b[38;5;141mNone            \u001b[0m │  │\n",
       "│ │ \u001b[38;5;141mlast_maint              \u001b[0m │ \u001b[36m    0\u001b[0m │ \u001b[36m        0\u001b[0m │ \u001b[38;5;141m2023-07-02         \u001b[0m │ \u001b[38;5;141m2024-06-02        \u001b[0m │ \u001b[38;5;141mNone            \u001b[0m │  │\n",
       "│ │ \u001b[38;5;141mjour_vol                \u001b[0m │ \u001b[36m    0\u001b[0m │ \u001b[36m        0\u001b[0m │ \u001b[38;5;141m2024-06-04         \u001b[0m │ \u001b[38;5;141m2024-07-23        \u001b[0m │ \u001b[38;5;141mNone            \u001b[0m │  │\n",
       "│ │ \u001b[38;5;141mmeasure_day             \u001b[0m │ \u001b[36m    0\u001b[0m │ \u001b[36m        0\u001b[0m │ \u001b[38;5;141m2023-07-07         \u001b[0m │ \u001b[38;5;141m2024-07-23        \u001b[0m │ \u001b[38;5;141mNone            \u001b[0m │  │\n",
       "│ └──────────────────────────┴───────┴───────────┴─────────────────────┴────────────────────┴──────────────────┘  │\n",
       "│ \u001b[3m                                                    string                                                    \u001b[0m  │\n",
       "│ ┏━━━━━━━━━━━━━━━━━━━━━━━━━━━┳━━━━━━━━━┳━━━━━━━━━━━━┳━━━━━━━━━━━━━━━━━━━━━━━━━━━━━━┳━━━━━━━━━━━━━━━━━━━━━━━━━━┓  │\n",
       "│ ┃\u001b[1m \u001b[0m\u001b[1mcolumn_name              \u001b[0m\u001b[1m \u001b[0m┃\u001b[1m \u001b[0m\u001b[1mNA     \u001b[0m\u001b[1m \u001b[0m┃\u001b[1m \u001b[0m\u001b[1mNA %      \u001b[0m\u001b[1m \u001b[0m┃\u001b[1m \u001b[0m\u001b[1mwords per row               \u001b[0m\u001b[1m \u001b[0m┃\u001b[1m \u001b[0m\u001b[1mtotal words             \u001b[0m\u001b[1m \u001b[0m┃  │\n",
       "│ ┡━━━━━━━━━━━━━━━━━━━━━━━━━━━╇━━━━━━━━━╇━━━━━━━━━━━━╇━━━━━━━━━━━━━━━━━━━━━━━━━━━━━━╇━━━━━━━━━━━━━━━━━━━━━━━━━━┩  │\n",
       "│ │ \u001b[38;5;141mref_aero                 \u001b[0m │ \u001b[36m      0\u001b[0m │ \u001b[36m         0\u001b[0m │ \u001b[36m                           1\u001b[0m │ \u001b[36m                 5140440\u001b[0m │  │\n",
       "│ │ \u001b[38;5;141mtype_model               \u001b[0m │ \u001b[36m      0\u001b[0m │ \u001b[36m         0\u001b[0m │ \u001b[36m                           1\u001b[0m │ \u001b[36m                 5140440\u001b[0m │  │\n",
       "│ │ \u001b[38;5;141mref_vol                  \u001b[0m │ \u001b[36m      0\u001b[0m │ \u001b[36m         0\u001b[0m │ \u001b[36m                           1\u001b[0m │ \u001b[36m                 5140440\u001b[0m │  │\n",
       "│ │ \u001b[38;5;141mclef                     \u001b[0m │ \u001b[36m      0\u001b[0m │ \u001b[36m         0\u001b[0m │ \u001b[36m                           1\u001b[0m │ \u001b[36m                 5147550\u001b[0m │  │\n",
       "│ │ \u001b[38;5;141mref_deg                  \u001b[0m │ \u001b[36m      0\u001b[0m │ \u001b[36m         0\u001b[0m │ \u001b[36m                           1\u001b[0m │ \u001b[36m                 5140440\u001b[0m │  │\n",
       "│ │ \u001b[38;5;141mref_compo                \u001b[0m │ \u001b[36m      0\u001b[0m │ \u001b[36m         0\u001b[0m │ \u001b[36m                           1\u001b[0m │ \u001b[36m                 5140440\u001b[0m │  │\n",
       "│ │ \u001b[38;5;141mcategorie                \u001b[0m │ \u001b[36m      0\u001b[0m │ \u001b[36m         0\u001b[0m │ \u001b[36m                           2\u001b[0m │ \u001b[36m                10280880\u001b[0m │  │\n",
       "│ │ \u001b[38;5;141mdesc_compo               \u001b[0m │ \u001b[36m      0\u001b[0m │ \u001b[36m         0\u001b[0m │ \u001b[36m                           3\u001b[0m │ \u001b[36m                15535552\u001b[0m │  │\n",
       "│ └───────────────────────────┴─────────┴────────────┴──────────────────────────────┴──────────────────────────┘  │\n",
       "╰────────────────────────────────────────────────────── End ──────────────────────────────────────────────────────╯\n"
      ]
     },
     "metadata": {},
     "output_type": "display_data"
    }
   ],
   "source": [
    "skim(df_merge_total)"
   ]
  },
  {
   "cell_type": "code",
   "execution_count": 23,
   "metadata": {},
   "outputs": [],
   "source": [
    "# suppression des colonne n'apportant pas d'informations\n",
    "df_merge_total = df_merge_total.drop(columns=['need_replacement', 'end_maint'])"
   ]
  },
  {
   "cell_type": "code",
   "execution_count": 22,
   "metadata": {},
   "outputs": [],
   "source": [
    "# modification du type pour date \n",
    "df_merge_total['debut_service'] = pd.to_datetime(df_merge_total['debut_service'], format='%Y-%m-%d')\n",
    "df_merge_total['last_maint'] = pd.to_datetime(df_merge_total['last_maint'], format='%Y-%m-%d')\n",
    "df_merge_total['jour_vol'] = pd.to_datetime(df_merge_total['jour_vol'], format='%Y-%m-%d')\n",
    "df_merge_total['measure_day'] = pd.to_datetime(df_merge_total['measure_day'], format='%Y-%m-%d')"
   ]
  },
  {
   "cell_type": "code",
   "execution_count": 25,
   "metadata": {},
   "outputs": [],
   "source": [
    "# modif type category\n",
    "df_merge_total['etat_voyant'] = df_merge_total['etat_voyant'].astype('category')         \n",
    "df_merge_total['categorie'] = df_merge_total['categorie'].astype('category') "
   ]
  },
  {
   "cell_type": "code",
   "execution_count": null,
   "metadata": {},
   "outputs": [],
   "source": [
    "# Ajout d'une colonne temps de vol cumulé depuis la derniere maintenance\n"
   ]
  },
  {
   "cell_type": "code",
   "execution_count": 26,
   "metadata": {},
   "outputs": [
    {
     "data": {
      "text/html": [
       "<pre style=\"white-space:pre;overflow-x:auto;line-height:normal;font-family:Menlo,'DejaVu Sans Mono',consolas,'Courier New',monospace\">╭──────────────────────────────────────────────── skimpy summary ─────────────────────────────────────────────────╮\n",
       "│ <span style=\"font-style: italic\">         Data Summary          </span> <span style=\"font-style: italic\">      Data Types       </span> <span style=\"font-style: italic\">       Categories        </span>                               │\n",
       "│ ┏━━━━━━━━━━━━━━━━━━━┳━━━━━━━━━┓ ┏━━━━━━━━━━━━━┳━━━━━━━┓ ┏━━━━━━━━━━━━━━━━━━━━━━━┓                               │\n",
       "│ ┃<span style=\"color: #008080; text-decoration-color: #008080; font-weight: bold\"> dataframe         </span>┃<span style=\"color: #008080; text-decoration-color: #008080; font-weight: bold\"> Values  </span>┃ ┃<span style=\"color: #008080; text-decoration-color: #008080; font-weight: bold\"> Column Type </span>┃<span style=\"color: #008080; text-decoration-color: #008080; font-weight: bold\"> Count </span>┃ ┃<span style=\"color: #008080; text-decoration-color: #008080; font-weight: bold\"> Categorical Variables </span>┃                               │\n",
       "│ ┡━━━━━━━━━━━━━━━━━━━╇━━━━━━━━━┩ ┡━━━━━━━━━━━━━╇━━━━━━━┩ ┡━━━━━━━━━━━━━━━━━━━━━━━┩                               │\n",
       "│ │ Number of rows    │ 5140440 │ │ string      │ 7     │ │ etat_voyant           │                               │\n",
       "│ │ Number of columns │ 22      │ │ float64     │ 6     │ │ categorie             │                               │\n",
       "│ └───────────────────┴─────────┘ │ datetime64  │ 4     │ └───────────────────────┘                               │\n",
       "│                                 │ category    │ 2     │                                                         │\n",
       "│                                 │ int32       │ 2     │                                                         │\n",
       "│                                 │ bool        │ 1     │                                                         │\n",
       "│                                 └─────────────┴───────┘                                                         │\n",
       "│ <span style=\"font-style: italic\">                                                    number                                                    </span>  │\n",
       "│ ┏━━━━━━━━━━━━━━━━━━━━━┳━━━━━┳━━━━━━━┳━━━━━━━━┳━━━━━━━━┳━━━━━━━━━━━┳━━━━━━━━┳━━━━━━━━┳━━━━━━━┳━━━━━━━┳━━━━━━━━┓  │\n",
       "│ ┃<span style=\"font-weight: bold\"> column_name         </span>┃<span style=\"font-weight: bold\"> NA  </span>┃<span style=\"font-weight: bold\"> NA %  </span>┃<span style=\"font-weight: bold\"> mean   </span>┃<span style=\"font-weight: bold\"> sd     </span>┃<span style=\"font-weight: bold\"> p0        </span>┃<span style=\"font-weight: bold\"> p25    </span>┃<span style=\"font-weight: bold\"> p50    </span>┃<span style=\"font-weight: bold\"> p75   </span>┃<span style=\"font-weight: bold\"> p100  </span>┃<span style=\"font-weight: bold\"> hist   </span>┃  │\n",
       "│ ┡━━━━━━━━━━━━━━━━━━━━━╇━━━━━╇━━━━━━━╇━━━━━━━━╇━━━━━━━━╇━━━━━━━━━━━╇━━━━━━━━╇━━━━━━━━╇━━━━━━━╇━━━━━━━╇━━━━━━━━┩  │\n",
       "│ │ <span style=\"color: #af87ff; text-decoration-color: #af87ff\">time_en_air        </span> │ <span style=\"color: #008080; text-decoration-color: #008080\">  0</span> │ <span style=\"color: #008080; text-decoration-color: #008080\">    0</span> │ <span style=\"color: #008080; text-decoration-color: #008080\"> 5.059</span> │ <span style=\"color: #008080; text-decoration-color: #008080\"> 2.444</span> │ <span style=\"color: #008080; text-decoration-color: #008080\">      0.6</span> │ <span style=\"color: #008080; text-decoration-color: #008080\">   3.3</span> │ <span style=\"color: #008080; text-decoration-color: #008080\">     5</span> │ <span style=\"color: #008080; text-decoration-color: #008080\">  6.7</span> │ <span style=\"color: #008080; text-decoration-color: #008080\">   15</span> │ <span style=\"color: #008000; text-decoration-color: #008000\"> ▅▇▇▃ </span> │  │\n",
       "│ │ <span style=\"color: #af87ff; text-decoration-color: #af87ff\">temp               </span> │ <span style=\"color: #008080; text-decoration-color: #008080\">  0</span> │ <span style=\"color: #008080; text-decoration-color: #008080\">    0</span> │ <span style=\"color: #008080; text-decoration-color: #008080\"> 0.114</span> │ <span style=\"color: #008080; text-decoration-color: #008080\"> 9.867</span> │ <span style=\"color: #008080; text-decoration-color: #008080\">    -36.5</span> │ <span style=\"color: #008080; text-decoration-color: #008080\">  -6.5</span> │ <span style=\"color: #008080; text-decoration-color: #008080\">   0.2</span> │ <span style=\"color: #008080; text-decoration-color: #008080\">  6.7</span> │ <span style=\"color: #008080; text-decoration-color: #008080\">   35</span> │ <span style=\"color: #008000; text-decoration-color: #008000\"> ▂▇▇▂ </span> │  │\n",
       "│ │ <span style=\"color: #af87ff; text-decoration-color: #af87ff\">pressure           </span> │ <span style=\"color: #008080; text-decoration-color: #008080\">  0</span> │ <span style=\"color: #008080; text-decoration-color: #008080\">    0</span> │ <span style=\"color: #008080; text-decoration-color: #008080\"> 950.8</span> │ <span style=\"color: #008080; text-decoration-color: #008080\"> 49.23</span> │ <span style=\"color: #008080; text-decoration-color: #008080\">    757.3</span> │ <span style=\"color: #008080; text-decoration-color: #008080\"> 917.2</span> │ <span style=\"color: #008080; text-decoration-color: #008080\"> 951.8</span> │ <span style=\"color: #008080; text-decoration-color: #008080\">  985</span> │ <span style=\"color: #008080; text-decoration-color: #008080\"> 1110</span> │ <span style=\"color: #008000; text-decoration-color: #008000\"> ▁▅▇▃ </span> │  │\n",
       "│ │ <span style=\"color: #af87ff; text-decoration-color: #af87ff\">vibrations         </span> │ <span style=\"color: #008080; text-decoration-color: #008080\">  0</span> │ <span style=\"color: #008080; text-decoration-color: #008080\">    0</span> │ <span style=\"color: #008080; text-decoration-color: #008080\"> 2.518</span> │ <span style=\"color: #008080; text-decoration-color: #008080\"> 1.451</span> │ <span style=\"color: #008080; text-decoration-color: #008080\"> 0.001847</span> │ <span style=\"color: #008080; text-decoration-color: #008080\"> 1.271</span> │ <span style=\"color: #008080; text-decoration-color: #008080\"> 2.525</span> │ <span style=\"color: #008080; text-decoration-color: #008080\">3.771</span> │ <span style=\"color: #008080; text-decoration-color: #008080\">4.999</span> │ <span style=\"color: #008000; text-decoration-color: #008000\">▇▇▇▇▇▇</span> │  │\n",
       "│ │ <span style=\"color: #af87ff; text-decoration-color: #af87ff\">usure_nouvelle     </span> │ <span style=\"color: #008080; text-decoration-color: #008080\">  0</span> │ <span style=\"color: #008080; text-decoration-color: #008080\">    0</span> │ <span style=\"color: #008080; text-decoration-color: #008080\"> 38.82</span> │ <span style=\"color: #008080; text-decoration-color: #008080\"> 18.16</span> │ <span style=\"color: #008080; text-decoration-color: #008080\">     0.11</span> │ <span style=\"color: #008080; text-decoration-color: #008080\"> 23.77</span> │ <span style=\"color: #008080; text-decoration-color: #008080\"> 38.95</span> │ <span style=\"color: #008080; text-decoration-color: #008080\">53.71</span> │ <span style=\"color: #008080; text-decoration-color: #008080\">  100</span> │ <span style=\"color: #008000; text-decoration-color: #008000\">▃▇▇▇▁ </span> │  │\n",
       "│ │ <span style=\"color: #af87ff; text-decoration-color: #af87ff\">lifespan           </span> │ <span style=\"color: #008080; text-decoration-color: #008080\">  0</span> │ <span style=\"color: #008080; text-decoration-color: #008080\">    0</span> │ <span style=\"color: #008080; text-decoration-color: #008080\"> 13570</span> │ <span style=\"color: #008080; text-decoration-color: #008080\">  8481</span> │ <span style=\"color: #008080; text-decoration-color: #008080\">    10020</span> │ <span style=\"color: #008080; text-decoration-color: #008080\"> 11020</span> │ <span style=\"color: #008080; text-decoration-color: #008080\"> 12640</span> │ <span style=\"color: #008080; text-decoration-color: #008080\">13630</span> │ <span style=\"color: #008080; text-decoration-color: #008080\">68980</span> │ <span style=\"color: #008000; text-decoration-color: #008000\">  ▇   </span> │  │\n",
       "│ │ <span style=\"color: #af87ff; text-decoration-color: #af87ff\">taux_usure_actuel  </span> │ <span style=\"color: #008080; text-decoration-color: #008080\">  0</span> │ <span style=\"color: #008080; text-decoration-color: #008080\">    0</span> │ <span style=\"color: #008080; text-decoration-color: #008080\"> 31.16</span> │ <span style=\"color: #008080; text-decoration-color: #008080\"> 17.26</span> │ <span style=\"color: #008080; text-decoration-color: #008080\">     0.11</span> │ <span style=\"color: #008080; text-decoration-color: #008080\">  16.4</span> │ <span style=\"color: #008080; text-decoration-color: #008080\"> 31.23</span> │ <span style=\"color: #008080; text-decoration-color: #008080\">45.88</span> │ <span style=\"color: #008080; text-decoration-color: #008080\">68.91</span> │ <span style=\"color: #008000; text-decoration-color: #008000\">▇▇▇▇▇▂</span> │  │\n",
       "│ │ <span style=\"color: #af87ff; text-decoration-color: #af87ff\">cout               </span> │ <span style=\"color: #008080; text-decoration-color: #008080\">  0</span> │ <span style=\"color: #008080; text-decoration-color: #008080\">    0</span> │ <span style=\"color: #008080; text-decoration-color: #008080\"> 11420</span> │ <span style=\"color: #008080; text-decoration-color: #008080\">  5763</span> │ <span style=\"color: #008080; text-decoration-color: #008080\">     2021</span> │ <span style=\"color: #008080; text-decoration-color: #008080\">  4801</span> │ <span style=\"color: #008080; text-decoration-color: #008080\"> 12660</span> │ <span style=\"color: #008080; text-decoration-color: #008080\">16270</span> │ <span style=\"color: #008080; text-decoration-color: #008080\">19490</span> │ <span style=\"color: #008000; text-decoration-color: #008000\">▇▁▂▇▅▇</span> │  │\n",
       "│ └─────────────────────┴─────┴───────┴────────┴────────┴───────────┴────────┴────────┴───────┴───────┴────────┘  │\n",
       "│ <span style=\"font-style: italic\">                                                   category                                                   </span>  │\n",
       "│ ┏━━━━━━━━━━━━━━━━━━━━━━━━━━━━━━━━━━┳━━━━━━━━━━━┳━━━━━━━━━━━━━━━━┳━━━━━━━━━━━━━━━━━━━━━━━┳━━━━━━━━━━━━━━━━━━━━┓  │\n",
       "│ ┃<span style=\"font-weight: bold\"> column_name                      </span>┃<span style=\"font-weight: bold\"> NA        </span>┃<span style=\"font-weight: bold\"> NA %           </span>┃<span style=\"font-weight: bold\"> ordered               </span>┃<span style=\"font-weight: bold\"> unique             </span>┃  │\n",
       "│ ┡━━━━━━━━━━━━━━━━━━━━━━━━━━━━━━━━━━╇━━━━━━━━━━━╇━━━━━━━━━━━━━━━━╇━━━━━━━━━━━━━━━━━━━━━━━╇━━━━━━━━━━━━━━━━━━━━┩  │\n",
       "│ │ <span style=\"color: #af87ff; text-decoration-color: #af87ff\">etat_voyant                     </span> │ <span style=\"color: #008080; text-decoration-color: #008080\">        0</span> │ <span style=\"color: #008080; text-decoration-color: #008080\">             0</span> │ <span style=\"color: #00d7ff; text-decoration-color: #00d7ff\">False                </span> │ <span style=\"color: #008080; text-decoration-color: #008080\">                 4</span> │  │\n",
       "│ │ <span style=\"color: #af87ff; text-decoration-color: #af87ff\">categorie                       </span> │ <span style=\"color: #008080; text-decoration-color: #008080\">        0</span> │ <span style=\"color: #008080; text-decoration-color: #008080\">             0</span> │ <span style=\"color: #00d7ff; text-decoration-color: #00d7ff\">False                </span> │ <span style=\"color: #008080; text-decoration-color: #008080\">                 3</span> │  │\n",
       "│ └──────────────────────────────────┴───────────┴────────────────┴───────────────────────┴────────────────────┘  │\n",
       "│ <span style=\"font-style: italic\">                                                     bool                                                     </span>  │\n",
       "│ ┏━━━━━━━━━━━━━━━━━━━━━━━━━━━━━━━━━━━━━━━━┳━━━━━━━━━━━━━━━━━━━━┳━━━━━━━━━━━━━━━━━━━━━━━━━━━┳━━━━━━━━━━━━━━━━━━┓  │\n",
       "│ ┃<span style=\"font-weight: bold\"> column_name                            </span>┃<span style=\"font-weight: bold\"> true               </span>┃<span style=\"font-weight: bold\"> true rate                 </span>┃<span style=\"font-weight: bold\"> hist             </span>┃  │\n",
       "│ ┡━━━━━━━━━━━━━━━━━━━━━━━━━━━━━━━━━━━━━━━━╇━━━━━━━━━━━━━━━━━━━━╇━━━━━━━━━━━━━━━━━━━━━━━━━━━╇━━━━━━━━━━━━━━━━━━┩  │\n",
       "│ │ <span style=\"color: #af87ff; text-decoration-color: #af87ff\">en_maintenance                        </span> │ <span style=\"color: #008080; text-decoration-color: #008080\">            277065</span> │ <span style=\"color: #008080; text-decoration-color: #008080\">                    0.054</span> │ <span style=\"color: #008000; text-decoration-color: #008000\">       ▇        </span> │  │\n",
       "│ └────────────────────────────────────────┴────────────────────┴───────────────────────────┴──────────────────┘  │\n",
       "│ <span style=\"font-style: italic\">                                                   datetime                                                   </span>  │\n",
       "│ ┏━━━━━━━━━━━━━━━━━━━━━━━━━━┳━━━━━━━┳━━━━━━━━━━━┳━━━━━━━━━━━━━━━━━━━━━┳━━━━━━━━━━━━━━━━━━━━┳━━━━━━━━━━━━━━━━━━┓  │\n",
       "│ ┃<span style=\"font-weight: bold\"> column_name              </span>┃<span style=\"font-weight: bold\"> NA    </span>┃<span style=\"font-weight: bold\"> NA %      </span>┃<span style=\"font-weight: bold\"> first               </span>┃<span style=\"font-weight: bold\"> last               </span>┃<span style=\"font-weight: bold\"> frequency        </span>┃  │\n",
       "│ ┡━━━━━━━━━━━━━━━━━━━━━━━━━━╇━━━━━━━╇━━━━━━━━━━━╇━━━━━━━━━━━━━━━━━━━━━╇━━━━━━━━━━━━━━━━━━━━╇━━━━━━━━━━━━━━━━━━┩  │\n",
       "│ │ <span style=\"color: #af87ff; text-decoration-color: #af87ff\">debut_service           </span> │ <span style=\"color: #008080; text-decoration-color: #008080\">    0</span> │ <span style=\"color: #008080; text-decoration-color: #008080\">        0</span> │ <span style=\"color: #800000; text-decoration-color: #800000\">    2000-02-03     </span> │ <span style=\"color: #800000; text-decoration-color: #800000\">    2022-11-11    </span> │ <span style=\"color: #af87ff; text-decoration-color: #af87ff\">None            </span> │  │\n",
       "│ │ <span style=\"color: #af87ff; text-decoration-color: #af87ff\">last_maint              </span> │ <span style=\"color: #008080; text-decoration-color: #008080\">    0</span> │ <span style=\"color: #008080; text-decoration-color: #008080\">        0</span> │ <span style=\"color: #800000; text-decoration-color: #800000\">    2023-07-02     </span> │ <span style=\"color: #800000; text-decoration-color: #800000\">    2024-06-02    </span> │ <span style=\"color: #af87ff; text-decoration-color: #af87ff\">None            </span> │  │\n",
       "│ │ <span style=\"color: #af87ff; text-decoration-color: #af87ff\">jour_vol                </span> │ <span style=\"color: #008080; text-decoration-color: #008080\">    0</span> │ <span style=\"color: #008080; text-decoration-color: #008080\">        0</span> │ <span style=\"color: #800000; text-decoration-color: #800000\">    2024-06-04     </span> │ <span style=\"color: #800000; text-decoration-color: #800000\">    2024-07-23    </span> │ <span style=\"color: #af87ff; text-decoration-color: #af87ff\">None            </span> │  │\n",
       "│ │ <span style=\"color: #af87ff; text-decoration-color: #af87ff\">measure_day             </span> │ <span style=\"color: #008080; text-decoration-color: #008080\">    0</span> │ <span style=\"color: #008080; text-decoration-color: #008080\">        0</span> │ <span style=\"color: #800000; text-decoration-color: #800000\">    2023-07-07     </span> │ <span style=\"color: #800000; text-decoration-color: #800000\">    2024-07-23    </span> │ <span style=\"color: #af87ff; text-decoration-color: #af87ff\">None            </span> │  │\n",
       "│ └──────────────────────────┴───────┴───────────┴─────────────────────┴────────────────────┴──────────────────┘  │\n",
       "│ <span style=\"font-style: italic\">                                                    string                                                    </span>  │\n",
       "│ ┏━━━━━━━━━━━━━━━━━━━━━━━━━━━┳━━━━━━━━━┳━━━━━━━━━━━━┳━━━━━━━━━━━━━━━━━━━━━━━━━━━━━━┳━━━━━━━━━━━━━━━━━━━━━━━━━━┓  │\n",
       "│ ┃<span style=\"font-weight: bold\"> column_name               </span>┃<span style=\"font-weight: bold\"> NA      </span>┃<span style=\"font-weight: bold\"> NA %       </span>┃<span style=\"font-weight: bold\"> words per row                </span>┃<span style=\"font-weight: bold\"> total words              </span>┃  │\n",
       "│ ┡━━━━━━━━━━━━━━━━━━━━━━━━━━━╇━━━━━━━━━╇━━━━━━━━━━━━╇━━━━━━━━━━━━━━━━━━━━━━━━━━━━━━╇━━━━━━━━━━━━━━━━━━━━━━━━━━┩  │\n",
       "│ │ <span style=\"color: #af87ff; text-decoration-color: #af87ff\">ref_aero                 </span> │ <span style=\"color: #008080; text-decoration-color: #008080\">      0</span> │ <span style=\"color: #008080; text-decoration-color: #008080\">         0</span> │ <span style=\"color: #008080; text-decoration-color: #008080\">                           1</span> │ <span style=\"color: #008080; text-decoration-color: #008080\">                 5140440</span> │  │\n",
       "│ │ <span style=\"color: #af87ff; text-decoration-color: #af87ff\">type_model               </span> │ <span style=\"color: #008080; text-decoration-color: #008080\">      0</span> │ <span style=\"color: #008080; text-decoration-color: #008080\">         0</span> │ <span style=\"color: #008080; text-decoration-color: #008080\">                           1</span> │ <span style=\"color: #008080; text-decoration-color: #008080\">                 5140440</span> │  │\n",
       "│ │ <span style=\"color: #af87ff; text-decoration-color: #af87ff\">ref_vol                  </span> │ <span style=\"color: #008080; text-decoration-color: #008080\">      0</span> │ <span style=\"color: #008080; text-decoration-color: #008080\">         0</span> │ <span style=\"color: #008080; text-decoration-color: #008080\">                           1</span> │ <span style=\"color: #008080; text-decoration-color: #008080\">                 5140440</span> │  │\n",
       "│ │ <span style=\"color: #af87ff; text-decoration-color: #af87ff\">clef                     </span> │ <span style=\"color: #008080; text-decoration-color: #008080\">      0</span> │ <span style=\"color: #008080; text-decoration-color: #008080\">         0</span> │ <span style=\"color: #008080; text-decoration-color: #008080\">                           1</span> │ <span style=\"color: #008080; text-decoration-color: #008080\">                 5147550</span> │  │\n",
       "│ │ <span style=\"color: #af87ff; text-decoration-color: #af87ff\">ref_deg                  </span> │ <span style=\"color: #008080; text-decoration-color: #008080\">      0</span> │ <span style=\"color: #008080; text-decoration-color: #008080\">         0</span> │ <span style=\"color: #008080; text-decoration-color: #008080\">                           1</span> │ <span style=\"color: #008080; text-decoration-color: #008080\">                 5140440</span> │  │\n",
       "│ │ <span style=\"color: #af87ff; text-decoration-color: #af87ff\">ref_compo                </span> │ <span style=\"color: #008080; text-decoration-color: #008080\">      0</span> │ <span style=\"color: #008080; text-decoration-color: #008080\">         0</span> │ <span style=\"color: #008080; text-decoration-color: #008080\">                           1</span> │ <span style=\"color: #008080; text-decoration-color: #008080\">                 5140440</span> │  │\n",
       "│ │ <span style=\"color: #af87ff; text-decoration-color: #af87ff\">desc_compo               </span> │ <span style=\"color: #008080; text-decoration-color: #008080\">      0</span> │ <span style=\"color: #008080; text-decoration-color: #008080\">         0</span> │ <span style=\"color: #008080; text-decoration-color: #008080\">                           3</span> │ <span style=\"color: #008080; text-decoration-color: #008080\">                15535552</span> │  │\n",
       "│ └───────────────────────────┴─────────┴────────────┴──────────────────────────────┴──────────────────────────┘  │\n",
       "╰────────────────────────────────────────────────────── End ──────────────────────────────────────────────────────╯\n",
       "</pre>\n"
      ],
      "text/plain": [
       "╭──────────────────────────────────────────────── skimpy summary ─────────────────────────────────────────────────╮\n",
       "│ \u001b[3m         Data Summary          \u001b[0m \u001b[3m      Data Types       \u001b[0m \u001b[3m       Categories        \u001b[0m                               │\n",
       "│ ┏━━━━━━━━━━━━━━━━━━━┳━━━━━━━━━┓ ┏━━━━━━━━━━━━━┳━━━━━━━┓ ┏━━━━━━━━━━━━━━━━━━━━━━━┓                               │\n",
       "│ ┃\u001b[1;36m \u001b[0m\u001b[1;36mdataframe        \u001b[0m\u001b[1;36m \u001b[0m┃\u001b[1;36m \u001b[0m\u001b[1;36mValues \u001b[0m\u001b[1;36m \u001b[0m┃ ┃\u001b[1;36m \u001b[0m\u001b[1;36mColumn Type\u001b[0m\u001b[1;36m \u001b[0m┃\u001b[1;36m \u001b[0m\u001b[1;36mCount\u001b[0m\u001b[1;36m \u001b[0m┃ ┃\u001b[1;36m \u001b[0m\u001b[1;36mCategorical Variables\u001b[0m\u001b[1;36m \u001b[0m┃                               │\n",
       "│ ┡━━━━━━━━━━━━━━━━━━━╇━━━━━━━━━┩ ┡━━━━━━━━━━━━━╇━━━━━━━┩ ┡━━━━━━━━━━━━━━━━━━━━━━━┩                               │\n",
       "│ │ Number of rows    │ 5140440 │ │ string      │ 7     │ │ etat_voyant           │                               │\n",
       "│ │ Number of columns │ 22      │ │ float64     │ 6     │ │ categorie             │                               │\n",
       "│ └───────────────────┴─────────┘ │ datetime64  │ 4     │ └───────────────────────┘                               │\n",
       "│                                 │ category    │ 2     │                                                         │\n",
       "│                                 │ int32       │ 2     │                                                         │\n",
       "│                                 │ bool        │ 1     │                                                         │\n",
       "│                                 └─────────────┴───────┘                                                         │\n",
       "│ \u001b[3m                                                    number                                                    \u001b[0m  │\n",
       "│ ┏━━━━━━━━━━━━━━━━━━━━━┳━━━━━┳━━━━━━━┳━━━━━━━━┳━━━━━━━━┳━━━━━━━━━━━┳━━━━━━━━┳━━━━━━━━┳━━━━━━━┳━━━━━━━┳━━━━━━━━┓  │\n",
       "│ ┃\u001b[1m \u001b[0m\u001b[1mcolumn_name        \u001b[0m\u001b[1m \u001b[0m┃\u001b[1m \u001b[0m\u001b[1mNA \u001b[0m\u001b[1m \u001b[0m┃\u001b[1m \u001b[0m\u001b[1mNA % \u001b[0m\u001b[1m \u001b[0m┃\u001b[1m \u001b[0m\u001b[1mmean  \u001b[0m\u001b[1m \u001b[0m┃\u001b[1m \u001b[0m\u001b[1msd    \u001b[0m\u001b[1m \u001b[0m┃\u001b[1m \u001b[0m\u001b[1mp0       \u001b[0m\u001b[1m \u001b[0m┃\u001b[1m \u001b[0m\u001b[1mp25   \u001b[0m\u001b[1m \u001b[0m┃\u001b[1m \u001b[0m\u001b[1mp50   \u001b[0m\u001b[1m \u001b[0m┃\u001b[1m \u001b[0m\u001b[1mp75  \u001b[0m\u001b[1m \u001b[0m┃\u001b[1m \u001b[0m\u001b[1mp100 \u001b[0m\u001b[1m \u001b[0m┃\u001b[1m \u001b[0m\u001b[1mhist  \u001b[0m\u001b[1m \u001b[0m┃  │\n",
       "│ ┡━━━━━━━━━━━━━━━━━━━━━╇━━━━━╇━━━━━━━╇━━━━━━━━╇━━━━━━━━╇━━━━━━━━━━━╇━━━━━━━━╇━━━━━━━━╇━━━━━━━╇━━━━━━━╇━━━━━━━━┩  │\n",
       "│ │ \u001b[38;5;141mtime_en_air        \u001b[0m │ \u001b[36m  0\u001b[0m │ \u001b[36m    0\u001b[0m │ \u001b[36m 5.059\u001b[0m │ \u001b[36m 2.444\u001b[0m │ \u001b[36m      0.6\u001b[0m │ \u001b[36m   3.3\u001b[0m │ \u001b[36m     5\u001b[0m │ \u001b[36m  6.7\u001b[0m │ \u001b[36m   15\u001b[0m │ \u001b[32m ▅▇▇▃ \u001b[0m │  │\n",
       "│ │ \u001b[38;5;141mtemp               \u001b[0m │ \u001b[36m  0\u001b[0m │ \u001b[36m    0\u001b[0m │ \u001b[36m 0.114\u001b[0m │ \u001b[36m 9.867\u001b[0m │ \u001b[36m    -36.5\u001b[0m │ \u001b[36m  -6.5\u001b[0m │ \u001b[36m   0.2\u001b[0m │ \u001b[36m  6.7\u001b[0m │ \u001b[36m   35\u001b[0m │ \u001b[32m ▂▇▇▂ \u001b[0m │  │\n",
       "│ │ \u001b[38;5;141mpressure           \u001b[0m │ \u001b[36m  0\u001b[0m │ \u001b[36m    0\u001b[0m │ \u001b[36m 950.8\u001b[0m │ \u001b[36m 49.23\u001b[0m │ \u001b[36m    757.3\u001b[0m │ \u001b[36m 917.2\u001b[0m │ \u001b[36m 951.8\u001b[0m │ \u001b[36m  985\u001b[0m │ \u001b[36m 1110\u001b[0m │ \u001b[32m ▁▅▇▃ \u001b[0m │  │\n",
       "│ │ \u001b[38;5;141mvibrations         \u001b[0m │ \u001b[36m  0\u001b[0m │ \u001b[36m    0\u001b[0m │ \u001b[36m 2.518\u001b[0m │ \u001b[36m 1.451\u001b[0m │ \u001b[36m 0.001847\u001b[0m │ \u001b[36m 1.271\u001b[0m │ \u001b[36m 2.525\u001b[0m │ \u001b[36m3.771\u001b[0m │ \u001b[36m4.999\u001b[0m │ \u001b[32m▇▇▇▇▇▇\u001b[0m │  │\n",
       "│ │ \u001b[38;5;141musure_nouvelle     \u001b[0m │ \u001b[36m  0\u001b[0m │ \u001b[36m    0\u001b[0m │ \u001b[36m 38.82\u001b[0m │ \u001b[36m 18.16\u001b[0m │ \u001b[36m     0.11\u001b[0m │ \u001b[36m 23.77\u001b[0m │ \u001b[36m 38.95\u001b[0m │ \u001b[36m53.71\u001b[0m │ \u001b[36m  100\u001b[0m │ \u001b[32m▃▇▇▇▁ \u001b[0m │  │\n",
       "│ │ \u001b[38;5;141mlifespan           \u001b[0m │ \u001b[36m  0\u001b[0m │ \u001b[36m    0\u001b[0m │ \u001b[36m 13570\u001b[0m │ \u001b[36m  8481\u001b[0m │ \u001b[36m    10020\u001b[0m │ \u001b[36m 11020\u001b[0m │ \u001b[36m 12640\u001b[0m │ \u001b[36m13630\u001b[0m │ \u001b[36m68980\u001b[0m │ \u001b[32m  ▇   \u001b[0m │  │\n",
       "│ │ \u001b[38;5;141mtaux_usure_actuel  \u001b[0m │ \u001b[36m  0\u001b[0m │ \u001b[36m    0\u001b[0m │ \u001b[36m 31.16\u001b[0m │ \u001b[36m 17.26\u001b[0m │ \u001b[36m     0.11\u001b[0m │ \u001b[36m  16.4\u001b[0m │ \u001b[36m 31.23\u001b[0m │ \u001b[36m45.88\u001b[0m │ \u001b[36m68.91\u001b[0m │ \u001b[32m▇▇▇▇▇▂\u001b[0m │  │\n",
       "│ │ \u001b[38;5;141mcout               \u001b[0m │ \u001b[36m  0\u001b[0m │ \u001b[36m    0\u001b[0m │ \u001b[36m 11420\u001b[0m │ \u001b[36m  5763\u001b[0m │ \u001b[36m     2021\u001b[0m │ \u001b[36m  4801\u001b[0m │ \u001b[36m 12660\u001b[0m │ \u001b[36m16270\u001b[0m │ \u001b[36m19490\u001b[0m │ \u001b[32m▇▁▂▇▅▇\u001b[0m │  │\n",
       "│ └─────────────────────┴─────┴───────┴────────┴────────┴───────────┴────────┴────────┴───────┴───────┴────────┘  │\n",
       "│ \u001b[3m                                                   category                                                   \u001b[0m  │\n",
       "│ ┏━━━━━━━━━━━━━━━━━━━━━━━━━━━━━━━━━━┳━━━━━━━━━━━┳━━━━━━━━━━━━━━━━┳━━━━━━━━━━━━━━━━━━━━━━━┳━━━━━━━━━━━━━━━━━━━━┓  │\n",
       "│ ┃\u001b[1m \u001b[0m\u001b[1mcolumn_name                     \u001b[0m\u001b[1m \u001b[0m┃\u001b[1m \u001b[0m\u001b[1mNA       \u001b[0m\u001b[1m \u001b[0m┃\u001b[1m \u001b[0m\u001b[1mNA %          \u001b[0m\u001b[1m \u001b[0m┃\u001b[1m \u001b[0m\u001b[1mordered              \u001b[0m\u001b[1m \u001b[0m┃\u001b[1m \u001b[0m\u001b[1munique            \u001b[0m\u001b[1m \u001b[0m┃  │\n",
       "│ ┡━━━━━━━━━━━━━━━━━━━━━━━━━━━━━━━━━━╇━━━━━━━━━━━╇━━━━━━━━━━━━━━━━╇━━━━━━━━━━━━━━━━━━━━━━━╇━━━━━━━━━━━━━━━━━━━━┩  │\n",
       "│ │ \u001b[38;5;141metat_voyant                     \u001b[0m │ \u001b[36m        0\u001b[0m │ \u001b[36m             0\u001b[0m │ \u001b[38;5;45mFalse                \u001b[0m │ \u001b[36m                 4\u001b[0m │  │\n",
       "│ │ \u001b[38;5;141mcategorie                       \u001b[0m │ \u001b[36m        0\u001b[0m │ \u001b[36m             0\u001b[0m │ \u001b[38;5;45mFalse                \u001b[0m │ \u001b[36m                 3\u001b[0m │  │\n",
       "│ └──────────────────────────────────┴───────────┴────────────────┴───────────────────────┴────────────────────┘  │\n",
       "│ \u001b[3m                                                     bool                                                     \u001b[0m  │\n",
       "│ ┏━━━━━━━━━━━━━━━━━━━━━━━━━━━━━━━━━━━━━━━━┳━━━━━━━━━━━━━━━━━━━━┳━━━━━━━━━━━━━━━━━━━━━━━━━━━┳━━━━━━━━━━━━━━━━━━┓  │\n",
       "│ ┃\u001b[1m \u001b[0m\u001b[1mcolumn_name                           \u001b[0m\u001b[1m \u001b[0m┃\u001b[1m \u001b[0m\u001b[1mtrue              \u001b[0m\u001b[1m \u001b[0m┃\u001b[1m \u001b[0m\u001b[1mtrue rate                \u001b[0m\u001b[1m \u001b[0m┃\u001b[1m \u001b[0m\u001b[1mhist            \u001b[0m\u001b[1m \u001b[0m┃  │\n",
       "│ ┡━━━━━━━━━━━━━━━━━━━━━━━━━━━━━━━━━━━━━━━━╇━━━━━━━━━━━━━━━━━━━━╇━━━━━━━━━━━━━━━━━━━━━━━━━━━╇━━━━━━━━━━━━━━━━━━┩  │\n",
       "│ │ \u001b[38;5;141men_maintenance                        \u001b[0m │ \u001b[36m            277065\u001b[0m │ \u001b[36m                    0.054\u001b[0m │ \u001b[32m       ▇        \u001b[0m │  │\n",
       "│ └────────────────────────────────────────┴────────────────────┴───────────────────────────┴──────────────────┘  │\n",
       "│ \u001b[3m                                                   datetime                                                   \u001b[0m  │\n",
       "│ ┏━━━━━━━━━━━━━━━━━━━━━━━━━━┳━━━━━━━┳━━━━━━━━━━━┳━━━━━━━━━━━━━━━━━━━━━┳━━━━━━━━━━━━━━━━━━━━┳━━━━━━━━━━━━━━━━━━┓  │\n",
       "│ ┃\u001b[1m \u001b[0m\u001b[1mcolumn_name             \u001b[0m\u001b[1m \u001b[0m┃\u001b[1m \u001b[0m\u001b[1mNA   \u001b[0m\u001b[1m \u001b[0m┃\u001b[1m \u001b[0m\u001b[1mNA %     \u001b[0m\u001b[1m \u001b[0m┃\u001b[1m \u001b[0m\u001b[1mfirst              \u001b[0m\u001b[1m \u001b[0m┃\u001b[1m \u001b[0m\u001b[1mlast              \u001b[0m\u001b[1m \u001b[0m┃\u001b[1m \u001b[0m\u001b[1mfrequency       \u001b[0m\u001b[1m \u001b[0m┃  │\n",
       "│ ┡━━━━━━━━━━━━━━━━━━━━━━━━━━╇━━━━━━━╇━━━━━━━━━━━╇━━━━━━━━━━━━━━━━━━━━━╇━━━━━━━━━━━━━━━━━━━━╇━━━━━━━━━━━━━━━━━━┩  │\n",
       "│ │ \u001b[38;5;141mdebut_service           \u001b[0m │ \u001b[36m    0\u001b[0m │ \u001b[36m        0\u001b[0m │ \u001b[31m    2000-02-03     \u001b[0m │ \u001b[31m    2022-11-11    \u001b[0m │ \u001b[38;5;141mNone            \u001b[0m │  │\n",
       "│ │ \u001b[38;5;141mlast_maint              \u001b[0m │ \u001b[36m    0\u001b[0m │ \u001b[36m        0\u001b[0m │ \u001b[31m    2023-07-02     \u001b[0m │ \u001b[31m    2024-06-02    \u001b[0m │ \u001b[38;5;141mNone            \u001b[0m │  │\n",
       "│ │ \u001b[38;5;141mjour_vol                \u001b[0m │ \u001b[36m    0\u001b[0m │ \u001b[36m        0\u001b[0m │ \u001b[31m    2024-06-04     \u001b[0m │ \u001b[31m    2024-07-23    \u001b[0m │ \u001b[38;5;141mNone            \u001b[0m │  │\n",
       "│ │ \u001b[38;5;141mmeasure_day             \u001b[0m │ \u001b[36m    0\u001b[0m │ \u001b[36m        0\u001b[0m │ \u001b[31m    2023-07-07     \u001b[0m │ \u001b[31m    2024-07-23    \u001b[0m │ \u001b[38;5;141mNone            \u001b[0m │  │\n",
       "│ └──────────────────────────┴───────┴───────────┴─────────────────────┴────────────────────┴──────────────────┘  │\n",
       "│ \u001b[3m                                                    string                                                    \u001b[0m  │\n",
       "│ ┏━━━━━━━━━━━━━━━━━━━━━━━━━━━┳━━━━━━━━━┳━━━━━━━━━━━━┳━━━━━━━━━━━━━━━━━━━━━━━━━━━━━━┳━━━━━━━━━━━━━━━━━━━━━━━━━━┓  │\n",
       "│ ┃\u001b[1m \u001b[0m\u001b[1mcolumn_name              \u001b[0m\u001b[1m \u001b[0m┃\u001b[1m \u001b[0m\u001b[1mNA     \u001b[0m\u001b[1m \u001b[0m┃\u001b[1m \u001b[0m\u001b[1mNA %      \u001b[0m\u001b[1m \u001b[0m┃\u001b[1m \u001b[0m\u001b[1mwords per row               \u001b[0m\u001b[1m \u001b[0m┃\u001b[1m \u001b[0m\u001b[1mtotal words             \u001b[0m\u001b[1m \u001b[0m┃  │\n",
       "│ ┡━━━━━━━━━━━━━━━━━━━━━━━━━━━╇━━━━━━━━━╇━━━━━━━━━━━━╇━━━━━━━━━━━━━━━━━━━━━━━━━━━━━━╇━━━━━━━━━━━━━━━━━━━━━━━━━━┩  │\n",
       "│ │ \u001b[38;5;141mref_aero                 \u001b[0m │ \u001b[36m      0\u001b[0m │ \u001b[36m         0\u001b[0m │ \u001b[36m                           1\u001b[0m │ \u001b[36m                 5140440\u001b[0m │  │\n",
       "│ │ \u001b[38;5;141mtype_model               \u001b[0m │ \u001b[36m      0\u001b[0m │ \u001b[36m         0\u001b[0m │ \u001b[36m                           1\u001b[0m │ \u001b[36m                 5140440\u001b[0m │  │\n",
       "│ │ \u001b[38;5;141mref_vol                  \u001b[0m │ \u001b[36m      0\u001b[0m │ \u001b[36m         0\u001b[0m │ \u001b[36m                           1\u001b[0m │ \u001b[36m                 5140440\u001b[0m │  │\n",
       "│ │ \u001b[38;5;141mclef                     \u001b[0m │ \u001b[36m      0\u001b[0m │ \u001b[36m         0\u001b[0m │ \u001b[36m                           1\u001b[0m │ \u001b[36m                 5147550\u001b[0m │  │\n",
       "│ │ \u001b[38;5;141mref_deg                  \u001b[0m │ \u001b[36m      0\u001b[0m │ \u001b[36m         0\u001b[0m │ \u001b[36m                           1\u001b[0m │ \u001b[36m                 5140440\u001b[0m │  │\n",
       "│ │ \u001b[38;5;141mref_compo                \u001b[0m │ \u001b[36m      0\u001b[0m │ \u001b[36m         0\u001b[0m │ \u001b[36m                           1\u001b[0m │ \u001b[36m                 5140440\u001b[0m │  │\n",
       "│ │ \u001b[38;5;141mdesc_compo               \u001b[0m │ \u001b[36m      0\u001b[0m │ \u001b[36m         0\u001b[0m │ \u001b[36m                           3\u001b[0m │ \u001b[36m                15535552\u001b[0m │  │\n",
       "│ └───────────────────────────┴─────────┴────────────┴──────────────────────────────┴──────────────────────────┘  │\n",
       "╰────────────────────────────────────────────────────── End ──────────────────────────────────────────────────────╯\n"
      ]
     },
     "metadata": {},
     "output_type": "display_data"
    }
   ],
   "source": [
    "skim(df_merge_total)"
   ]
  }
 ],
 "metadata": {
  "kernelspec": {
   "display_name": "Python 3",
   "language": "python",
   "name": "python3"
  },
  "language_info": {
   "codemirror_mode": {
    "name": "ipython",
    "version": 3
   },
   "file_extension": ".py",
   "mimetype": "text/x-python",
   "name": "python",
   "nbconvert_exporter": "python",
   "pygments_lexer": "ipython3",
   "version": "3.12.3"
  }
 },
 "nbformat": 4,
 "nbformat_minor": 2
}
