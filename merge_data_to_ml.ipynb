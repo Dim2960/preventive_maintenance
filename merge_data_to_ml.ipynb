{
 "cells": [
  {
   "cell_type": "code",
   "execution_count": null,
   "metadata": {},
   "outputs": [],
   "source": [
    "import pandas as pd\n",
    "\n",
    "import mysql.connector\n",
    "\n",
    "from sqlalchemy import create_engine\n",
    "\n",
    "from skimpy import skim"
   ]
  },
  {
   "cell_type": "markdown",
   "metadata": {},
   "source": [
    "# 0- importation des données en df"
   ]
  },
  {
   "cell_type": "code",
   "execution_count": null,
   "metadata": {},
   "outputs": [],
   "source": [
    "username = 'postgres'\n",
    "password = 'admin'\n",
    "host = '127.0.0.1'  # ou l'adresse IP de votre serveur PostgreSQL\n",
    "port = '5432'  # le port par défaut pour PostgreSQL est 5432\n",
    "database = 'preventive_maintenance'\n",
    "\n",
    "# Créer l'URL de connexion\n",
    "db_url = f'postgresql+psycopg2://{username}:{password}@{host}:{port}/{database}'\n",
    "\n",
    "# Créer le moteur SQLAlchemy\n",
    "engine = create_engine(db_url)\n",
    "\n",
    "# Se connecter à la base de données\n",
    "connexion = engine.connect()\n"
   ]
  },
  {
   "cell_type": "code",
   "execution_count": null,
   "metadata": {},
   "outputs": [],
   "source": [
    "df_aero = pd.read_sql_query('''\n",
    "                  SELECT * \n",
    "                  FROM aeronefs\n",
    "                  ''', connexion)\n"
   ]
  },
  {
   "cell_type": "code",
   "execution_count": null,
   "metadata": {},
   "outputs": [],
   "source": [
    "df_composants = pd.read_sql_query('''\n",
    "                  SELECT * \n",
    "                  FROM composants\n",
    "                  ''', connexion)"
   ]
  },
  {
   "cell_type": "code",
   "execution_count": null,
   "metadata": {},
   "outputs": [],
   "source": [
    "df_degradations = pd.read_sql_query('''\n",
    "                  SELECT * \n",
    "                  FROM degradations\n",
    "                  ''', connexion)"
   ]
  },
  {
   "cell_type": "code",
   "execution_count": null,
   "metadata": {},
   "outputs": [],
   "source": [
    "df_logs_vols = pd.read_sql_query('''\n",
    "                  SELECT * \n",
    "                  FROM logs_vols\n",
    "                  ''', connexion)"
   ]
  },
  {
   "cell_type": "code",
   "execution_count": null,
   "metadata": {},
   "outputs": [],
   "source": [
    "connexion.close()"
   ]
  },
  {
   "cell_type": "markdown",
   "metadata": {},
   "source": [
    "# 1- merge des dataframes"
   ]
  },
  {
   "cell_type": "code",
   "execution_count": null,
   "metadata": {},
   "outputs": [],
   "source": [
    "# merge du degradations et composants en left join avec degradations en left\n",
    "\n",
    "df_merge_aero_log = pd.merge(df_degradations, df_composants, how='inner', left_on='compo_concerned', right_on='ref_compo')"
   ]
  },
  {
   "cell_type": "code",
   "execution_count": null,
   "metadata": {},
   "outputs": [],
   "source": [
    "# faire un group by par categoriee et ref_aero\n",
    "df_merge_aero_log.groupby(['ref_aero', 'categorie' ])"
   ]
  },
  {
   "cell_type": "code",
   "execution_count": null,
   "metadata": {},
   "outputs": [],
   "source": []
  },
  {
   "cell_type": "code",
   "execution_count": null,
   "metadata": {},
   "outputs": [],
   "source": [
    "# merge du aeronefs et compoosants en left join avec aeronefs en left\n",
    "\n",
    "df_merge_aero_log = pd.merge(df_aero, df_logs_vols, how='inner', left_on='ref_aero', right_on='aero_linked')"
   ]
  },
  {
   "cell_type": "code",
   "execution_count": null,
   "metadata": {},
   "outputs": [],
   "source": [
    "# merge du df_merge_aero_compo et degradations en left join avec df_merge_aero_compo en left\n",
    "\n",
    "df_merge_aero_log_degrad = pd.merge(df_merge_aero_log, df_degradations, how='inner', left_on='ref_aero', right_on='linked_aero')"
   ]
  },
  {
   "cell_type": "code",
   "execution_count": null,
   "metadata": {},
   "outputs": [],
   "source": [
    "# merge du df_merge_aero_compo et degradations en left join avec df_merge_aero_compo en left\n",
    "\n",
    "df_merge_total = pd.merge(df_merge_aero_log_degrad, df_composants, how='left', left_on='compo_concerned', right_on='ref_compo')"
   ]
  },
  {
   "cell_type": "code",
   "execution_count": null,
   "metadata": {},
   "outputs": [],
   "source": [
    "df_merge_total.shape"
   ]
  },
  {
   "cell_type": "code",
   "execution_count": null,
   "metadata": {},
   "outputs": [],
   "source": [
    "del df_aero, df_logs_vols, df_merge_aero_log, df_merge_aero_log_degrad, df_degradations, df_composants"
   ]
  },
  {
   "cell_type": "markdown",
   "metadata": {},
   "source": [
    "# 2- Nettoayage du df"
   ]
  },
  {
   "cell_type": "code",
   "execution_count": null,
   "metadata": {},
   "outputs": [],
   "source": [
    "df_merge_total.columns"
   ]
  },
  {
   "cell_type": "code",
   "execution_count": null,
   "metadata": {},
   "outputs": [],
   "source": [
    "df_merge_total = df_merge_total.drop(columns=[\n",
    "                            'aero_linked', \n",
    "                            'sensor_data',\n",
    "                            'temp_unit',\n",
    "                            'pressure_unit', \n",
    "                            'vibrations_unit',\n",
    "                            'linked_aero', \n",
    "                            'compo_concerned',\n",
    "                            'aero'])"
   ]
  },
  {
   "cell_type": "code",
   "execution_count": null,
   "metadata": {},
   "outputs": [],
   "source": [
    "pd.set_option(\"display.max_columns\", None)"
   ]
  },
  {
   "cell_type": "code",
   "execution_count": null,
   "metadata": {},
   "outputs": [],
   "source": [
    "df_merge_total.head(3)"
   ]
  },
  {
   "cell_type": "code",
   "execution_count": null,
   "metadata": {},
   "outputs": [],
   "source": [
    "# skim(df_merge_total)"
   ]
  },
  {
   "cell_type": "code",
   "execution_count": null,
   "metadata": {},
   "outputs": [],
   "source": [
    "# suppression des colonne n'apportant pas d'informations\n",
    "df_merge_total = df_merge_total.drop(columns=['need_replacement', 'end_maint'])"
   ]
  },
  {
   "cell_type": "code",
   "execution_count": null,
   "metadata": {},
   "outputs": [],
   "source": [
    "# modification du type pour date \n",
    "df_merge_total['debut_service'] = pd.to_datetime(df_merge_total['debut_service'], format='%Y-%m-%d')\n",
    "df_merge_total['last_maint'] = pd.to_datetime(df_merge_total['last_maint'], format='%Y-%m-%d')\n",
    "df_merge_total['jour_vol'] = pd.to_datetime(df_merge_total['jour_vol'], format='%Y-%m-%d')\n",
    "df_merge_total['measure_day'] = pd.to_datetime(df_merge_total['measure_day'], format='%Y-%m-%d')"
   ]
  },
  {
   "cell_type": "code",
   "execution_count": null,
   "metadata": {},
   "outputs": [],
   "source": [
    "# modif type category\n",
    "df_merge_total['etat_voyant'] = df_merge_total['etat_voyant'].astype('category')         \n",
    "df_merge_total['categorie'] = df_merge_total['categorie'].astype('category') "
   ]
  },
  {
   "cell_type": "code",
   "execution_count": null,
   "metadata": {},
   "outputs": [],
   "source": [
    "# Ajout d'une colonne temps de vol cumulé depuis la derniere maintenance\n",
    "\n",
    "# Assumons que df_merge_total est le DataFrame fourni et qu'il contient les colonnes 'temps_de_vol', 'last_maint', 'jour_vol', et 'ref_aero'\n",
    "# Trier le DataFrame par avion et par date de vol\n",
    "df_merge_total = df_merge_total.sort_values(by=['ref_aero', 'jour_vol']).reset_index(drop=True)\n",
    "\n",
    "# Initialiser la colonne 'temps_de_vol_cumule' avec des zéros\n",
    "df_merge_total['temps_de_vol_cumule'] = 0\n",
    "\n",
    "# Parcourir chaque avion\n",
    "for avion in df_merge_total['ref_aero'].unique():\n",
    "    # Filtrer les données pour l'avion actuel\n",
    "    df_avion = df_merge_total[df_merge_total['ref_aero'] == avion]\n",
    "    \n",
    "    # Variable pour stocker le temps de vol cumulé\n",
    "    temps_de_vol_cumule = 0\n",
    "    \n",
    "    # Parcourir chaque ligne du DataFrame filtré pour l'avion actuel\n",
    "    for i in df_avion.index:\n",
    "        # Si la maintenance a eu lieu (en supposant que 'last_maint' est un booléen ou indicatif)\n",
    "        if df_merge_total.loc[i, 'last_maint']:\n",
    "            # Réinitialiser le temps de vol cumulé\n",
    "            temps_de_vol_cumule = 0\n",
    "        \n",
    "        # Ajouter le temps de vol actuel au temps de vol cumulé\n",
    "        temps_de_vol_cumule += df_merge_total.loc[i, 'time_en_air']\n",
    "        \n",
    "        # Mettre à jour la colonne 'temps_de_vol_cumule'\n",
    "        df_merge_total.loc[i, 'temps_de_vol_cumule'] = temps_de_vol_cumule\n",
    "\n",
    "\n",
    "        # affichage de la progression en %\n",
    "        # print(f\"Progression pour l'avion {avion}: {(i+1)/len(df_merge_total)*100:.2f}%\")\n",
    "\n",
    "\n"
   ]
  },
  {
   "cell_type": "code",
   "execution_count": null,
   "metadata": {},
   "outputs": [],
   "source": [
    "# skim(df_merge_total)"
   ]
  },
  {
   "cell_type": "code",
   "execution_count": null,
   "metadata": {},
   "outputs": [],
   "source": [
    "df_merge_total.to_parquet('data_preclean_avion.parquet')"
   ]
  }
 ],
 "metadata": {
  "kernelspec": {
   "display_name": "Python 3",
   "language": "python",
   "name": "python3"
  },
  "language_info": {
   "codemirror_mode": {
    "name": "ipython",
    "version": 3
   },
   "file_extension": ".py",
   "mimetype": "text/x-python",
   "name": "python",
   "nbconvert_exporter": "python",
   "pygments_lexer": "ipython3",
   "version": "3.12.3"
  }
 },
 "nbformat": 4,
 "nbformat_minor": 2
}
