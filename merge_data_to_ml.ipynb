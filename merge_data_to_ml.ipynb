{
 "cells": [
  {
   "cell_type": "code",
   "execution_count": 2,
   "metadata": {},
   "outputs": [],
   "source": [
    "import pandas as pd\n",
    "\n",
    "import mysql.connector\n",
    "\n",
    "from sqlalchemy import create_engine\n",
    "\n",
    "from skimpy import skim"
   ]
  },
  {
   "cell_type": "markdown",
   "metadata": {},
   "source": [
    "# 0- importation des données en df"
   ]
  },
  {
   "cell_type": "code",
   "execution_count": 3,
   "metadata": {},
   "outputs": [],
   "source": [
    "username = 'postgres'\n",
    "password = 'admin'\n",
    "host = '127.0.0.1'  # ou l'adresse IP de votre serveur PostgreSQL\n",
    "port = '5432'  # le port par défaut pour PostgreSQL est 5432\n",
    "database = 'preventive_maintenance'\n",
    "\n",
    "# Créer l'URL de connexion\n",
    "db_url = f'postgresql+psycopg2://{username}:{password}@{host}:{port}/{database}'\n",
    "\n",
    "# Créer le moteur SQLAlchemy\n",
    "engine = create_engine(db_url)\n",
    "\n",
    "# Se connecter à la base de données\n",
    "connexion = engine.connect()\n"
   ]
  },
  {
   "cell_type": "code",
   "execution_count": 4,
   "metadata": {},
   "outputs": [],
   "source": [
    "df_aero = pd.read_sql_query('''\n",
    "                  SELECT * \n",
    "                  FROM aeronefs\n",
    "                  ''', connexion)\n"
   ]
  },
  {
   "cell_type": "code",
   "execution_count": 5,
   "metadata": {},
   "outputs": [],
   "source": [
    "df_composants = pd.read_sql_query('''\n",
    "                  SELECT * \n",
    "                  FROM composants\n",
    "                  ''', connexion)"
   ]
  },
  {
   "cell_type": "code",
   "execution_count": 6,
   "metadata": {},
   "outputs": [],
   "source": [
    "df_degradations = pd.read_sql_query('''\n",
    "                  SELECT * \n",
    "                  FROM degradations\n",
    "                  ''', connexion)"
   ]
  },
  {
   "cell_type": "code",
   "execution_count": 7,
   "metadata": {},
   "outputs": [],
   "source": [
    "df_logs_vols = pd.read_sql_query('''\n",
    "                  SELECT * \n",
    "                  FROM logs_vols\n",
    "                  ''', connexion)"
   ]
  },
  {
   "cell_type": "code",
   "execution_count": 8,
   "metadata": {},
   "outputs": [],
   "source": [
    "connexion.close()"
   ]
  },
  {
   "cell_type": "markdown",
   "metadata": {},
   "source": [
    "# 1- merge des dataframes"
   ]
  },
  {
   "cell_type": "code",
   "execution_count": 9,
   "metadata": {},
   "outputs": [],
   "source": [
    "# merge du degradations et composants en left join avec degradations en left\n",
    "\n",
    "df_merge_deg_compo = pd.merge(df_degradations, df_composants, how='inner', left_on='compo_concerned', right_on='ref_compo')"
   ]
  },
  {
   "cell_type": "code",
   "execution_count": 10,
   "metadata": {},
   "outputs": [
    {
     "data": {
      "text/html": [
       "<div>\n",
       "<style scoped>\n",
       "    .dataframe tbody tr th:only-of-type {\n",
       "        vertical-align: middle;\n",
       "    }\n",
       "\n",
       "    .dataframe tbody tr th {\n",
       "        vertical-align: top;\n",
       "    }\n",
       "\n",
       "    .dataframe thead th {\n",
       "        text-align: right;\n",
       "    }\n",
       "</style>\n",
       "<table border=\"1\" class=\"dataframe\">\n",
       "  <thead>\n",
       "    <tr style=\"text-align: right;\">\n",
       "      <th></th>\n",
       "      <th>clef</th>\n",
       "      <th>ref_deg</th>\n",
       "      <th>linked_aero</th>\n",
       "      <th>compo_concerned</th>\n",
       "      <th>usure_nouvelle</th>\n",
       "      <th>measure_day</th>\n",
       "      <th>need_replacement</th>\n",
       "      <th>ref_compo</th>\n",
       "      <th>categorie</th>\n",
       "      <th>aero</th>\n",
       "      <th>desc_compo</th>\n",
       "      <th>lifespan</th>\n",
       "      <th>taux_usure_actuel</th>\n",
       "      <th>cout</th>\n",
       "    </tr>\n",
       "  </thead>\n",
       "  <tbody>\n",
       "    <tr>\n",
       "      <th>0</th>\n",
       "      <td>D001982CRJ700_6943SYSCRJ700-CRJ700_6943-292024...</td>\n",
       "      <td>D001982</td>\n",
       "      <td>CRJ700_6943</td>\n",
       "      <td>SYSCRJ700-CRJ700_6943-29</td>\n",
       "      <td>16.941998</td>\n",
       "      <td>2024-06-02</td>\n",
       "      <td>False</td>\n",
       "      <td>SYSCRJ700-CRJ700_6943-29</td>\n",
       "      <td>Composants Majeurs</td>\n",
       "      <td>CRJ700_6943</td>\n",
       "      <td>Système d'extinction d'incendie</td>\n",
       "      <td>11971</td>\n",
       "      <td>16.941998</td>\n",
       "      <td>10109</td>\n",
       "    </tr>\n",
       "  </tbody>\n",
       "</table>\n",
       "</div>"
      ],
      "text/plain": [
       "                                                clef  ref_deg  linked_aero  \\\n",
       "0  D001982CRJ700_6943SYSCRJ700-CRJ700_6943-292024...  D001982  CRJ700_6943   \n",
       "\n",
       "            compo_concerned  usure_nouvelle measure_day  need_replacement  \\\n",
       "0  SYSCRJ700-CRJ700_6943-29       16.941998  2024-06-02             False   \n",
       "\n",
       "                  ref_compo           categorie         aero  \\\n",
       "0  SYSCRJ700-CRJ700_6943-29  Composants Majeurs  CRJ700_6943   \n",
       "\n",
       "                        desc_compo  lifespan  taux_usure_actuel   cout  \n",
       "0  Système d'extinction d'incendie     11971          16.941998  10109  "
      ]
     },
     "execution_count": 10,
     "metadata": {},
     "output_type": "execute_result"
    }
   ],
   "source": [
    "df_merge_deg_compo.head(1)"
   ]
  },
  {
   "cell_type": "code",
   "execution_count": 11,
   "metadata": {},
   "outputs": [],
   "source": [
    "# faire un group by par categoriee et ref_aero\n",
    "df_merge_deg_compo_gb = df_merge_deg_compo.groupby(['aero', 'categorie', 'measure_day']).agg({'usure_nouvelle': ['max', 'mean']}).reset_index()\n",
    "\n",
    "# Aplatir les colonnes\n",
    "df_merge_deg_compo_gb.columns = ['_'.join(col).strip() if col[1] else col[0] for col in df_merge_deg_compo_gb.columns.values]\n"
   ]
  },
  {
   "cell_type": "code",
   "execution_count": 12,
   "metadata": {},
   "outputs": [],
   "source": [
    "# faire un pivot pour obtenir une seule ligne par avion\n",
    "df_pivot = df_merge_deg_compo_gb.pivot_table(index=['aero', 'measure_day'], columns=['categorie'], values=['usure_nouvelle_max', 'usure_nouvelle_mean'], aggfunc='first').reset_index()\n",
    "\n",
    "df_pivot.columns = ['_'.join([str(i) for i in col]).strip() for col in df_pivot.columns.values]\n"
   ]
  },
  {
   "cell_type": "code",
   "execution_count": 13,
   "metadata": {},
   "outputs": [],
   "source": [
    "df_pivot['measure_day_'] = df_pivot['measure_day_'].astype('str')"
   ]
  },
  {
   "cell_type": "code",
   "execution_count": 14,
   "metadata": {},
   "outputs": [],
   "source": [
    "# ajout d'une clé aero et mesure_day\n",
    "df_pivot['cle'] = df_pivot.apply(lambda x: x['aero_'] + '_' + x['measure_day_'], axis=1)"
   ]
  },
  {
   "cell_type": "code",
   "execution_count": 15,
   "metadata": {},
   "outputs": [
    {
     "data": {
      "text/html": [
       "<div>\n",
       "<style scoped>\n",
       "    .dataframe tbody tr th:only-of-type {\n",
       "        vertical-align: middle;\n",
       "    }\n",
       "\n",
       "    .dataframe tbody tr th {\n",
       "        vertical-align: top;\n",
       "    }\n",
       "\n",
       "    .dataframe thead th {\n",
       "        text-align: right;\n",
       "    }\n",
       "</style>\n",
       "<table border=\"1\" class=\"dataframe\">\n",
       "  <thead>\n",
       "    <tr style=\"text-align: right;\">\n",
       "      <th></th>\n",
       "      <th>ref_vol</th>\n",
       "      <th>aero_linked</th>\n",
       "      <th>jour_vol</th>\n",
       "      <th>time_en_air</th>\n",
       "      <th>sensor_data</th>\n",
       "      <th>etat_voyant</th>\n",
       "      <th>temp</th>\n",
       "      <th>temp_unit</th>\n",
       "      <th>pressure</th>\n",
       "      <th>pressure_unit</th>\n",
       "      <th>vibrations</th>\n",
       "      <th>vibrations_unit</th>\n",
       "    </tr>\n",
       "  </thead>\n",
       "  <tbody>\n",
       "    <tr>\n",
       "      <th>0</th>\n",
       "      <td>V06783026</td>\n",
       "      <td>A320_6242</td>\n",
       "      <td>2024-06-04</td>\n",
       "      <td>6.2</td>\n",
       "      <td>{'temp': '-14.7°C', 'pressure': '1009.1 hPa', ...</td>\n",
       "      <td>1</td>\n",
       "      <td>-14.7</td>\n",
       "      <td>°C</td>\n",
       "      <td>1009.1</td>\n",
       "      <td>hPa</td>\n",
       "      <td>0.015340</td>\n",
       "      <td>m/s²</td>\n",
       "    </tr>\n",
       "    <tr>\n",
       "      <th>1</th>\n",
       "      <td>V06810954</td>\n",
       "      <td>A380_5199</td>\n",
       "      <td>2024-06-04</td>\n",
       "      <td>2.1</td>\n",
       "      <td>{'temp': '2.9°C', 'pressure': '1015.8 hPa', 'v...</td>\n",
       "      <td>0</td>\n",
       "      <td>2.9</td>\n",
       "      <td>°C</td>\n",
       "      <td>1015.8</td>\n",
       "      <td>hPa</td>\n",
       "      <td>2.317764</td>\n",
       "      <td>m/s²</td>\n",
       "    </tr>\n",
       "    <tr>\n",
       "      <th>2</th>\n",
       "      <td>V05201226</td>\n",
       "      <td>A350_3122</td>\n",
       "      <td>2024-06-04</td>\n",
       "      <td>7.7</td>\n",
       "      <td>{'temp': '8.0°C', 'pressure': '934.2 hPa', 'vi...</td>\n",
       "      <td>0</td>\n",
       "      <td>8.0</td>\n",
       "      <td>°C</td>\n",
       "      <td>934.2</td>\n",
       "      <td>hPa</td>\n",
       "      <td>1.999378</td>\n",
       "      <td>m/s²</td>\n",
       "    </tr>\n",
       "    <tr>\n",
       "      <th>3</th>\n",
       "      <td>V05582404</td>\n",
       "      <td>B747_3165</td>\n",
       "      <td>2024-06-04</td>\n",
       "      <td>8.3</td>\n",
       "      <td>{'temp': '7.3°C', 'pressure': '999.9 hPa', 'vi...</td>\n",
       "      <td>0</td>\n",
       "      <td>7.3</td>\n",
       "      <td>°C</td>\n",
       "      <td>999.9</td>\n",
       "      <td>hPa</td>\n",
       "      <td>0.875383</td>\n",
       "      <td>m/s²</td>\n",
       "    </tr>\n",
       "    <tr>\n",
       "      <th>4</th>\n",
       "      <td>V01713095</td>\n",
       "      <td>A350_6452</td>\n",
       "      <td>2024-06-04</td>\n",
       "      <td>9.8</td>\n",
       "      <td>{'temp': '-11.4°C', 'pressure': '946.7 hPa', '...</td>\n",
       "      <td>0</td>\n",
       "      <td>-11.4</td>\n",
       "      <td>°C</td>\n",
       "      <td>946.7</td>\n",
       "      <td>hPa</td>\n",
       "      <td>1.551531</td>\n",
       "      <td>m/s²</td>\n",
       "    </tr>\n",
       "    <tr>\n",
       "      <th>...</th>\n",
       "      <td>...</td>\n",
       "      <td>...</td>\n",
       "      <td>...</td>\n",
       "      <td>...</td>\n",
       "      <td>...</td>\n",
       "      <td>...</td>\n",
       "      <td>...</td>\n",
       "      <td>...</td>\n",
       "      <td>...</td>\n",
       "      <td>...</td>\n",
       "      <td>...</td>\n",
       "      <td>...</td>\n",
       "    </tr>\n",
       "    <tr>\n",
       "      <th>5036</th>\n",
       "      <td>V04286711</td>\n",
       "      <td>B767_2790</td>\n",
       "      <td>2024-07-22</td>\n",
       "      <td>7.4</td>\n",
       "      <td>{'temp': '4.1°C', 'pressure': '895.8 hPa', 'vi...</td>\n",
       "      <td>0</td>\n",
       "      <td>4.1</td>\n",
       "      <td>°C</td>\n",
       "      <td>895.8</td>\n",
       "      <td>hPa</td>\n",
       "      <td>0.944693</td>\n",
       "      <td>m/s²</td>\n",
       "    </tr>\n",
       "    <tr>\n",
       "      <th>5037</th>\n",
       "      <td>V09194923</td>\n",
       "      <td>E170_0081</td>\n",
       "      <td>2024-07-23</td>\n",
       "      <td>6.6</td>\n",
       "      <td>{'temp': '-10.0°C', 'pressure': '932.0 hPa', '...</td>\n",
       "      <td>0</td>\n",
       "      <td>-10.0</td>\n",
       "      <td>°C</td>\n",
       "      <td>932.0</td>\n",
       "      <td>hPa</td>\n",
       "      <td>3.773418</td>\n",
       "      <td>m/s²</td>\n",
       "    </tr>\n",
       "    <tr>\n",
       "      <th>5038</th>\n",
       "      <td>V02111126</td>\n",
       "      <td>A330_1199</td>\n",
       "      <td>2024-07-23</td>\n",
       "      <td>2.4</td>\n",
       "      <td>{'temp': '9.9°C', 'pressure': '968.0 hPa', 'vi...</td>\n",
       "      <td>0</td>\n",
       "      <td>9.9</td>\n",
       "      <td>°C</td>\n",
       "      <td>968.0</td>\n",
       "      <td>hPa</td>\n",
       "      <td>1.499379</td>\n",
       "      <td>m/s²</td>\n",
       "    </tr>\n",
       "    <tr>\n",
       "      <th>5039</th>\n",
       "      <td>V06239425</td>\n",
       "      <td>A350_1689</td>\n",
       "      <td>2024-07-23</td>\n",
       "      <td>4.5</td>\n",
       "      <td>{'temp': '10.9°C', 'pressure': '1024.4 hPa', '...</td>\n",
       "      <td>0</td>\n",
       "      <td>10.9</td>\n",
       "      <td>°C</td>\n",
       "      <td>1024.4</td>\n",
       "      <td>hPa</td>\n",
       "      <td>4.637732</td>\n",
       "      <td>m/s²</td>\n",
       "    </tr>\n",
       "    <tr>\n",
       "      <th>5040</th>\n",
       "      <td>V02658480</td>\n",
       "      <td>A321_6807</td>\n",
       "      <td>2024-07-23</td>\n",
       "      <td>3.3</td>\n",
       "      <td>{'temp': '-1.2°C', 'pressure': '990.5 hPa', 'v...</td>\n",
       "      <td>0</td>\n",
       "      <td>-1.2</td>\n",
       "      <td>°C</td>\n",
       "      <td>990.5</td>\n",
       "      <td>hPa</td>\n",
       "      <td>0.080199</td>\n",
       "      <td>m/s²</td>\n",
       "    </tr>\n",
       "  </tbody>\n",
       "</table>\n",
       "<p>5041 rows × 12 columns</p>\n",
       "</div>"
      ],
      "text/plain": [
       "        ref_vol aero_linked    jour_vol  time_en_air  \\\n",
       "0     V06783026   A320_6242  2024-06-04          6.2   \n",
       "1     V06810954   A380_5199  2024-06-04          2.1   \n",
       "2     V05201226   A350_3122  2024-06-04          7.7   \n",
       "3     V05582404   B747_3165  2024-06-04          8.3   \n",
       "4     V01713095   A350_6452  2024-06-04          9.8   \n",
       "...         ...         ...         ...          ...   \n",
       "5036  V04286711   B767_2790  2024-07-22          7.4   \n",
       "5037  V09194923   E170_0081  2024-07-23          6.6   \n",
       "5038  V02111126   A330_1199  2024-07-23          2.4   \n",
       "5039  V06239425   A350_1689  2024-07-23          4.5   \n",
       "5040  V02658480   A321_6807  2024-07-23          3.3   \n",
       "\n",
       "                                            sensor_data  etat_voyant  temp  \\\n",
       "0     {'temp': '-14.7°C', 'pressure': '1009.1 hPa', ...            1 -14.7   \n",
       "1     {'temp': '2.9°C', 'pressure': '1015.8 hPa', 'v...            0   2.9   \n",
       "2     {'temp': '8.0°C', 'pressure': '934.2 hPa', 'vi...            0   8.0   \n",
       "3     {'temp': '7.3°C', 'pressure': '999.9 hPa', 'vi...            0   7.3   \n",
       "4     {'temp': '-11.4°C', 'pressure': '946.7 hPa', '...            0 -11.4   \n",
       "...                                                 ...          ...   ...   \n",
       "5036  {'temp': '4.1°C', 'pressure': '895.8 hPa', 'vi...            0   4.1   \n",
       "5037  {'temp': '-10.0°C', 'pressure': '932.0 hPa', '...            0 -10.0   \n",
       "5038  {'temp': '9.9°C', 'pressure': '968.0 hPa', 'vi...            0   9.9   \n",
       "5039  {'temp': '10.9°C', 'pressure': '1024.4 hPa', '...            0  10.9   \n",
       "5040  {'temp': '-1.2°C', 'pressure': '990.5 hPa', 'v...            0  -1.2   \n",
       "\n",
       "     temp_unit  pressure pressure_unit  vibrations vibrations_unit  \n",
       "0           °C    1009.1           hPa    0.015340            m/s²  \n",
       "1           °C    1015.8           hPa    2.317764            m/s²  \n",
       "2           °C     934.2           hPa    1.999378            m/s²  \n",
       "3           °C     999.9           hPa    0.875383            m/s²  \n",
       "4           °C     946.7           hPa    1.551531            m/s²  \n",
       "...        ...       ...           ...         ...             ...  \n",
       "5036        °C     895.8           hPa    0.944693            m/s²  \n",
       "5037        °C     932.0           hPa    3.773418            m/s²  \n",
       "5038        °C     968.0           hPa    1.499379            m/s²  \n",
       "5039        °C    1024.4           hPa    4.637732            m/s²  \n",
       "5040        °C     990.5           hPa    0.080199            m/s²  \n",
       "\n",
       "[5041 rows x 12 columns]"
      ]
     },
     "execution_count": 15,
     "metadata": {},
     "output_type": "execute_result"
    }
   ],
   "source": [
    "df_logs_vols"
   ]
  },
  {
   "cell_type": "code",
   "execution_count": 18,
   "metadata": {},
   "outputs": [],
   "source": [
    "df_logs_vols['jour_vol'] = df_logs_vols['jour_vol'].astype('str')"
   ]
  },
  {
   "cell_type": "code",
   "execution_count": 19,
   "metadata": {},
   "outputs": [],
   "source": [
    "# ajout d'une clé aero et mesure_day sur le df_logs_vols\n",
    "df_logs_vols['cle'] = df_logs_vols.apply(lambda x: x['aero_linked'] + '_' + x['jour_vol'], axis=1)"
   ]
  },
  {
   "cell_type": "code",
   "execution_count": 20,
   "metadata": {},
   "outputs": [],
   "source": [
    "# merge de df_log_vol et df_pivot\n",
    "\n",
    "df_merge_pivot_logvol = pd.merge(df_pivot, df_logs_vols, how='inner', left_on='cle', right_on='cle')"
   ]
  },
  {
   "cell_type": "code",
   "execution_count": 22,
   "metadata": {},
   "outputs": [],
   "source": [
    "# merge de df_aero et df_merge_pivot_logvol\n",
    "\n",
    "df_merge_tot = pd.merge(df_merge_pivot_logvol, df_aero, how='inner', left_on='aero_linked', right_on='ref_aero')"
   ]
  },
  {
   "cell_type": "code",
   "execution_count": 24,
   "metadata": {},
   "outputs": [
    {
     "data": {
      "text/plain": [
       "(5016, 27)"
      ]
     },
     "execution_count": 24,
     "metadata": {},
     "output_type": "execute_result"
    }
   ],
   "source": [
    "df_merge_tot.shape"
   ]
  },
  {
   "cell_type": "code",
   "execution_count": null,
   "metadata": {},
   "outputs": [],
   "source": []
  },
  {
   "cell_type": "code",
   "execution_count": 25,
   "metadata": {},
   "outputs": [],
   "source": [
    "del df_aero, df_logs_vols, df_merge_pivot_logvol, df_degradations, df_composants"
   ]
  },
  {
   "cell_type": "markdown",
   "metadata": {},
   "source": [
    "# 2- Nettoayage du df"
   ]
  },
  {
   "cell_type": "code",
   "execution_count": 26,
   "metadata": {},
   "outputs": [
    {
     "data": {
      "text/plain": [
       "Index(['aero_', 'measure_day_', 'usure_nouvelle_max_Composants Critiques',\n",
       "       'usure_nouvelle_max_Composants Majeurs',\n",
       "       'usure_nouvelle_max_Composants Secondaires',\n",
       "       'usure_nouvelle_mean_Composants Critiques',\n",
       "       'usure_nouvelle_mean_Composants Majeurs',\n",
       "       'usure_nouvelle_mean_Composants Secondaires', 'cle', 'ref_vol',\n",
       "       'aero_linked', 'jour_vol', 'time_en_air', 'sensor_data', 'etat_voyant',\n",
       "       'temp', 'temp_unit', 'pressure', 'pressure_unit', 'vibrations',\n",
       "       'vibrations_unit', 'ref_aero', 'type_model', 'debut_service',\n",
       "       'last_maint', 'en_maintenance', 'end_maint'],\n",
       "      dtype='object')"
      ]
     },
     "execution_count": 26,
     "metadata": {},
     "output_type": "execute_result"
    }
   ],
   "source": [
    "# df_merge_tot.columns"
   ]
  },
  {
   "cell_type": "code",
   "execution_count": 28,
   "metadata": {},
   "outputs": [],
   "source": [
    "# suppression des colonne n'apportant pas d'informations\n",
    "df_merge_tot = df_merge_tot.drop(columns=[\n",
    "                            'cle', 'ref_vol',\n",
    "                            'aero_linked', 'jour_vol', 'sensor_data', \n",
    "                            'temp_unit', 'pressure_unit',\n",
    "                            'vibrations_unit', 'ref_aero', \n",
    "                            'end_maint'])"
   ]
  },
  {
   "cell_type": "code",
   "execution_count": 29,
   "metadata": {},
   "outputs": [],
   "source": [
    "pd.set_option(\"display.max_columns\", None)"
   ]
  },
  {
   "cell_type": "code",
   "execution_count": null,
   "metadata": {},
   "outputs": [],
   "source": [
    "# skim(df_merge_total)"
   ]
  },
  {
   "cell_type": "code",
   "execution_count": 31,
   "metadata": {},
   "outputs": [],
   "source": [
    "# modification du type pour date \n",
    "df_merge_total['debut_service'] = pd.to_datetime(df_merge_total['debut_service'], format='%Y-%m-%d')\n",
    "df_merge_total['last_maint'] = pd.to_datetime(df_merge_total['last_maint'], format='%Y-%m-%d')\n",
    "df_merge_total['measure_day'] = pd.to_datetime(df_merge_total['measure_day_'], format='%Y-%m-%d')"
   ]
  },
  {
   "cell_type": "code",
   "execution_count": 32,
   "metadata": {},
   "outputs": [],
   "source": [
    "# modif type category\n",
    "df_merge_total['etat_voyant'] = df_merge_total['etat_voyant'].astype('category')  "
   ]
  },
  {
   "cell_type": "code",
   "execution_count": 33,
   "metadata": {},
   "outputs": [
    {
     "name": "stderr",
     "output_type": "stream",
     "text": [
      "C:\\Users\\dimle\\AppData\\Local\\Temp\\ipykernel_22920\\2752787940.py:29: FutureWarning: Setting an item of incompatible dtype is deprecated and will raise an error in a future version of pandas. Value '9.8' has dtype incompatible with int64, please explicitly cast to a compatible dtype first.\n",
      "  df_merge_total.loc[i, 'temps_de_vol_cumule'] = temps_de_vol_cumule\n"
     ]
    }
   ],
   "source": [
    "# Ajout d'une colonne temps de vol cumulé depuis la derniere maintenance\n",
    "\n",
    "# Assumons que df_merge_total est le DataFrame fourni et qu'il contient les colonnes 'temps_de_vol', 'last_maint', 'jour_vol', et 'ref_aero'\n",
    "# Trier le DataFrame par avion et par date de vol\n",
    "df_merge_total = df_merge_total.sort_values(by=['aero_', 'measure_day']).reset_index(drop=True)\n",
    "\n",
    "# Initialiser la colonne 'temps_de_vol_cumule' avec des zéros\n",
    "df_merge_total['temps_de_vol_cumule'] = 0\n",
    "\n",
    "# Parcourir chaque avion\n",
    "for avion in df_merge_total['aero_'].unique():\n",
    "    # Filtrer les données pour l'avion actuel\n",
    "    df_avion = df_merge_total[df_merge_total['aero_'] == avion]\n",
    "    \n",
    "    # Variable pour stocker le temps de vol cumulé\n",
    "    temps_de_vol_cumule = 0\n",
    "    \n",
    "    # Parcourir chaque ligne du DataFrame filtré pour l'avion actuel\n",
    "    for i in df_avion.index:\n",
    "        # Si la maintenance a eu lieu (en supposant que 'last_maint' est un booléen ou indicatif)\n",
    "        if df_merge_total.loc[i, 'last_maint']:\n",
    "            # Réinitialiser le temps de vol cumulé\n",
    "            temps_de_vol_cumule = 0\n",
    "        \n",
    "        # Ajouter le temps de vol actuel au temps de vol cumulé\n",
    "        temps_de_vol_cumule += df_merge_total.loc[i, 'time_en_air']\n",
    "        \n",
    "        # Mettre à jour la colonne 'temps_de_vol_cumule'\n",
    "        df_merge_total.loc[i, 'temps_de_vol_cumule'] = temps_de_vol_cumule\n",
    "\n",
    "\n",
    "        # affichage de la progression en %\n",
    "        # print(f\"Progression pour l'avion {avion}: {(i+1)/len(df_merge_total)*100:.2f}%\")\n",
    "\n",
    "\n"
   ]
  },
  {
   "cell_type": "code",
   "execution_count": 34,
   "metadata": {},
   "outputs": [
    {
     "data": {
      "text/html": [
       "<div>\n",
       "<style scoped>\n",
       "    .dataframe tbody tr th:only-of-type {\n",
       "        vertical-align: middle;\n",
       "    }\n",
       "\n",
       "    .dataframe tbody tr th {\n",
       "        vertical-align: top;\n",
       "    }\n",
       "\n",
       "    .dataframe thead th {\n",
       "        text-align: right;\n",
       "    }\n",
       "</style>\n",
       "<table border=\"1\" class=\"dataframe\">\n",
       "  <thead>\n",
       "    <tr style=\"text-align: right;\">\n",
       "      <th></th>\n",
       "      <th>aero_</th>\n",
       "      <th>measure_day_</th>\n",
       "      <th>usure_nouvelle_max_Composants Critiques</th>\n",
       "      <th>usure_nouvelle_max_Composants Majeurs</th>\n",
       "      <th>usure_nouvelle_max_Composants Secondaires</th>\n",
       "      <th>usure_nouvelle_mean_Composants Critiques</th>\n",
       "      <th>usure_nouvelle_mean_Composants Majeurs</th>\n",
       "      <th>usure_nouvelle_mean_Composants Secondaires</th>\n",
       "      <th>time_en_air</th>\n",
       "      <th>etat_voyant</th>\n",
       "      <th>temp</th>\n",
       "      <th>pressure</th>\n",
       "      <th>vibrations</th>\n",
       "      <th>type_model</th>\n",
       "      <th>debut_service</th>\n",
       "      <th>last_maint</th>\n",
       "      <th>en_maintenance</th>\n",
       "      <th>measure_day</th>\n",
       "      <th>temps_de_vol_cumule</th>\n",
       "    </tr>\n",
       "  </thead>\n",
       "  <tbody>\n",
       "    <tr>\n",
       "      <th>0</th>\n",
       "      <td>A320_1884</td>\n",
       "      <td>2024-06-04</td>\n",
       "      <td>61.126660</td>\n",
       "      <td>60.781740</td>\n",
       "      <td>59.684620</td>\n",
       "      <td>28.157460</td>\n",
       "      <td>32.796355</td>\n",
       "      <td>29.171363</td>\n",
       "      <td>9.8</td>\n",
       "      <td>0</td>\n",
       "      <td>4.3</td>\n",
       "      <td>907.3</td>\n",
       "      <td>1.763677</td>\n",
       "      <td>A320</td>\n",
       "      <td>2015-12-26</td>\n",
       "      <td>2024-06-01</td>\n",
       "      <td>False</td>\n",
       "      <td>2024-06-04</td>\n",
       "      <td>9.8</td>\n",
       "    </tr>\n",
       "    <tr>\n",
       "      <th>1</th>\n",
       "      <td>A320_1884</td>\n",
       "      <td>2024-06-05</td>\n",
       "      <td>62.128398</td>\n",
       "      <td>61.547122</td>\n",
       "      <td>60.747186</td>\n",
       "      <td>29.045238</td>\n",
       "      <td>33.699044</td>\n",
       "      <td>30.416709</td>\n",
       "      <td>7.4</td>\n",
       "      <td>1</td>\n",
       "      <td>-24.3</td>\n",
       "      <td>905.9</td>\n",
       "      <td>3.428686</td>\n",
       "      <td>A320</td>\n",
       "      <td>2015-12-26</td>\n",
       "      <td>2024-06-01</td>\n",
       "      <td>False</td>\n",
       "      <td>2024-06-05</td>\n",
       "      <td>7.4</td>\n",
       "    </tr>\n",
       "    <tr>\n",
       "      <th>2</th>\n",
       "      <td>A320_1884</td>\n",
       "      <td>2024-06-08</td>\n",
       "      <td>62.466823</td>\n",
       "      <td>61.805697</td>\n",
       "      <td>61.106161</td>\n",
       "      <td>29.345163</td>\n",
       "      <td>34.004007</td>\n",
       "      <td>30.837434</td>\n",
       "      <td>2.5</td>\n",
       "      <td>0</td>\n",
       "      <td>-8.4</td>\n",
       "      <td>962.5</td>\n",
       "      <td>1.290613</td>\n",
       "      <td>A320</td>\n",
       "      <td>2015-12-26</td>\n",
       "      <td>2024-06-01</td>\n",
       "      <td>False</td>\n",
       "      <td>2024-06-08</td>\n",
       "      <td>2.5</td>\n",
       "    </tr>\n",
       "  </tbody>\n",
       "</table>\n",
       "</div>"
      ],
      "text/plain": [
       "       aero_ measure_day_  usure_nouvelle_max_Composants Critiques  \\\n",
       "0  A320_1884   2024-06-04                                61.126660   \n",
       "1  A320_1884   2024-06-05                                62.128398   \n",
       "2  A320_1884   2024-06-08                                62.466823   \n",
       "\n",
       "   usure_nouvelle_max_Composants Majeurs  \\\n",
       "0                              60.781740   \n",
       "1                              61.547122   \n",
       "2                              61.805697   \n",
       "\n",
       "   usure_nouvelle_max_Composants Secondaires  \\\n",
       "0                                  59.684620   \n",
       "1                                  60.747186   \n",
       "2                                  61.106161   \n",
       "\n",
       "   usure_nouvelle_mean_Composants Critiques  \\\n",
       "0                                 28.157460   \n",
       "1                                 29.045238   \n",
       "2                                 29.345163   \n",
       "\n",
       "   usure_nouvelle_mean_Composants Majeurs  \\\n",
       "0                               32.796355   \n",
       "1                               33.699044   \n",
       "2                               34.004007   \n",
       "\n",
       "   usure_nouvelle_mean_Composants Secondaires  time_en_air etat_voyant  temp  \\\n",
       "0                                   29.171363          9.8           0   4.3   \n",
       "1                                   30.416709          7.4           1 -24.3   \n",
       "2                                   30.837434          2.5           0  -8.4   \n",
       "\n",
       "   pressure  vibrations type_model debut_service last_maint  en_maintenance  \\\n",
       "0     907.3    1.763677       A320    2015-12-26 2024-06-01           False   \n",
       "1     905.9    3.428686       A320    2015-12-26 2024-06-01           False   \n",
       "2     962.5    1.290613       A320    2015-12-26 2024-06-01           False   \n",
       "\n",
       "  measure_day  temps_de_vol_cumule  \n",
       "0  2024-06-04                  9.8  \n",
       "1  2024-06-05                  7.4  \n",
       "2  2024-06-08                  2.5  "
      ]
     },
     "execution_count": 34,
     "metadata": {},
     "output_type": "execute_result"
    }
   ],
   "source": [
    "df_merge_total.head(3)"
   ]
  },
  {
   "cell_type": "code",
   "execution_count": null,
   "metadata": {},
   "outputs": [],
   "source": [
    "# skim(df_merge_total)"
   ]
  },
  {
   "cell_type": "code",
   "execution_count": 35,
   "metadata": {},
   "outputs": [],
   "source": [
    "df_merge_total.to_parquet('data_preclean_avion.parquet')"
   ]
  }
 ],
 "metadata": {
  "kernelspec": {
   "display_name": "Python 3",
   "language": "python",
   "name": "python3"
  },
  "language_info": {
   "codemirror_mode": {
    "name": "ipython",
    "version": 3
   },
   "file_extension": ".py",
   "mimetype": "text/x-python",
   "name": "python",
   "nbconvert_exporter": "python",
   "pygments_lexer": "ipython3",
   "version": "3.12.3"
  }
 },
 "nbformat": 4,
 "nbformat_minor": 2
}
