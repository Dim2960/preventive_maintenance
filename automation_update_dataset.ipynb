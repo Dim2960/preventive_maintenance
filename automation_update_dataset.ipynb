{
 "cells": [
  {
   "cell_type": "code",
   "execution_count": 1,
   "metadata": {
    "execution": {
     "iopub.execute_input": "2024-06-07T10:00:03.171387Z",
     "iopub.status.busy": "2024-06-07T10:00:03.171387Z",
     "iopub.status.idle": "2024-06-07T10:00:05.506358Z",
     "shell.execute_reply": "2024-06-07T10:00:05.506358Z"
    }
   },
   "outputs": [],
   "source": [
    "# importation des librairy\n",
    "\n",
    "import pandas as pd\n",
    "from datetime import date\n",
    "import os\n",
    "\n",
    "from skimpy import skim\n",
    "import missingno as msno\n",
    "\n",
    "import matplotlib.pyplot as plt\n",
    "import seaborn as sns"
   ]
  },
  {
   "cell_type": "markdown",
   "metadata": {},
   "source": [
    "## lecture des csv"
   ]
  },
  {
   "cell_type": "markdown",
   "metadata": {},
   "source": [
    "### read des csv statiques"
   ]
  },
  {
   "cell_type": "code",
   "execution_count": 2,
   "metadata": {
    "execution": {
     "iopub.execute_input": "2024-06-07T10:00:05.508363Z",
     "iopub.status.busy": "2024-06-07T10:00:05.508363Z",
     "iopub.status.idle": "2024-06-07T10:00:05.522071Z",
     "shell.execute_reply": "2024-06-07T10:00:05.522071Z"
    }
   },
   "outputs": [],
   "source": [
    "df_aeronefs = pd.read_csv('dataset/aeronefs_2024-06-02.csv')\n",
    "df_composants = pd.read_csv('dataset/composants_2024-06-02.csv')"
   ]
  },
  {
   "cell_type": "markdown",
   "metadata": {},
   "source": [
    "### lecture et mise Ã  jour des csv dynamiques"
   ]
  },
  {
   "cell_type": "code",
   "execution_count": 3,
   "metadata": {
    "execution": {
     "iopub.execute_input": "2024-06-07T10:00:05.523874Z",
     "iopub.status.busy": "2024-06-07T10:00:05.523874Z",
     "iopub.status.idle": "2024-06-07T10:00:05.525590Z",
     "shell.execute_reply": "2024-06-07T10:00:05.525590Z"
    }
   },
   "outputs": [],
   "source": [
    "# rÃ©cupÃ©ration date du jour\n",
    "aujourdhui = date.today()\n",
    "aujourdhui = aujourdhui.strftime('%Y-%m-%d')"
   ]
  },
  {
   "cell_type": "code",
   "execution_count": 4,
   "metadata": {
    "execution": {
     "iopub.execute_input": "2024-06-07T10:00:05.526593Z",
     "iopub.status.busy": "2024-06-07T10:00:05.526593Z",
     "iopub.status.idle": "2024-06-07T10:00:05.698626Z",
     "shell.execute_reply": "2024-06-07T10:00:05.697615Z"
    }
   },
   "outputs": [],
   "source": [
    "# lecture des logs ancien et nouveau\n",
    "df_logs_old = pd.read_csv('dataset/logs_vols.csv')\n",
    "\n",
    "df_logs_new = pd.read_csv(f'http://sc-e.fr/docs/logs_vols_{aujourdhui}.csv')"
   ]
  },
  {
   "cell_type": "code",
   "execution_count": 5,
   "metadata": {
    "execution": {
     "iopub.execute_input": "2024-06-07T10:00:05.705307Z",
     "iopub.status.busy": "2024-06-07T10:00:05.704149Z",
     "iopub.status.idle": "2024-06-07T10:00:05.717387Z",
     "shell.execute_reply": "2024-06-07T10:00:05.717387Z"
    }
   },
   "outputs": [],
   "source": [
    "# concatenation des 2 df puis suppression des doublons\n",
    "df_logs_concat = pd.concat([df_logs_old, df_logs_new], axis= 1)\n",
    "\n",
    "df_logs = df_logs_concat.drop_duplicates()"
   ]
  },
  {
   "cell_type": "code",
   "execution_count": 6,
   "metadata": {
    "execution": {
     "iopub.execute_input": "2024-06-07T10:00:05.720392Z",
     "iopub.status.busy": "2024-06-07T10:00:05.720392Z",
     "iopub.status.idle": "2024-06-07T10:00:05.722681Z",
     "shell.execute_reply": "2024-06-07T10:00:05.722681Z"
    }
   },
   "outputs": [],
   "source": [
    "# suppression des df inutiles\n",
    "del df_logs_concat, df_logs_old, df_logs_new"
   ]
  },
  {
   "cell_type": "code",
   "execution_count": 7,
   "metadata": {
    "execution": {
     "iopub.execute_input": "2024-06-07T10:00:05.724523Z",
     "iopub.status.busy": "2024-06-07T10:00:05.724523Z",
     "iopub.status.idle": "2024-06-07T10:00:05.727993Z",
     "shell.execute_reply": "2024-06-07T10:00:05.727993Z"
    }
   },
   "outputs": [
    {
     "name": "stdout",
     "output_type": "stream",
     "text": [
      "Le fichier dataset/logs_vols.csv a Ã©tÃ© supprimÃ©\n"
     ]
    }
   ],
   "source": [
    "# suppression de l'ancien csv\n",
    "chemin_csv = 'dataset/logs_vols.csv'\n",
    "\n",
    "if os.path.exists(chemin_csv):\n",
    "    os.remove(chemin_csv)\n",
    "    print(f\"Le fichier {chemin_csv} a Ã©tÃ© supprimÃ©\")\n",
    "else:\n",
    "    print(f\"Le fichier {chemin_csv} n'existe pas.\")"
   ]
  },
  {
   "cell_type": "code",
   "execution_count": 8,
   "metadata": {
    "execution": {
     "iopub.execute_input": "2024-06-07T10:00:05.753774Z",
     "iopub.status.busy": "2024-06-07T10:00:05.753208Z",
     "iopub.status.idle": "2024-06-07T10:00:05.760049Z",
     "shell.execute_reply": "2024-06-07T10:00:05.760049Z"
    }
   },
   "outputs": [],
   "source": [
    "# enregistrement des nouvelles donnÃ©es dans le csv\n",
    "df_logs.to_csv('dataset/logs_vols.csv')"
   ]
  },
  {
   "cell_type": "code",
   "execution_count": 9,
   "metadata": {
    "execution": {
     "iopub.execute_input": "2024-06-07T10:00:05.761052Z",
     "iopub.status.busy": "2024-06-07T10:00:05.761052Z",
     "iopub.status.idle": "2024-06-07T10:00:06.305973Z",
     "shell.execute_reply": "2024-06-07T10:00:06.305973Z"
    }
   },
   "outputs": [],
   "source": [
    "df_degradations_old = pd.read_csv('dataset/degradations.csv')\n",
    "\n",
    "df_degradations_new = pd.read_csv(f'http://sc-e.fr/docs/degradations_{aujourdhui}.csv')"
   ]
  },
  {
   "cell_type": "code",
   "execution_count": 10,
   "metadata": {
    "execution": {
     "iopub.execute_input": "2024-06-07T10:00:06.307977Z",
     "iopub.status.busy": "2024-06-07T10:00:06.307977Z",
     "iopub.status.idle": "2024-06-07T10:00:06.339603Z",
     "shell.execute_reply": "2024-06-07T10:00:06.339603Z"
    }
   },
   "outputs": [],
   "source": [
    "# concatenation des 2 df puis suppression des doublons\n",
    "df_degradations_concat = pd.concat([df_degradations_old, df_degradations_new], axis= 1)\n",
    "\n",
    "df_degradations = df_degradations_concat.drop_duplicates()"
   ]
  },
  {
   "cell_type": "code",
   "execution_count": 11,
   "metadata": {
    "execution": {
     "iopub.execute_input": "2024-06-07T10:00:06.341607Z",
     "iopub.status.busy": "2024-06-07T10:00:06.341607Z",
     "iopub.status.idle": "2024-06-07T10:00:06.344676Z",
     "shell.execute_reply": "2024-06-07T10:00:06.344676Z"
    }
   },
   "outputs": [],
   "source": [
    "# suppression des df inutiles\n",
    "del df_degradations_concat, df_degradations_old, df_degradations_new"
   ]
  },
  {
   "cell_type": "code",
   "execution_count": 12,
   "metadata": {
    "execution": {
     "iopub.execute_input": "2024-06-07T10:00:06.345679Z",
     "iopub.status.busy": "2024-06-07T10:00:06.345679Z",
     "iopub.status.idle": "2024-06-07T10:00:06.349078Z",
     "shell.execute_reply": "2024-06-07T10:00:06.349078Z"
    }
   },
   "outputs": [
    {
     "name": "stdout",
     "output_type": "stream",
     "text": [
      "Le fichier dataset/degradations.csv a Ã©tÃ© supprimÃ©\n"
     ]
    }
   ],
   "source": [
    "# suppression de l'ancien csv\n",
    "chemin_csv = 'dataset/degradations.csv'\n",
    "\n",
    "if os.path.exists(chemin_csv):\n",
    "    os.remove(chemin_csv)\n",
    "    print(f\"Le fichier {chemin_csv} a Ã©tÃ© supprimÃ©\")\n",
    "else:\n",
    "    print(f\"Le fichier {chemin_csv} n'existe pas.\")"
   ]
  },
  {
   "cell_type": "code",
   "execution_count": 13,
   "metadata": {
    "execution": {
     "iopub.execute_input": "2024-06-07T10:00:06.350083Z",
     "iopub.status.busy": "2024-06-07T10:00:06.350083Z",
     "iopub.status.idle": "2024-06-07T10:00:06.447276Z",
     "shell.execute_reply": "2024-06-07T10:00:06.447276Z"
    }
   },
   "outputs": [],
   "source": [
    "# enregistrement des nouvelles donnÃ©es dans le csv\n",
    "df_degradations.to_csv('dataset/degradations.csv')"
   ]
  }
 ],
 "metadata": {
  "kernelspec": {
   "display_name": "Python 3",
   "language": "python",
   "name": "python3"
  },
  "language_info": {
   "codemirror_mode": {
    "name": "ipython",
    "version": 3
   },
   "file_extension": ".py",
   "mimetype": "text/x-python",
   "name": "python",
   "nbconvert_exporter": "python",
   "pygments_lexer": "ipython3",
   "version": "3.12.3"
  }
 },
 "nbformat": 4,
 "nbformat_minor": 2
}
