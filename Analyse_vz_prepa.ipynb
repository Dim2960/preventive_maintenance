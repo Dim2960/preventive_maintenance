{
 "cells": [
  {
   "cell_type": "code",
   "execution_count": 76,
   "metadata": {},
   "outputs": [],
   "source": [
    "# importation des librairy\n",
    "import pandas as pd\n",
    "\n",
    "from skimpy import skim\n",
    "import missingno as msno\n",
    "\n",
    "import matplotlib.pyplot as plt\n",
    "import seaborn as sns\n",
    "\n",
    "from datetime import datetime"
   ]
  },
  {
   "cell_type": "markdown",
   "metadata": {},
   "source": [
    "## lecture des csv"
   ]
  },
  {
   "cell_type": "code",
   "execution_count": 77,
   "metadata": {},
   "outputs": [],
   "source": [
    "df_aeronefs = pd.read_csv('dataset/aeronefs_2024-06-02.csv')\n",
    "df_composants = pd.read_csv('dataset/composants_2024-06-02.csv')\n",
    "df_logs_vols = pd.read_csv('dataset/logs_vols.csv')\n",
    "df_degradations = pd.read_csv('dataset/degradations.csv')"
   ]
  },
  {
   "cell_type": "markdown",
   "metadata": {},
   "source": [
    "## Exploration, visualisation, nettoya, preparation des df"
   ]
  },
  {
   "cell_type": "markdown",
   "metadata": {},
   "source": [
    "### 1 - df_aeronefs"
   ]
  },
  {
   "cell_type": "code",
   "execution_count": 78,
   "metadata": {},
   "outputs": [
    {
     "data": {
      "text/html": [
       "<div>\n",
       "<style scoped>\n",
       "    .dataframe tbody tr th:only-of-type {\n",
       "        vertical-align: middle;\n",
       "    }\n",
       "\n",
       "    .dataframe tbody tr th {\n",
       "        vertical-align: top;\n",
       "    }\n",
       "\n",
       "    .dataframe thead th {\n",
       "        text-align: right;\n",
       "    }\n",
       "</style>\n",
       "<table border=\"1\" class=\"dataframe\">\n",
       "  <thead>\n",
       "    <tr style=\"text-align: right;\">\n",
       "      <th></th>\n",
       "      <th>ref_aero</th>\n",
       "      <th>type_model</th>\n",
       "      <th>debut_service</th>\n",
       "      <th>last_maint</th>\n",
       "      <th>en_maintenance</th>\n",
       "      <th>end_maint</th>\n",
       "    </tr>\n",
       "  </thead>\n",
       "  <tbody>\n",
       "    <tr>\n",
       "      <th>0</th>\n",
       "      <td>E170_6353</td>\n",
       "      <td>E170</td>\n",
       "      <td>2000-03-17</td>\n",
       "      <td>2024-03-27 00:00:00</td>\n",
       "      <td>False</td>\n",
       "      <td>NaN</td>\n",
       "    </tr>\n",
       "    <tr>\n",
       "      <th>1</th>\n",
       "      <td>B767_2803</td>\n",
       "      <td>B767</td>\n",
       "      <td>2020-12-03</td>\n",
       "      <td>2024-06-01 00:00:00</td>\n",
       "      <td>False</td>\n",
       "      <td>NaN</td>\n",
       "    </tr>\n",
       "    <tr>\n",
       "      <th>2</th>\n",
       "      <td>CRJ700_6943</td>\n",
       "      <td>CRJ700</td>\n",
       "      <td>2015-01-29</td>\n",
       "      <td>2024-06-02</td>\n",
       "      <td>True</td>\n",
       "      <td>2024-06-03 14:13:00</td>\n",
       "    </tr>\n",
       "    <tr>\n",
       "      <th>3</th>\n",
       "      <td>A350_1177</td>\n",
       "      <td>A350</td>\n",
       "      <td>2005-08-07</td>\n",
       "      <td>2024-01-04 00:00:00</td>\n",
       "      <td>False</td>\n",
       "      <td>NaN</td>\n",
       "    </tr>\n",
       "    <tr>\n",
       "      <th>4</th>\n",
       "      <td>B777_4029</td>\n",
       "      <td>B777</td>\n",
       "      <td>2009-01-01</td>\n",
       "      <td>2024-06-01 00:00:00</td>\n",
       "      <td>False</td>\n",
       "      <td>NaN</td>\n",
       "    </tr>\n",
       "  </tbody>\n",
       "</table>\n",
       "</div>"
      ],
      "text/plain": [
       "      ref_aero type_model debut_service           last_maint  en_maintenance  \\\n",
       "0    E170_6353       E170    2000-03-17  2024-03-27 00:00:00           False   \n",
       "1    B767_2803       B767    2020-12-03  2024-06-01 00:00:00           False   \n",
       "2  CRJ700_6943     CRJ700    2015-01-29           2024-06-02            True   \n",
       "3    A350_1177       A350    2005-08-07  2024-01-04 00:00:00           False   \n",
       "4    B777_4029       B777    2009-01-01  2024-06-01 00:00:00           False   \n",
       "\n",
       "             end_maint  \n",
       "0                  NaN  \n",
       "1                  NaN  \n",
       "2  2024-06-03 14:13:00  \n",
       "3                  NaN  \n",
       "4                  NaN  "
      ]
     },
     "execution_count": 78,
     "metadata": {},
     "output_type": "execute_result"
    }
   ],
   "source": [
    "df_aeronefs.head()"
   ]
  },
  {
   "cell_type": "code",
   "execution_count": 79,
   "metadata": {},
   "outputs": [
    {
     "data": {
      "text/html": [
       "<pre style=\"white-space:pre;overflow-x:auto;line-height:normal;font-family:Menlo,'DejaVu Sans Mono',consolas,'Courier New',monospace\">╭──────────────────────────────────────────────── skimpy summary ─────────────────────────────────────────────────╮\n",
       "│ <span style=\"font-style: italic\">         Data Summary         </span> <span style=\"font-style: italic\">      Data Types       </span>                                                          │\n",
       "│ ┏━━━━━━━━━━━━━━━━━━━┳━━━━━━━━┓ ┏━━━━━━━━━━━━━┳━━━━━━━┓                                                          │\n",
       "│ ┃<span style=\"color: #008080; text-decoration-color: #008080; font-weight: bold\"> dataframe         </span>┃<span style=\"color: #008080; text-decoration-color: #008080; font-weight: bold\"> Values </span>┃ ┃<span style=\"color: #008080; text-decoration-color: #008080; font-weight: bold\"> Column Type </span>┃<span style=\"color: #008080; text-decoration-color: #008080; font-weight: bold\"> Count </span>┃                                                          │\n",
       "│ ┡━━━━━━━━━━━━━━━━━━━╇━━━━━━━━┩ ┡━━━━━━━━━━━━━╇━━━━━━━┩                                                          │\n",
       "│ │ Number of rows    │ 232    │ │ string      │ 5     │                                                          │\n",
       "│ │ Number of columns │ 6      │ │ bool        │ 1     │                                                          │\n",
       "│ └───────────────────┴────────┘ └─────────────┴───────┘                                                          │\n",
       "│ <span style=\"font-style: italic\">                                                     bool                                                     </span>  │\n",
       "│ ┏━━━━━━━━━━━━━━━━━━━━━━━━━━━━━━━━━━━━━━━━━┳━━━━━━━━━━━━━━━━┳━━━━━━━━━━━━━━━━━━━━━━━━━━━━┳━━━━━━━━━━━━━━━━━━━━┓  │\n",
       "│ ┃<span style=\"font-weight: bold\"> column_name                             </span>┃<span style=\"font-weight: bold\"> true           </span>┃<span style=\"font-weight: bold\"> true rate                  </span>┃<span style=\"font-weight: bold\"> hist               </span>┃  │\n",
       "│ ┡━━━━━━━━━━━━━━━━━━━━━━━━━━━━━━━━━━━━━━━━━╇━━━━━━━━━━━━━━━━╇━━━━━━━━━━━━━━━━━━━━━━━━━━━━╇━━━━━━━━━━━━━━━━━━━━┩  │\n",
       "│ │ <span style=\"color: #af87ff; text-decoration-color: #af87ff\">en_maintenance                         </span> │ <span style=\"color: #008080; text-decoration-color: #008080\">            15</span> │ <span style=\"color: #008080; text-decoration-color: #008080\">                     0.065</span> │ <span style=\"color: #008000; text-decoration-color: #008000\">      ▇    ▁      </span> │  │\n",
       "│ └─────────────────────────────────────────┴────────────────┴────────────────────────────┴────────────────────┘  │\n",
       "│ <span style=\"font-style: italic\">                                                    string                                                    </span>  │\n",
       "│ ┏━━━━━━━━━━━━━━━━━━━━━━━━━━━━━┳━━━━━━━━━━┳━━━━━━━━━━━━━┳━━━━━━━━━━━━━━━━━━━━━━━━━━━━┳━━━━━━━━━━━━━━━━━━━━━━━━┓  │\n",
       "│ ┃<span style=\"font-weight: bold\"> column_name                 </span>┃<span style=\"font-weight: bold\"> NA       </span>┃<span style=\"font-weight: bold\"> NA %        </span>┃<span style=\"font-weight: bold\"> words per row              </span>┃<span style=\"font-weight: bold\"> total words            </span>┃  │\n",
       "│ ┡━━━━━━━━━━━━━━━━━━━━━━━━━━━━━╇━━━━━━━━━━╇━━━━━━━━━━━━━╇━━━━━━━━━━━━━━━━━━━━━━━━━━━━╇━━━━━━━━━━━━━━━━━━━━━━━━┩  │\n",
       "│ │ <span style=\"color: #af87ff; text-decoration-color: #af87ff\">ref_aero                   </span> │ <span style=\"color: #008080; text-decoration-color: #008080\">       0</span> │ <span style=\"color: #008080; text-decoration-color: #008080\">          0</span> │ <span style=\"color: #008080; text-decoration-color: #008080\">                         1</span> │ <span style=\"color: #008080; text-decoration-color: #008080\">                   232</span> │  │\n",
       "│ │ <span style=\"color: #af87ff; text-decoration-color: #af87ff\">type_model                 </span> │ <span style=\"color: #008080; text-decoration-color: #008080\">       0</span> │ <span style=\"color: #008080; text-decoration-color: #008080\">          0</span> │ <span style=\"color: #008080; text-decoration-color: #008080\">                         1</span> │ <span style=\"color: #008080; text-decoration-color: #008080\">                   232</span> │  │\n",
       "│ │ <span style=\"color: #af87ff; text-decoration-color: #af87ff\">debut_service              </span> │ <span style=\"color: #008080; text-decoration-color: #008080\">       0</span> │ <span style=\"color: #008080; text-decoration-color: #008080\">          0</span> │ <span style=\"color: #008080; text-decoration-color: #008080\">                         1</span> │ <span style=\"color: #008080; text-decoration-color: #008080\">                   232</span> │  │\n",
       "│ │ <span style=\"color: #af87ff; text-decoration-color: #af87ff\">last_maint                 </span> │ <span style=\"color: #008080; text-decoration-color: #008080\">       0</span> │ <span style=\"color: #008080; text-decoration-color: #008080\">          0</span> │ <span style=\"color: #008080; text-decoration-color: #008080\">                       1.9</span> │ <span style=\"color: #008080; text-decoration-color: #008080\">                   449</span> │  │\n",
       "│ │ <span style=\"color: #af87ff; text-decoration-color: #af87ff\">end_maint                  </span> │ <span style=\"color: #008080; text-decoration-color: #008080\">     217</span> │ <span style=\"color: #008080; text-decoration-color: #008080\">      93.53</span> │ <span style=\"color: #008080; text-decoration-color: #008080\">                      0.13</span> │ <span style=\"color: #008080; text-decoration-color: #008080\">                    30</span> │  │\n",
       "│ └─────────────────────────────┴──────────┴─────────────┴────────────────────────────┴────────────────────────┘  │\n",
       "╰────────────────────────────────────────────────────── End ──────────────────────────────────────────────────────╯\n",
       "</pre>\n"
      ],
      "text/plain": [
       "╭──────────────────────────────────────────────── skimpy summary ─────────────────────────────────────────────────╮\n",
       "│ \u001b[3m         Data Summary         \u001b[0m \u001b[3m      Data Types       \u001b[0m                                                          │\n",
       "│ ┏━━━━━━━━━━━━━━━━━━━┳━━━━━━━━┓ ┏━━━━━━━━━━━━━┳━━━━━━━┓                                                          │\n",
       "│ ┃\u001b[1;36m \u001b[0m\u001b[1;36mdataframe        \u001b[0m\u001b[1;36m \u001b[0m┃\u001b[1;36m \u001b[0m\u001b[1;36mValues\u001b[0m\u001b[1;36m \u001b[0m┃ ┃\u001b[1;36m \u001b[0m\u001b[1;36mColumn Type\u001b[0m\u001b[1;36m \u001b[0m┃\u001b[1;36m \u001b[0m\u001b[1;36mCount\u001b[0m\u001b[1;36m \u001b[0m┃                                                          │\n",
       "│ ┡━━━━━━━━━━━━━━━━━━━╇━━━━━━━━┩ ┡━━━━━━━━━━━━━╇━━━━━━━┩                                                          │\n",
       "│ │ Number of rows    │ 232    │ │ string      │ 5     │                                                          │\n",
       "│ │ Number of columns │ 6      │ │ bool        │ 1     │                                                          │\n",
       "│ └───────────────────┴────────┘ └─────────────┴───────┘                                                          │\n",
       "│ \u001b[3m                                                     bool                                                     \u001b[0m  │\n",
       "│ ┏━━━━━━━━━━━━━━━━━━━━━━━━━━━━━━━━━━━━━━━━━┳━━━━━━━━━━━━━━━━┳━━━━━━━━━━━━━━━━━━━━━━━━━━━━┳━━━━━━━━━━━━━━━━━━━━┓  │\n",
       "│ ┃\u001b[1m \u001b[0m\u001b[1mcolumn_name                            \u001b[0m\u001b[1m \u001b[0m┃\u001b[1m \u001b[0m\u001b[1mtrue          \u001b[0m\u001b[1m \u001b[0m┃\u001b[1m \u001b[0m\u001b[1mtrue rate                 \u001b[0m\u001b[1m \u001b[0m┃\u001b[1m \u001b[0m\u001b[1mhist              \u001b[0m\u001b[1m \u001b[0m┃  │\n",
       "│ ┡━━━━━━━━━━━━━━━━━━━━━━━━━━━━━━━━━━━━━━━━━╇━━━━━━━━━━━━━━━━╇━━━━━━━━━━━━━━━━━━━━━━━━━━━━╇━━━━━━━━━━━━━━━━━━━━┩  │\n",
       "│ │ \u001b[38;5;141men_maintenance                         \u001b[0m │ \u001b[36m            15\u001b[0m │ \u001b[36m                     0.065\u001b[0m │ \u001b[32m      ▇    ▁      \u001b[0m │  │\n",
       "│ └─────────────────────────────────────────┴────────────────┴────────────────────────────┴────────────────────┘  │\n",
       "│ \u001b[3m                                                    string                                                    \u001b[0m  │\n",
       "│ ┏━━━━━━━━━━━━━━━━━━━━━━━━━━━━━┳━━━━━━━━━━┳━━━━━━━━━━━━━┳━━━━━━━━━━━━━━━━━━━━━━━━━━━━┳━━━━━━━━━━━━━━━━━━━━━━━━┓  │\n",
       "│ ┃\u001b[1m \u001b[0m\u001b[1mcolumn_name                \u001b[0m\u001b[1m \u001b[0m┃\u001b[1m \u001b[0m\u001b[1mNA      \u001b[0m\u001b[1m \u001b[0m┃\u001b[1m \u001b[0m\u001b[1mNA %       \u001b[0m\u001b[1m \u001b[0m┃\u001b[1m \u001b[0m\u001b[1mwords per row             \u001b[0m\u001b[1m \u001b[0m┃\u001b[1m \u001b[0m\u001b[1mtotal words           \u001b[0m\u001b[1m \u001b[0m┃  │\n",
       "│ ┡━━━━━━━━━━━━━━━━━━━━━━━━━━━━━╇━━━━━━━━━━╇━━━━━━━━━━━━━╇━━━━━━━━━━━━━━━━━━━━━━━━━━━━╇━━━━━━━━━━━━━━━━━━━━━━━━┩  │\n",
       "│ │ \u001b[38;5;141mref_aero                   \u001b[0m │ \u001b[36m       0\u001b[0m │ \u001b[36m          0\u001b[0m │ \u001b[36m                         1\u001b[0m │ \u001b[36m                   232\u001b[0m │  │\n",
       "│ │ \u001b[38;5;141mtype_model                 \u001b[0m │ \u001b[36m       0\u001b[0m │ \u001b[36m          0\u001b[0m │ \u001b[36m                         1\u001b[0m │ \u001b[36m                   232\u001b[0m │  │\n",
       "│ │ \u001b[38;5;141mdebut_service              \u001b[0m │ \u001b[36m       0\u001b[0m │ \u001b[36m          0\u001b[0m │ \u001b[36m                         1\u001b[0m │ \u001b[36m                   232\u001b[0m │  │\n",
       "│ │ \u001b[38;5;141mlast_maint                 \u001b[0m │ \u001b[36m       0\u001b[0m │ \u001b[36m          0\u001b[0m │ \u001b[36m                       1.9\u001b[0m │ \u001b[36m                   449\u001b[0m │  │\n",
       "│ │ \u001b[38;5;141mend_maint                  \u001b[0m │ \u001b[36m     217\u001b[0m │ \u001b[36m      93.53\u001b[0m │ \u001b[36m                      0.13\u001b[0m │ \u001b[36m                    30\u001b[0m │  │\n",
       "│ └─────────────────────────────┴──────────┴─────────────┴────────────────────────────┴────────────────────────┘  │\n",
       "╰────────────────────────────────────────────────────── End ──────────────────────────────────────────────────────╯\n"
      ]
     },
     "metadata": {},
     "output_type": "display_data"
    }
   ],
   "source": [
    "# info sur le df\n",
    "skim(df_aeronefs)"
   ]
  },
  {
   "cell_type": "code",
   "execution_count": 80,
   "metadata": {},
   "outputs": [
    {
     "data": {
      "text/html": [
       "<div>\n",
       "<style scoped>\n",
       "    .dataframe tbody tr th:only-of-type {\n",
       "        vertical-align: middle;\n",
       "    }\n",
       "\n",
       "    .dataframe tbody tr th {\n",
       "        vertical-align: top;\n",
       "    }\n",
       "\n",
       "    .dataframe thead th {\n",
       "        text-align: right;\n",
       "    }\n",
       "</style>\n",
       "<table border=\"1\" class=\"dataframe\">\n",
       "  <thead>\n",
       "    <tr style=\"text-align: right;\">\n",
       "      <th></th>\n",
       "      <th>ref_aero</th>\n",
       "      <th>type_model</th>\n",
       "      <th>debut_service</th>\n",
       "      <th>last_maint</th>\n",
       "      <th>en_maintenance</th>\n",
       "      <th>end_maint</th>\n",
       "    </tr>\n",
       "  </thead>\n",
       "  <tbody>\n",
       "    <tr>\n",
       "      <th>0</th>\n",
       "      <td>E170_6353</td>\n",
       "      <td>E170</td>\n",
       "      <td>2000-03-17</td>\n",
       "      <td>2024-03-27</td>\n",
       "      <td>False</td>\n",
       "      <td>NaT</td>\n",
       "    </tr>\n",
       "    <tr>\n",
       "      <th>1</th>\n",
       "      <td>B767_2803</td>\n",
       "      <td>B767</td>\n",
       "      <td>2020-12-03</td>\n",
       "      <td>2024-06-01</td>\n",
       "      <td>False</td>\n",
       "      <td>NaT</td>\n",
       "    </tr>\n",
       "    <tr>\n",
       "      <th>2</th>\n",
       "      <td>CRJ700_6943</td>\n",
       "      <td>CRJ700</td>\n",
       "      <td>2015-01-29</td>\n",
       "      <td>2024-06-02</td>\n",
       "      <td>True</td>\n",
       "      <td>2024-06-03 14:13:00</td>\n",
       "    </tr>\n",
       "    <tr>\n",
       "      <th>3</th>\n",
       "      <td>A350_1177</td>\n",
       "      <td>A350</td>\n",
       "      <td>2005-08-07</td>\n",
       "      <td>2024-01-04</td>\n",
       "      <td>False</td>\n",
       "      <td>NaT</td>\n",
       "    </tr>\n",
       "    <tr>\n",
       "      <th>4</th>\n",
       "      <td>B777_4029</td>\n",
       "      <td>B777</td>\n",
       "      <td>2009-01-01</td>\n",
       "      <td>2024-06-01</td>\n",
       "      <td>False</td>\n",
       "      <td>NaT</td>\n",
       "    </tr>\n",
       "  </tbody>\n",
       "</table>\n",
       "</div>"
      ],
      "text/plain": [
       "      ref_aero type_model debut_service last_maint  en_maintenance  \\\n",
       "0    E170_6353       E170    2000-03-17 2024-03-27           False   \n",
       "1    B767_2803       B767    2020-12-03 2024-06-01           False   \n",
       "2  CRJ700_6943     CRJ700    2015-01-29 2024-06-02            True   \n",
       "3    A350_1177       A350    2005-08-07 2024-01-04           False   \n",
       "4    B777_4029       B777    2009-01-01 2024-06-01           False   \n",
       "\n",
       "            end_maint  \n",
       "0                 NaT  \n",
       "1                 NaT  \n",
       "2 2024-06-03 14:13:00  \n",
       "3                 NaT  \n",
       "4                 NaT  "
      ]
     },
     "execution_count": 80,
     "metadata": {},
     "output_type": "execute_result"
    }
   ],
   "source": [
    "# retravaille des colonne date\n",
    "cols = ['debut_service', 'last_maint', 'end_maint']\n",
    "\n",
    "for col in cols:\n",
    "\n",
    "    df_aeronefs[f'{col}_temp'] = pd.to_datetime(df_aeronefs[col], errors='coerce')\n",
    "    df_aeronefs[f'{col}_temp'] = df_aeronefs.apply(lambda x : x[col] if pd.isna(x[f'{col}_temp']) else x[f'{col}_temp'], axis=1)\n",
    "\n",
    "    df_aeronefs[col] = df_aeronefs[f'{col}_temp'] \n",
    "\n",
    "    # suppression de al colonne temporaire\n",
    "    df_aeronefs = df_aeronefs.drop(f'{col}_temp', axis=1)\n",
    "\n",
    "    df_aeronefs[col] = pd.to_datetime(df_aeronefs[col], errors='coerce')\n",
    "\n",
    "df_aeronefs.head()"
   ]
  },
  {
   "cell_type": "code",
   "execution_count": 81,
   "metadata": {},
   "outputs": [
    {
     "data": {
      "text/html": [
       "<pre style=\"white-space:pre;overflow-x:auto;line-height:normal;font-family:Menlo,'DejaVu Sans Mono',consolas,'Courier New',monospace\">╭──────────────────────────────────────────────── skimpy summary ─────────────────────────────────────────────────╮\n",
       "│ <span style=\"font-style: italic\">         Data Summary         </span> <span style=\"font-style: italic\">      Data Types       </span>                                                          │\n",
       "│ ┏━━━━━━━━━━━━━━━━━━━┳━━━━━━━━┓ ┏━━━━━━━━━━━━━┳━━━━━━━┓                                                          │\n",
       "│ ┃<span style=\"color: #008080; text-decoration-color: #008080; font-weight: bold\"> dataframe         </span>┃<span style=\"color: #008080; text-decoration-color: #008080; font-weight: bold\"> Values </span>┃ ┃<span style=\"color: #008080; text-decoration-color: #008080; font-weight: bold\"> Column Type </span>┃<span style=\"color: #008080; text-decoration-color: #008080; font-weight: bold\"> Count </span>┃                                                          │\n",
       "│ ┡━━━━━━━━━━━━━━━━━━━╇━━━━━━━━┩ ┡━━━━━━━━━━━━━╇━━━━━━━┩                                                          │\n",
       "│ │ Number of rows    │ 232    │ │ datetime64  │ 3     │                                                          │\n",
       "│ │ Number of columns │ 6      │ │ string      │ 2     │                                                          │\n",
       "│ └───────────────────┴────────┘ │ bool        │ 1     │                                                          │\n",
       "│                                └─────────────┴───────┘                                                          │\n",
       "│ <span style=\"font-style: italic\">                                                     bool                                                     </span>  │\n",
       "│ ┏━━━━━━━━━━━━━━━━━━━━━━━━━━━━━━━━━━━━━━━━━┳━━━━━━━━━━━━━━━━┳━━━━━━━━━━━━━━━━━━━━━━━━━━━━┳━━━━━━━━━━━━━━━━━━━━┓  │\n",
       "│ ┃<span style=\"font-weight: bold\"> column_name                             </span>┃<span style=\"font-weight: bold\"> true           </span>┃<span style=\"font-weight: bold\"> true rate                  </span>┃<span style=\"font-weight: bold\"> hist               </span>┃  │\n",
       "│ ┡━━━━━━━━━━━━━━━━━━━━━━━━━━━━━━━━━━━━━━━━━╇━━━━━━━━━━━━━━━━╇━━━━━━━━━━━━━━━━━━━━━━━━━━━━╇━━━━━━━━━━━━━━━━━━━━┩  │\n",
       "│ │ <span style=\"color: #af87ff; text-decoration-color: #af87ff\">en_maintenance                         </span> │ <span style=\"color: #008080; text-decoration-color: #008080\">            15</span> │ <span style=\"color: #008080; text-decoration-color: #008080\">                     0.065</span> │ <span style=\"color: #008000; text-decoration-color: #008000\">      ▇    ▁      </span> │  │\n",
       "│ └─────────────────────────────────────────┴────────────────┴────────────────────────────┴────────────────────┘  │\n",
       "│ <span style=\"font-style: italic\">                                                   datetime                                                   </span>  │\n",
       "│ ┏━━━━━━━━━━━━━━━━━━━━┳━━━━━━━┳━━━━━━━━━┳━━━━━━━━━━━━━━━━━━━━━━━━━━━┳━━━━━━━━━━━━━━━━━━━━━━━━━━━┳━━━━━━━━━━━━━┓  │\n",
       "│ ┃<span style=\"font-weight: bold\"> column_name        </span>┃<span style=\"font-weight: bold\"> NA    </span>┃<span style=\"font-weight: bold\"> NA %    </span>┃<span style=\"font-weight: bold\"> first                     </span>┃<span style=\"font-weight: bold\"> last                      </span>┃<span style=\"font-weight: bold\"> frequency   </span>┃  │\n",
       "│ ┡━━━━━━━━━━━━━━━━━━━━╇━━━━━━━╇━━━━━━━━━╇━━━━━━━━━━━━━━━━━━━━━━━━━━━╇━━━━━━━━━━━━━━━━━━━━━━━━━━━╇━━━━━━━━━━━━━┩  │\n",
       "│ │ <span style=\"color: #af87ff; text-decoration-color: #af87ff\">debut_service     </span> │ <span style=\"color: #008080; text-decoration-color: #008080\">    0</span> │ <span style=\"color: #008080; text-decoration-color: #008080\">      0</span> │ <span style=\"color: #800000; text-decoration-color: #800000\">       2000-02-03        </span> │ <span style=\"color: #800000; text-decoration-color: #800000\">       2022-11-11        </span> │ <span style=\"color: #af87ff; text-decoration-color: #af87ff\">None       </span> │  │\n",
       "│ │ <span style=\"color: #af87ff; text-decoration-color: #af87ff\">last_maint        </span> │ <span style=\"color: #008080; text-decoration-color: #008080\">    0</span> │ <span style=\"color: #008080; text-decoration-color: #008080\">      0</span> │ <span style=\"color: #800000; text-decoration-color: #800000\">       2023-07-02        </span> │ <span style=\"color: #800000; text-decoration-color: #800000\">       2024-06-02        </span> │ <span style=\"color: #af87ff; text-decoration-color: #af87ff\">None       </span> │  │\n",
       "│ │ <span style=\"color: #af87ff; text-decoration-color: #af87ff\">end_maint         </span> │ <span style=\"color: #008080; text-decoration-color: #008080\">  217</span> │ <span style=\"color: #008080; text-decoration-color: #008080\">  93.53</span> │ <span style=\"color: #800000; text-decoration-color: #800000\">   2024-06-03 14:13:00   </span> │ <span style=\"color: #800000; text-decoration-color: #800000\">   2024-06-16 14:13:00   </span> │ <span style=\"color: #af87ff; text-decoration-color: #af87ff\">None       </span> │  │\n",
       "│ └────────────────────┴───────┴─────────┴───────────────────────────┴───────────────────────────┴─────────────┘  │\n",
       "│ <span style=\"font-style: italic\">                                                    string                                                    </span>  │\n",
       "│ ┏━━━━━━━━━━━━━━━━━━━━━━━━━━━┳━━━━━━━━━┳━━━━━━━━━━━━┳━━━━━━━━━━━━━━━━━━━━━━━━━━━━━━┳━━━━━━━━━━━━━━━━━━━━━━━━━━┓  │\n",
       "│ ┃<span style=\"font-weight: bold\"> column_name               </span>┃<span style=\"font-weight: bold\"> NA      </span>┃<span style=\"font-weight: bold\"> NA %       </span>┃<span style=\"font-weight: bold\"> words per row                </span>┃<span style=\"font-weight: bold\"> total words              </span>┃  │\n",
       "│ ┡━━━━━━━━━━━━━━━━━━━━━━━━━━━╇━━━━━━━━━╇━━━━━━━━━━━━╇━━━━━━━━━━━━━━━━━━━━━━━━━━━━━━╇━━━━━━━━━━━━━━━━━━━━━━━━━━┩  │\n",
       "│ │ <span style=\"color: #af87ff; text-decoration-color: #af87ff\">ref_aero                 </span> │ <span style=\"color: #008080; text-decoration-color: #008080\">      0</span> │ <span style=\"color: #008080; text-decoration-color: #008080\">         0</span> │ <span style=\"color: #008080; text-decoration-color: #008080\">                           1</span> │ <span style=\"color: #008080; text-decoration-color: #008080\">                     232</span> │  │\n",
       "│ │ <span style=\"color: #af87ff; text-decoration-color: #af87ff\">type_model               </span> │ <span style=\"color: #008080; text-decoration-color: #008080\">      0</span> │ <span style=\"color: #008080; text-decoration-color: #008080\">         0</span> │ <span style=\"color: #008080; text-decoration-color: #008080\">                           1</span> │ <span style=\"color: #008080; text-decoration-color: #008080\">                     232</span> │  │\n",
       "│ └───────────────────────────┴─────────┴────────────┴──────────────────────────────┴──────────────────────────┘  │\n",
       "╰────────────────────────────────────────────────────── End ──────────────────────────────────────────────────────╯\n",
       "</pre>\n"
      ],
      "text/plain": [
       "╭──────────────────────────────────────────────── skimpy summary ─────────────────────────────────────────────────╮\n",
       "│ \u001b[3m         Data Summary         \u001b[0m \u001b[3m      Data Types       \u001b[0m                                                          │\n",
       "│ ┏━━━━━━━━━━━━━━━━━━━┳━━━━━━━━┓ ┏━━━━━━━━━━━━━┳━━━━━━━┓                                                          │\n",
       "│ ┃\u001b[1;36m \u001b[0m\u001b[1;36mdataframe        \u001b[0m\u001b[1;36m \u001b[0m┃\u001b[1;36m \u001b[0m\u001b[1;36mValues\u001b[0m\u001b[1;36m \u001b[0m┃ ┃\u001b[1;36m \u001b[0m\u001b[1;36mColumn Type\u001b[0m\u001b[1;36m \u001b[0m┃\u001b[1;36m \u001b[0m\u001b[1;36mCount\u001b[0m\u001b[1;36m \u001b[0m┃                                                          │\n",
       "│ ┡━━━━━━━━━━━━━━━━━━━╇━━━━━━━━┩ ┡━━━━━━━━━━━━━╇━━━━━━━┩                                                          │\n",
       "│ │ Number of rows    │ 232    │ │ datetime64  │ 3     │                                                          │\n",
       "│ │ Number of columns │ 6      │ │ string      │ 2     │                                                          │\n",
       "│ └───────────────────┴────────┘ │ bool        │ 1     │                                                          │\n",
       "│                                └─────────────┴───────┘                                                          │\n",
       "│ \u001b[3m                                                     bool                                                     \u001b[0m  │\n",
       "│ ┏━━━━━━━━━━━━━━━━━━━━━━━━━━━━━━━━━━━━━━━━━┳━━━━━━━━━━━━━━━━┳━━━━━━━━━━━━━━━━━━━━━━━━━━━━┳━━━━━━━━━━━━━━━━━━━━┓  │\n",
       "│ ┃\u001b[1m \u001b[0m\u001b[1mcolumn_name                            \u001b[0m\u001b[1m \u001b[0m┃\u001b[1m \u001b[0m\u001b[1mtrue          \u001b[0m\u001b[1m \u001b[0m┃\u001b[1m \u001b[0m\u001b[1mtrue rate                 \u001b[0m\u001b[1m \u001b[0m┃\u001b[1m \u001b[0m\u001b[1mhist              \u001b[0m\u001b[1m \u001b[0m┃  │\n",
       "│ ┡━━━━━━━━━━━━━━━━━━━━━━━━━━━━━━━━━━━━━━━━━╇━━━━━━━━━━━━━━━━╇━━━━━━━━━━━━━━━━━━━━━━━━━━━━╇━━━━━━━━━━━━━━━━━━━━┩  │\n",
       "│ │ \u001b[38;5;141men_maintenance                         \u001b[0m │ \u001b[36m            15\u001b[0m │ \u001b[36m                     0.065\u001b[0m │ \u001b[32m      ▇    ▁      \u001b[0m │  │\n",
       "│ └─────────────────────────────────────────┴────────────────┴────────────────────────────┴────────────────────┘  │\n",
       "│ \u001b[3m                                                   datetime                                                   \u001b[0m  │\n",
       "│ ┏━━━━━━━━━━━━━━━━━━━━┳━━━━━━━┳━━━━━━━━━┳━━━━━━━━━━━━━━━━━━━━━━━━━━━┳━━━━━━━━━━━━━━━━━━━━━━━━━━━┳━━━━━━━━━━━━━┓  │\n",
       "│ ┃\u001b[1m \u001b[0m\u001b[1mcolumn_name       \u001b[0m\u001b[1m \u001b[0m┃\u001b[1m \u001b[0m\u001b[1mNA   \u001b[0m\u001b[1m \u001b[0m┃\u001b[1m \u001b[0m\u001b[1mNA %   \u001b[0m\u001b[1m \u001b[0m┃\u001b[1m \u001b[0m\u001b[1mfirst                    \u001b[0m\u001b[1m \u001b[0m┃\u001b[1m \u001b[0m\u001b[1mlast                     \u001b[0m\u001b[1m \u001b[0m┃\u001b[1m \u001b[0m\u001b[1mfrequency  \u001b[0m\u001b[1m \u001b[0m┃  │\n",
       "│ ┡━━━━━━━━━━━━━━━━━━━━╇━━━━━━━╇━━━━━━━━━╇━━━━━━━━━━━━━━━━━━━━━━━━━━━╇━━━━━━━━━━━━━━━━━━━━━━━━━━━╇━━━━━━━━━━━━━┩  │\n",
       "│ │ \u001b[38;5;141mdebut_service     \u001b[0m │ \u001b[36m    0\u001b[0m │ \u001b[36m      0\u001b[0m │ \u001b[31m       2000-02-03        \u001b[0m │ \u001b[31m       2022-11-11        \u001b[0m │ \u001b[38;5;141mNone       \u001b[0m │  │\n",
       "│ │ \u001b[38;5;141mlast_maint        \u001b[0m │ \u001b[36m    0\u001b[0m │ \u001b[36m      0\u001b[0m │ \u001b[31m       2023-07-02        \u001b[0m │ \u001b[31m       2024-06-02        \u001b[0m │ \u001b[38;5;141mNone       \u001b[0m │  │\n",
       "│ │ \u001b[38;5;141mend_maint         \u001b[0m │ \u001b[36m  217\u001b[0m │ \u001b[36m  93.53\u001b[0m │ \u001b[31m   2024-06-03 14:13:00   \u001b[0m │ \u001b[31m   2024-06-16 14:13:00   \u001b[0m │ \u001b[38;5;141mNone       \u001b[0m │  │\n",
       "│ └────────────────────┴───────┴─────────┴───────────────────────────┴───────────────────────────┴─────────────┘  │\n",
       "│ \u001b[3m                                                    string                                                    \u001b[0m  │\n",
       "│ ┏━━━━━━━━━━━━━━━━━━━━━━━━━━━┳━━━━━━━━━┳━━━━━━━━━━━━┳━━━━━━━━━━━━━━━━━━━━━━━━━━━━━━┳━━━━━━━━━━━━━━━━━━━━━━━━━━┓  │\n",
       "│ ┃\u001b[1m \u001b[0m\u001b[1mcolumn_name              \u001b[0m\u001b[1m \u001b[0m┃\u001b[1m \u001b[0m\u001b[1mNA     \u001b[0m\u001b[1m \u001b[0m┃\u001b[1m \u001b[0m\u001b[1mNA %      \u001b[0m\u001b[1m \u001b[0m┃\u001b[1m \u001b[0m\u001b[1mwords per row               \u001b[0m\u001b[1m \u001b[0m┃\u001b[1m \u001b[0m\u001b[1mtotal words             \u001b[0m\u001b[1m \u001b[0m┃  │\n",
       "│ ┡━━━━━━━━━━━━━━━━━━━━━━━━━━━╇━━━━━━━━━╇━━━━━━━━━━━━╇━━━━━━━━━━━━━━━━━━━━━━━━━━━━━━╇━━━━━━━━━━━━━━━━━━━━━━━━━━┩  │\n",
       "│ │ \u001b[38;5;141mref_aero                 \u001b[0m │ \u001b[36m      0\u001b[0m │ \u001b[36m         0\u001b[0m │ \u001b[36m                           1\u001b[0m │ \u001b[36m                     232\u001b[0m │  │\n",
       "│ │ \u001b[38;5;141mtype_model               \u001b[0m │ \u001b[36m      0\u001b[0m │ \u001b[36m         0\u001b[0m │ \u001b[36m                           1\u001b[0m │ \u001b[36m                     232\u001b[0m │  │\n",
       "│ └───────────────────────────┴─────────┴────────────┴──────────────────────────────┴──────────────────────────┘  │\n",
       "╰────────────────────────────────────────────────────── End ──────────────────────────────────────────────────────╯\n"
      ]
     },
     "metadata": {},
     "output_type": "display_data"
    }
   ],
   "source": [
    "skim(df_aeronefs)"
   ]
  },
  {
   "cell_type": "code",
   "execution_count": 82,
   "metadata": {},
   "outputs": [
    {
     "name": "stdout",
     "output_type": "stream",
     "text": [
      "col : ref_aero ok plein\n",
      "col : type_model ok plein\n",
      "col : debut_service ok plein\n",
      "col : last_maint ok plein\n",
      "col : en_maintenance ok plein\n",
      "\n",
      "col : end_maint avec des null\n"
     ]
    }
   ],
   "source": [
    "# observation des valeurs null par colonne\n",
    "cols = df_aeronefs.columns\n",
    "\n",
    "for col in cols:\n",
    "    if len(df_aeronefs[df_aeronefs[col].isna()]) == 0:\n",
    "        print(f'col : {col} ok plein')\n",
    "    else:\n",
    "        print()\n",
    "        print(f'col : {col} avec des null')"
   ]
  },
  {
   "cell_type": "code",
   "execution_count": 83,
   "metadata": {},
   "outputs": [
    {
     "data": {
      "text/plain": [
       "<Axes: >"
      ]
     },
     "execution_count": 83,
     "metadata": {},
     "output_type": "execute_result"
    },
    {
     "data": {
      "image/png": "[encoded data removed]",
      "text/plain": [
       "<Figure size 500x200 with 2 Axes>"
      ]
     },
     "metadata": {},
     "output_type": "display_data"
    }
   ],
   "source": [
    "msno.matrix(df_aeronefs, figsize=(5, 2))"
   ]
  },
  {
   "cell_type": "code",
   "execution_count": 84,
   "metadata": {},
   "outputs": [
    {
     "data": {
      "text/html": [
       "<div>\n",
       "<style scoped>\n",
       "    .dataframe tbody tr th:only-of-type {\n",
       "        vertical-align: middle;\n",
       "    }\n",
       "\n",
       "    .dataframe tbody tr th {\n",
       "        vertical-align: top;\n",
       "    }\n",
       "\n",
       "    .dataframe thead th {\n",
       "        text-align: right;\n",
       "    }\n",
       "</style>\n",
       "<table border=\"1\" class=\"dataframe\">\n",
       "  <thead>\n",
       "    <tr style=\"text-align: right;\">\n",
       "      <th></th>\n",
       "      <th>ref_aero</th>\n",
       "      <th>type_model</th>\n",
       "      <th>debut_service</th>\n",
       "      <th>last_maint</th>\n",
       "      <th>en_maintenance</th>\n",
       "      <th>end_maint</th>\n",
       "    </tr>\n",
       "  </thead>\n",
       "  <tbody>\n",
       "  </tbody>\n",
       "</table>\n",
       "</div>"
      ],
      "text/plain": [
       "Empty DataFrame\n",
       "Columns: [ref_aero, type_model, debut_service, last_maint, en_maintenance, end_maint]\n",
       "Index: []"
      ]
     },
     "execution_count": 84,
     "metadata": {},
     "output_type": "execute_result"
    }
   ],
   "source": [
    "# vérification si avion en maintenance alors date de prevision de fin de maintenance et inverse vrai\n",
    "\n",
    "df_temp_en_maintenance_T = df_aeronefs[df_aeronefs['en_maintenance'] ==True]\n",
    "\n",
    "df_temp_en_maintenance_T[df_temp_en_maintenance_T['end_maint'].isna()]"
   ]
  },
  {
   "cell_type": "code",
   "execution_count": 85,
   "metadata": {},
   "outputs": [
    {
     "data": {
      "text/html": [
       "<div>\n",
       "<style scoped>\n",
       "    .dataframe tbody tr th:only-of-type {\n",
       "        vertical-align: middle;\n",
       "    }\n",
       "\n",
       "    .dataframe tbody tr th {\n",
       "        vertical-align: top;\n",
       "    }\n",
       "\n",
       "    .dataframe thead th {\n",
       "        text-align: right;\n",
       "    }\n",
       "</style>\n",
       "<table border=\"1\" class=\"dataframe\">\n",
       "  <thead>\n",
       "    <tr style=\"text-align: right;\">\n",
       "      <th></th>\n",
       "      <th>ref_aero</th>\n",
       "      <th>type_model</th>\n",
       "      <th>debut_service</th>\n",
       "      <th>last_maint</th>\n",
       "      <th>en_maintenance</th>\n",
       "      <th>end_maint</th>\n",
       "    </tr>\n",
       "  </thead>\n",
       "  <tbody>\n",
       "  </tbody>\n",
       "</table>\n",
       "</div>"
      ],
      "text/plain": [
       "Empty DataFrame\n",
       "Columns: [ref_aero, type_model, debut_service, last_maint, en_maintenance, end_maint]\n",
       "Index: []"
      ]
     },
     "execution_count": 85,
     "metadata": {},
     "output_type": "execute_result"
    }
   ],
   "source": [
    "df_temp_en_maintenance_F = df_aeronefs[df_aeronefs['en_maintenance'] == False]\n",
    "\n",
    "df_temp_en_maintenance_F[~df_temp_en_maintenance_F['end_maint'].isna()]"
   ]
  },
  {
   "cell_type": "markdown",
   "metadata": {},
   "source": [
    "Conclusion sur les valuers Null de end_maintenance :\n",
    "Si un avion est en maintence (True) alors il y a une date.\n",
    "Si un avion n'est pas en maintenance alors le champ est null.\n",
    "\n",
    "Il est potentielement possible de remplacer par la date du jour la fin de maintenance prévisionnel car ça signifie 0 jour jusqu'à la remise en service de l'appareil."
   ]
  },
  {
   "cell_type": "code",
   "execution_count": 86,
   "metadata": {},
   "outputs": [],
   "source": [
    "# Remplacement des date par le nombre de jour à la date actuelle (float) et les valeurs null par des 0\n",
    "\n",
    "df_aeronefs['end_maint'] = df_aeronefs.apply(lambda x : 0 if pd.isna(x['end_maint']) else (x['last_maint'] - x['end_maint']).total_seconds() /3600 /24  , axis=1)"
   ]
  },
  {
   "cell_type": "code",
   "execution_count": 87,
   "metadata": {},
   "outputs": [
    {
     "data": {
      "text/html": [
       "<div>\n",
       "<style scoped>\n",
       "    .dataframe tbody tr th:only-of-type {\n",
       "        vertical-align: middle;\n",
       "    }\n",
       "\n",
       "    .dataframe tbody tr th {\n",
       "        vertical-align: top;\n",
       "    }\n",
       "\n",
       "    .dataframe thead th {\n",
       "        text-align: right;\n",
       "    }\n",
       "</style>\n",
       "<table border=\"1\" class=\"dataframe\">\n",
       "  <thead>\n",
       "    <tr style=\"text-align: right;\">\n",
       "      <th></th>\n",
       "      <th>ref_aero</th>\n",
       "      <th>type_model</th>\n",
       "      <th>debut_service</th>\n",
       "      <th>last_maint</th>\n",
       "      <th>en_maintenance</th>\n",
       "      <th>end_maint</th>\n",
       "    </tr>\n",
       "  </thead>\n",
       "  <tbody>\n",
       "    <tr>\n",
       "      <th>0</th>\n",
       "      <td>E170_6353</td>\n",
       "      <td>E170</td>\n",
       "      <td>2000-03-17</td>\n",
       "      <td>2024-03-27</td>\n",
       "      <td>False</td>\n",
       "      <td>0.000000</td>\n",
       "    </tr>\n",
       "    <tr>\n",
       "      <th>1</th>\n",
       "      <td>B767_2803</td>\n",
       "      <td>B767</td>\n",
       "      <td>2020-12-03</td>\n",
       "      <td>2024-06-01</td>\n",
       "      <td>False</td>\n",
       "      <td>0.000000</td>\n",
       "    </tr>\n",
       "    <tr>\n",
       "      <th>2</th>\n",
       "      <td>CRJ700_6943</td>\n",
       "      <td>CRJ700</td>\n",
       "      <td>2015-01-29</td>\n",
       "      <td>2024-06-02</td>\n",
       "      <td>True</td>\n",
       "      <td>-1.592361</td>\n",
       "    </tr>\n",
       "    <tr>\n",
       "      <th>3</th>\n",
       "      <td>A350_1177</td>\n",
       "      <td>A350</td>\n",
       "      <td>2005-08-07</td>\n",
       "      <td>2024-01-04</td>\n",
       "      <td>False</td>\n",
       "      <td>0.000000</td>\n",
       "    </tr>\n",
       "    <tr>\n",
       "      <th>4</th>\n",
       "      <td>B777_4029</td>\n",
       "      <td>B777</td>\n",
       "      <td>2009-01-01</td>\n",
       "      <td>2024-06-01</td>\n",
       "      <td>False</td>\n",
       "      <td>0.000000</td>\n",
       "    </tr>\n",
       "  </tbody>\n",
       "</table>\n",
       "</div>"
      ],
      "text/plain": [
       "      ref_aero type_model debut_service last_maint  en_maintenance  end_maint\n",
       "0    E170_6353       E170    2000-03-17 2024-03-27           False   0.000000\n",
       "1    B767_2803       B767    2020-12-03 2024-06-01           False   0.000000\n",
       "2  CRJ700_6943     CRJ700    2015-01-29 2024-06-02            True  -1.592361\n",
       "3    A350_1177       A350    2005-08-07 2024-01-04           False   0.000000\n",
       "4    B777_4029       B777    2009-01-01 2024-06-01           False   0.000000"
      ]
     },
     "execution_count": 87,
     "metadata": {},
     "output_type": "execute_result"
    }
   ],
   "source": [
    "df_aeronefs.head()"
   ]
  },
  {
   "cell_type": "code",
   "execution_count": 88,
   "metadata": {},
   "outputs": [
    {
     "data": {
      "text/plain": [
       "ref_aero          231\n",
       "type_model         15\n",
       "debut_service     227\n",
       "last_maint         79\n",
       "en_maintenance      2\n",
       "end_maint           3\n",
       "dtype: int64"
      ]
     },
     "execution_count": 88,
     "metadata": {},
     "output_type": "execute_result"
    }
   ],
   "source": [
    "df_aeronefs.nunique()"
   ]
  },
  {
   "cell_type": "code",
   "execution_count": 89,
   "metadata": {},
   "outputs": [
    {
     "name": "stdout",
     "output_type": "stream",
     "text": [
      "Doublons basés sur la colonne 'ref_aero':\n"
     ]
    },
    {
     "data": {
      "text/html": [
       "<div>\n",
       "<style scoped>\n",
       "    .dataframe tbody tr th:only-of-type {\n",
       "        vertical-align: middle;\n",
       "    }\n",
       "\n",
       "    .dataframe tbody tr th {\n",
       "        vertical-align: top;\n",
       "    }\n",
       "\n",
       "    .dataframe thead th {\n",
       "        text-align: right;\n",
       "    }\n",
       "</style>\n",
       "<table border=\"1\" class=\"dataframe\">\n",
       "  <thead>\n",
       "    <tr style=\"text-align: right;\">\n",
       "      <th></th>\n",
       "      <th>ref_aero</th>\n",
       "      <th>type_model</th>\n",
       "      <th>debut_service</th>\n",
       "      <th>last_maint</th>\n",
       "      <th>en_maintenance</th>\n",
       "      <th>end_maint</th>\n",
       "    </tr>\n",
       "  </thead>\n",
       "  <tbody>\n",
       "    <tr>\n",
       "      <th>40</th>\n",
       "      <td>E170_5551</td>\n",
       "      <td>E170</td>\n",
       "      <td>2017-02-07</td>\n",
       "      <td>2024-06-01</td>\n",
       "      <td>False</td>\n",
       "      <td>0.0</td>\n",
       "    </tr>\n",
       "    <tr>\n",
       "      <th>230</th>\n",
       "      <td>E170_5551</td>\n",
       "      <td>E170</td>\n",
       "      <td>2021-04-10</td>\n",
       "      <td>2024-06-01</td>\n",
       "      <td>False</td>\n",
       "      <td>0.0</td>\n",
       "    </tr>\n",
       "  </tbody>\n",
       "</table>\n",
       "</div>"
      ],
      "text/plain": [
       "      ref_aero type_model debut_service last_maint  en_maintenance  end_maint\n",
       "40   E170_5551       E170    2017-02-07 2024-06-01           False        0.0\n",
       "230  E170_5551       E170    2021-04-10 2024-06-01           False        0.0"
      ]
     },
     "execution_count": 89,
     "metadata": {},
     "output_type": "execute_result"
    }
   ],
   "source": [
    "# recherche du doublon de ref_aero et l'afficher.\n",
    "duplicates = df_aeronefs[df_aeronefs.duplicated(subset='ref_aero', keep=False)]\n",
    "print(\"Doublons basés sur la colonne 'ref_aero':\")\n",
    "\n",
    "duplicates"
   ]
  },
  {
   "cell_type": "code",
   "execution_count": 90,
   "metadata": {},
   "outputs": [],
   "source": [
    "# renommer les ref_aero si doublons ? \n",
    "# --> si ref_aero est reference après"
   ]
  },
  {
   "cell_type": "code",
   "execution_count": 91,
   "metadata": {},
   "outputs": [
    {
     "data": {
      "image/png": "[encoded data removed]",
      "text/plain": [
       "<Figure size 500x500 with 1 Axes>"
      ]
     },
     "metadata": {},
     "output_type": "display_data"
    }
   ],
   "source": [
    "#affichage de la repartition des model d'avion\n",
    "sns.displot(data = df_aeronefs, y= 'type_model')\n",
    "plt.title(f'Distribution des modele d\\'avion')\n",
    "\n",
    "plt.show()"
   ]
  },
  {
   "cell_type": "code",
   "execution_count": 92,
   "metadata": {},
   "outputs": [
    {
     "data": {
      "image/png": "[encoded data removed]",
      "text/plain": [
       "<Figure size 1500x500 with 3 Axes>"
      ]
     },
     "metadata": {},
     "output_type": "display_data"
    }
   ],
   "source": [
    "# affichage des distribution sur les colonnes date\n",
    "\n",
    "fig2, axs = plt.subplots(1, 3, figsize=(15,5))\n",
    "\n",
    "\n",
    "sns.histplot(data = df_aeronefs['debut_service'], ax= axs[0])\n",
    "axs[0].set_title(f'Distribution des date de mise en service')\n",
    "axs[0].set_xlabel('Date de mise en service')\n",
    "\n",
    "sns.histplot(data = df_aeronefs['last_maint'], ax= axs[1])\n",
    "axs[1].set_title(f'Distribution des dates de dernière maintenance')\n",
    "axs[1].set_xlabel('Date du début la dernière maintenance')\n",
    "\n",
    "sns.histplot(data = df_aeronefs[df_aeronefs['end_maint'] != 0]['end_maint'], bins= 15, ax= axs[2])\n",
    "axs[2].set_title(f'Distribution du nombre de jour entre \\ndébut de maintenance et fin de \\nmaintenance prévisionnelle')\n",
    "axs[2].set_xlabel('Date de mise en service')\n",
    "\n",
    "plt.tight_layout()\n",
    "plt.show()"
   ]
  },
  {
   "cell_type": "code",
   "execution_count": 93,
   "metadata": {},
   "outputs": [
    {
     "data": {
      "image/png": "[encoded data removed]",
      "text/plain": [
       "<Figure size 300x300 with 1 Axes>"
      ]
     },
     "metadata": {},
     "output_type": "display_data"
    }
   ],
   "source": [
    "#affichage de la repartition des en maintenance\n",
    "\n",
    "# glpobal\n",
    "compte = df_aeronefs['en_maintenance'].value_counts()\n",
    "labels = ['En service', 'En maintenance']\n",
    "\n",
    "fig= plt.figure(figsize=(3,3))\n",
    "\n",
    "plt.pie(compte, labels = labels)\n",
    "plt.title(f'Proportion des avions en maintenance')\n",
    "\n",
    "plt.show()"
   ]
  },
  {
   "cell_type": "markdown",
   "metadata": {},
   "source": [
    "### 2- df_composants"
   ]
  },
  {
   "cell_type": "code",
   "execution_count": 94,
   "metadata": {},
   "outputs": [
    {
     "data": {
      "text/html": [
       "<div>\n",
       "<style scoped>\n",
       "    .dataframe tbody tr th:only-of-type {\n",
       "        vertical-align: middle;\n",
       "    }\n",
       "\n",
       "    .dataframe tbody tr th {\n",
       "        vertical-align: top;\n",
       "    }\n",
       "\n",
       "    .dataframe thead th {\n",
       "        text-align: right;\n",
       "    }\n",
       "</style>\n",
       "<table border=\"1\" class=\"dataframe\">\n",
       "  <thead>\n",
       "    <tr style=\"text-align: right;\">\n",
       "      <th></th>\n",
       "      <th>ref_compo</th>\n",
       "      <th>categorie</th>\n",
       "      <th>aero</th>\n",
       "      <th>desc</th>\n",
       "      <th>lifespan</th>\n",
       "      <th>taux_usure_actuel</th>\n",
       "      <th>cout</th>\n",
       "    </tr>\n",
       "  </thead>\n",
       "  <tbody>\n",
       "    <tr>\n",
       "      <th>0</th>\n",
       "      <td>REAE170-E170_6353-0</td>\n",
       "      <td>Composants Critiques</td>\n",
       "      <td>E170_6353</td>\n",
       "      <td>Réacteur gauche</td>\n",
       "      <td>13045</td>\n",
       "      <td>53.308375</td>\n",
       "      <td>15552</td>\n",
       "    </tr>\n",
       "    <tr>\n",
       "      <th>1</th>\n",
       "      <td>REAE170-E170_6353-1</td>\n",
       "      <td>Composants Critiques</td>\n",
       "      <td>E170_6353</td>\n",
       "      <td>Réacteur droit</td>\n",
       "      <td>13626</td>\n",
       "      <td>50.111950</td>\n",
       "      <td>17559</td>\n",
       "    </tr>\n",
       "    <tr>\n",
       "      <th>2</th>\n",
       "      <td>SYSE170-E170_6353-2</td>\n",
       "      <td>Composants Critiques</td>\n",
       "      <td>E170_6353</td>\n",
       "      <td>Système de navigation</td>\n",
       "      <td>10541</td>\n",
       "      <td>16.730575</td>\n",
       "      <td>16514</td>\n",
       "    </tr>\n",
       "    <tr>\n",
       "      <th>3</th>\n",
       "      <td>ORDE170-E170_6353-3</td>\n",
       "      <td>Composants Critiques</td>\n",
       "      <td>E170_6353</td>\n",
       "      <td>Ordinateur de vol</td>\n",
       "      <td>10441</td>\n",
       "      <td>6.653075</td>\n",
       "      <td>16047</td>\n",
       "    </tr>\n",
       "    <tr>\n",
       "      <th>4</th>\n",
       "      <td>AUTE170-E170_6353-4</td>\n",
       "      <td>Composants Critiques</td>\n",
       "      <td>E170_6353</td>\n",
       "      <td>Autopilote</td>\n",
       "      <td>14847</td>\n",
       "      <td>42.033525</td>\n",
       "      <td>19362</td>\n",
       "    </tr>\n",
       "  </tbody>\n",
       "</table>\n",
       "</div>"
      ],
      "text/plain": [
       "             ref_compo             categorie       aero  \\\n",
       "0  REAE170-E170_6353-0  Composants Critiques  E170_6353   \n",
       "1  REAE170-E170_6353-1  Composants Critiques  E170_6353   \n",
       "2  SYSE170-E170_6353-2  Composants Critiques  E170_6353   \n",
       "3  ORDE170-E170_6353-3  Composants Critiques  E170_6353   \n",
       "4  AUTE170-E170_6353-4  Composants Critiques  E170_6353   \n",
       "\n",
       "                    desc  lifespan  taux_usure_actuel   cout  \n",
       "0        Réacteur gauche     13045          53.308375  15552  \n",
       "1         Réacteur droit     13626          50.111950  17559  \n",
       "2  Système de navigation     10541          16.730575  16514  \n",
       "3      Ordinateur de vol     10441           6.653075  16047  \n",
       "4             Autopilote     14847          42.033525  19362  "
      ]
     },
     "execution_count": 94,
     "metadata": {},
     "output_type": "execute_result"
    }
   ],
   "source": [
    "df_composants.head()"
   ]
  },
  {
   "cell_type": "code",
   "execution_count": 95,
   "metadata": {},
   "outputs": [
    {
     "data": {
      "text/html": [
       "<pre style=\"white-space:pre;overflow-x:auto;line-height:normal;font-family:Menlo,'DejaVu Sans Mono',consolas,'Courier New',monospace\">╭──────────────────────────────────────────────── skimpy summary ─────────────────────────────────────────────────╮\n",
       "│ <span style=\"font-style: italic\">         Data Summary         </span> <span style=\"font-style: italic\">      Data Types       </span>                                                          │\n",
       "│ ┏━━━━━━━━━━━━━━━━━━━┳━━━━━━━━┓ ┏━━━━━━━━━━━━━┳━━━━━━━┓                                                          │\n",
       "│ ┃<span style=\"color: #008080; text-decoration-color: #008080; font-weight: bold\"> dataframe         </span>┃<span style=\"color: #008080; text-decoration-color: #008080; font-weight: bold\"> Values </span>┃ ┃<span style=\"color: #008080; text-decoration-color: #008080; font-weight: bold\"> Column Type </span>┃<span style=\"color: #008080; text-decoration-color: #008080; font-weight: bold\"> Count </span>┃                                                          │\n",
       "│ ┡━━━━━━━━━━━━━━━━━━━╇━━━━━━━━┩ ┡━━━━━━━━━━━━━╇━━━━━━━┩                                                          │\n",
       "│ │ Number of rows    │ 10440  │ │ string      │ 4     │                                                          │\n",
       "│ │ Number of columns │ 7      │ │ int32       │ 2     │                                                          │\n",
       "│ └───────────────────┴────────┘ │ float64     │ 1     │                                                          │\n",
       "│                                └─────────────┴───────┘                                                          │\n",
       "│ <span style=\"font-style: italic\">                                                    number                                                    </span>  │\n",
       "│ ┏━━━━━━━━━━━━━━━━━━━━━━┳━━━━━┳━━━━━━━┳━━━━━━━━┳━━━━━━━━┳━━━━━━━━┳━━━━━━━━┳━━━━━━━━┳━━━━━━━━┳━━━━━━━━┳━━━━━━━━┓  │\n",
       "│ ┃<span style=\"font-weight: bold\"> column_name          </span>┃<span style=\"font-weight: bold\"> NA  </span>┃<span style=\"font-weight: bold\"> NA %  </span>┃<span style=\"font-weight: bold\"> mean   </span>┃<span style=\"font-weight: bold\"> sd     </span>┃<span style=\"font-weight: bold\"> p0     </span>┃<span style=\"font-weight: bold\"> p25    </span>┃<span style=\"font-weight: bold\"> p50    </span>┃<span style=\"font-weight: bold\"> p75    </span>┃<span style=\"font-weight: bold\"> p100   </span>┃<span style=\"font-weight: bold\"> hist   </span>┃  │\n",
       "│ ┡━━━━━━━━━━━━━━━━━━━━━━╇━━━━━╇━━━━━━━╇━━━━━━━━╇━━━━━━━━╇━━━━━━━━╇━━━━━━━━╇━━━━━━━━╇━━━━━━━━╇━━━━━━━━╇━━━━━━━━┩  │\n",
       "│ │ <span style=\"color: #af87ff; text-decoration-color: #af87ff\">lifespan            </span> │ <span style=\"color: #008080; text-decoration-color: #008080\">  0</span> │ <span style=\"color: #008080; text-decoration-color: #008080\">    0</span> │ <span style=\"color: #008080; text-decoration-color: #008080\"> 13570</span> │ <span style=\"color: #008080; text-decoration-color: #008080\">  8481</span> │ <span style=\"color: #008080; text-decoration-color: #008080\"> 10020</span> │ <span style=\"color: #008080; text-decoration-color: #008080\"> 11020</span> │ <span style=\"color: #008080; text-decoration-color: #008080\"> 12640</span> │ <span style=\"color: #008080; text-decoration-color: #008080\"> 13630</span> │ <span style=\"color: #008080; text-decoration-color: #008080\"> 68980</span> │ <span style=\"color: #008000; text-decoration-color: #008000\">  ▇   </span> │  │\n",
       "│ │ <span style=\"color: #af87ff; text-decoration-color: #af87ff\">taux_usure_actuel   </span> │ <span style=\"color: #008080; text-decoration-color: #008080\">  0</span> │ <span style=\"color: #008080; text-decoration-color: #008080\">    0</span> │ <span style=\"color: #008080; text-decoration-color: #008080\"> 31.11</span> │ <span style=\"color: #008080; text-decoration-color: #008080\"> 17.29</span> │ <span style=\"color: #008080; text-decoration-color: #008080\">  0.07</span> │ <span style=\"color: #008080; text-decoration-color: #008080\"> 16.35</span> │ <span style=\"color: #008080; text-decoration-color: #008080\"> 31.15</span> │ <span style=\"color: #008080; text-decoration-color: #008080\"> 45.95</span> │ <span style=\"color: #008080; text-decoration-color: #008080\"> 68.91</span> │ <span style=\"color: #008000; text-decoration-color: #008000\">▇▇▇▇▇▂</span> │  │\n",
       "│ │ <span style=\"color: #af87ff; text-decoration-color: #af87ff\">cout                </span> │ <span style=\"color: #008080; text-decoration-color: #008080\">  0</span> │ <span style=\"color: #008080; text-decoration-color: #008080\">    0</span> │ <span style=\"color: #008080; text-decoration-color: #008080\"> 11420</span> │ <span style=\"color: #008080; text-decoration-color: #008080\">  5763</span> │ <span style=\"color: #008080; text-decoration-color: #008080\">  2021</span> │ <span style=\"color: #008080; text-decoration-color: #008080\">  4801</span> │ <span style=\"color: #008080; text-decoration-color: #008080\"> 12660</span> │ <span style=\"color: #008080; text-decoration-color: #008080\"> 16270</span> │ <span style=\"color: #008080; text-decoration-color: #008080\"> 19490</span> │ <span style=\"color: #008000; text-decoration-color: #008000\">▇▁▂▇▅▇</span> │  │\n",
       "│ └──────────────────────┴─────┴───────┴────────┴────────┴────────┴────────┴────────┴────────┴────────┴────────┘  │\n",
       "│ <span style=\"font-style: italic\">                                                    string                                                    </span>  │\n",
       "│ ┏━━━━━━━━━━━━━━━━━━━━━━━━━━━┳━━━━━━━━━┳━━━━━━━━━━━━┳━━━━━━━━━━━━━━━━━━━━━━━━━━━━━━┳━━━━━━━━━━━━━━━━━━━━━━━━━━┓  │\n",
       "│ ┃<span style=\"font-weight: bold\"> column_name               </span>┃<span style=\"font-weight: bold\"> NA      </span>┃<span style=\"font-weight: bold\"> NA %       </span>┃<span style=\"font-weight: bold\"> words per row                </span>┃<span style=\"font-weight: bold\"> total words              </span>┃  │\n",
       "│ ┡━━━━━━━━━━━━━━━━━━━━━━━━━━━╇━━━━━━━━━╇━━━━━━━━━━━━╇━━━━━━━━━━━━━━━━━━━━━━━━━━━━━━╇━━━━━━━━━━━━━━━━━━━━━━━━━━┩  │\n",
       "│ │ <span style=\"color: #af87ff; text-decoration-color: #af87ff\">ref_compo                </span> │ <span style=\"color: #008080; text-decoration-color: #008080\">      0</span> │ <span style=\"color: #008080; text-decoration-color: #008080\">         0</span> │ <span style=\"color: #008080; text-decoration-color: #008080\">                           1</span> │ <span style=\"color: #008080; text-decoration-color: #008080\">                   10440</span> │  │\n",
       "│ │ <span style=\"color: #af87ff; text-decoration-color: #af87ff\">categorie                </span> │ <span style=\"color: #008080; text-decoration-color: #008080\">      0</span> │ <span style=\"color: #008080; text-decoration-color: #008080\">         0</span> │ <span style=\"color: #008080; text-decoration-color: #008080\">                           2</span> │ <span style=\"color: #008080; text-decoration-color: #008080\">                   20880</span> │  │\n",
       "│ │ <span style=\"color: #af87ff; text-decoration-color: #af87ff\">aero                     </span> │ <span style=\"color: #008080; text-decoration-color: #008080\">      0</span> │ <span style=\"color: #008080; text-decoration-color: #008080\">         0</span> │ <span style=\"color: #008080; text-decoration-color: #008080\">                           1</span> │ <span style=\"color: #008080; text-decoration-color: #008080\">                   10440</span> │  │\n",
       "│ │ <span style=\"color: #af87ff; text-decoration-color: #af87ff\">desc                     </span> │ <span style=\"color: #008080; text-decoration-color: #008080\">      0</span> │ <span style=\"color: #008080; text-decoration-color: #008080\">         0</span> │ <span style=\"color: #008080; text-decoration-color: #008080\">                           3</span> │ <span style=\"color: #008080; text-decoration-color: #008080\">                   31552</span> │  │\n",
       "│ └───────────────────────────┴─────────┴────────────┴──────────────────────────────┴──────────────────────────┘  │\n",
       "╰────────────────────────────────────────────────────── End ──────────────────────────────────────────────────────╯\n",
       "</pre>\n"
      ],
      "text/plain": [
       "╭──────────────────────────────────────────────── skimpy summary ─────────────────────────────────────────────────╮\n",
       "│ \u001b[3m         Data Summary         \u001b[0m \u001b[3m      Data Types       \u001b[0m                                                          │\n",
       "│ ┏━━━━━━━━━━━━━━━━━━━┳━━━━━━━━┓ ┏━━━━━━━━━━━━━┳━━━━━━━┓                                                          │\n",
       "│ ┃\u001b[1;36m \u001b[0m\u001b[1;36mdataframe        \u001b[0m\u001b[1;36m \u001b[0m┃\u001b[1;36m \u001b[0m\u001b[1;36mValues\u001b[0m\u001b[1;36m \u001b[0m┃ ┃\u001b[1;36m \u001b[0m\u001b[1;36mColumn Type\u001b[0m\u001b[1;36m \u001b[0m┃\u001b[1;36m \u001b[0m\u001b[1;36mCount\u001b[0m\u001b[1;36m \u001b[0m┃                                                          │\n",
       "│ ┡━━━━━━━━━━━━━━━━━━━╇━━━━━━━━┩ ┡━━━━━━━━━━━━━╇━━━━━━━┩                                                          │\n",
       "│ │ Number of rows    │ 10440  │ │ string      │ 4     │                                                          │\n",
       "│ │ Number of columns │ 7      │ │ int32       │ 2     │                                                          │\n",
       "│ └───────────────────┴────────┘ │ float64     │ 1     │                                                          │\n",
       "│                                └─────────────┴───────┘                                                          │\n",
       "│ \u001b[3m                                                    number                                                    \u001b[0m  │\n",
       "│ ┏━━━━━━━━━━━━━━━━━━━━━━┳━━━━━┳━━━━━━━┳━━━━━━━━┳━━━━━━━━┳━━━━━━━━┳━━━━━━━━┳━━━━━━━━┳━━━━━━━━┳━━━━━━━━┳━━━━━━━━┓  │\n",
       "│ ┃\u001b[1m \u001b[0m\u001b[1mcolumn_name         \u001b[0m\u001b[1m \u001b[0m┃\u001b[1m \u001b[0m\u001b[1mNA \u001b[0m\u001b[1m \u001b[0m┃\u001b[1m \u001b[0m\u001b[1mNA % \u001b[0m\u001b[1m \u001b[0m┃\u001b[1m \u001b[0m\u001b[1mmean  \u001b[0m\u001b[1m \u001b[0m┃\u001b[1m \u001b[0m\u001b[1msd    \u001b[0m\u001b[1m \u001b[0m┃\u001b[1m \u001b[0m\u001b[1mp0    \u001b[0m\u001b[1m \u001b[0m┃\u001b[1m \u001b[0m\u001b[1mp25   \u001b[0m\u001b[1m \u001b[0m┃\u001b[1m \u001b[0m\u001b[1mp50   \u001b[0m\u001b[1m \u001b[0m┃\u001b[1m \u001b[0m\u001b[1mp75   \u001b[0m\u001b[1m \u001b[0m┃\u001b[1m \u001b[0m\u001b[1mp100  \u001b[0m\u001b[1m \u001b[0m┃\u001b[1m \u001b[0m\u001b[1mhist  \u001b[0m\u001b[1m \u001b[0m┃  │\n",
       "│ ┡━━━━━━━━━━━━━━━━━━━━━━╇━━━━━╇━━━━━━━╇━━━━━━━━╇━━━━━━━━╇━━━━━━━━╇━━━━━━━━╇━━━━━━━━╇━━━━━━━━╇━━━━━━━━╇━━━━━━━━┩  │\n",
       "│ │ \u001b[38;5;141mlifespan            \u001b[0m │ \u001b[36m  0\u001b[0m │ \u001b[36m    0\u001b[0m │ \u001b[36m 13570\u001b[0m │ \u001b[36m  8481\u001b[0m │ \u001b[36m 10020\u001b[0m │ \u001b[36m 11020\u001b[0m │ \u001b[36m 12640\u001b[0m │ \u001b[36m 13630\u001b[0m │ \u001b[36m 68980\u001b[0m │ \u001b[32m  ▇   \u001b[0m │  │\n",
       "│ │ \u001b[38;5;141mtaux_usure_actuel   \u001b[0m │ \u001b[36m  0\u001b[0m │ \u001b[36m    0\u001b[0m │ \u001b[36m 31.11\u001b[0m │ \u001b[36m 17.29\u001b[0m │ \u001b[36m  0.07\u001b[0m │ \u001b[36m 16.35\u001b[0m │ \u001b[36m 31.15\u001b[0m │ \u001b[36m 45.95\u001b[0m │ \u001b[36m 68.91\u001b[0m │ \u001b[32m▇▇▇▇▇▂\u001b[0m │  │\n",
       "│ │ \u001b[38;5;141mcout                \u001b[0m │ \u001b[36m  0\u001b[0m │ \u001b[36m    0\u001b[0m │ \u001b[36m 11420\u001b[0m │ \u001b[36m  5763\u001b[0m │ \u001b[36m  2021\u001b[0m │ \u001b[36m  4801\u001b[0m │ \u001b[36m 12660\u001b[0m │ \u001b[36m 16270\u001b[0m │ \u001b[36m 19490\u001b[0m │ \u001b[32m▇▁▂▇▅▇\u001b[0m │  │\n",
       "│ └──────────────────────┴─────┴───────┴────────┴────────┴────────┴────────┴────────┴────────┴────────┴────────┘  │\n",
       "│ \u001b[3m                                                    string                                                    \u001b[0m  │\n",
       "│ ┏━━━━━━━━━━━━━━━━━━━━━━━━━━━┳━━━━━━━━━┳━━━━━━━━━━━━┳━━━━━━━━━━━━━━━━━━━━━━━━━━━━━━┳━━━━━━━━━━━━━━━━━━━━━━━━━━┓  │\n",
       "│ ┃\u001b[1m \u001b[0m\u001b[1mcolumn_name              \u001b[0m\u001b[1m \u001b[0m┃\u001b[1m \u001b[0m\u001b[1mNA     \u001b[0m\u001b[1m \u001b[0m┃\u001b[1m \u001b[0m\u001b[1mNA %      \u001b[0m\u001b[1m \u001b[0m┃\u001b[1m \u001b[0m\u001b[1mwords per row               \u001b[0m\u001b[1m \u001b[0m┃\u001b[1m \u001b[0m\u001b[1mtotal words             \u001b[0m\u001b[1m \u001b[0m┃  │\n",
       "│ ┡━━━━━━━━━━━━━━━━━━━━━━━━━━━╇━━━━━━━━━╇━━━━━━━━━━━━╇━━━━━━━━━━━━━━━━━━━━━━━━━━━━━━╇━━━━━━━━━━━━━━━━━━━━━━━━━━┩  │\n",
       "│ │ \u001b[38;5;141mref_compo                \u001b[0m │ \u001b[36m      0\u001b[0m │ \u001b[36m         0\u001b[0m │ \u001b[36m                           1\u001b[0m │ \u001b[36m                   10440\u001b[0m │  │\n",
       "│ │ \u001b[38;5;141mcategorie                \u001b[0m │ \u001b[36m      0\u001b[0m │ \u001b[36m         0\u001b[0m │ \u001b[36m                           2\u001b[0m │ \u001b[36m                   20880\u001b[0m │  │\n",
       "│ │ \u001b[38;5;141maero                     \u001b[0m │ \u001b[36m      0\u001b[0m │ \u001b[36m         0\u001b[0m │ \u001b[36m                           1\u001b[0m │ \u001b[36m                   10440\u001b[0m │  │\n",
       "│ │ \u001b[38;5;141mdesc                     \u001b[0m │ \u001b[36m      0\u001b[0m │ \u001b[36m         0\u001b[0m │ \u001b[36m                           3\u001b[0m │ \u001b[36m                   31552\u001b[0m │  │\n",
       "│ └───────────────────────────┴─────────┴────────────┴──────────────────────────────┴──────────────────────────┘  │\n",
       "╰────────────────────────────────────────────────────── End ──────────────────────────────────────────────────────╯\n"
      ]
     },
     "metadata": {},
     "output_type": "display_data"
    }
   ],
   "source": [
    "skim(df_composants)"
   ]
  },
  {
   "cell_type": "code",
   "execution_count": 96,
   "metadata": {},
   "outputs": [
    {
     "data": {
      "text/plain": [
       "45"
      ]
     },
     "execution_count": 96,
     "metadata": {},
     "output_type": "execute_result"
    }
   ],
   "source": [
    "# vérification des ref_composant --> doit etre unique pour chaque lignes\n",
    "len(df_composants) - df_composants['ref_compo'].nunique()"
   ]
  },
  {
   "cell_type": "code",
   "execution_count": 97,
   "metadata": {},
   "outputs": [
    {
     "name": "stdout",
     "output_type": "stream",
     "text": [
      "Doublons basés sur la colonne 'ref_compo':\n"
     ]
    },
    {
     "data": {
      "text/html": [
       "<div>\n",
       "<style scoped>\n",
       "    .dataframe tbody tr th:only-of-type {\n",
       "        vertical-align: middle;\n",
       "    }\n",
       "\n",
       "    .dataframe tbody tr th {\n",
       "        vertical-align: top;\n",
       "    }\n",
       "\n",
       "    .dataframe thead th {\n",
       "        text-align: right;\n",
       "    }\n",
       "</style>\n",
       "<table border=\"1\" class=\"dataframe\">\n",
       "  <thead>\n",
       "    <tr style=\"text-align: right;\">\n",
       "      <th></th>\n",
       "      <th>ref_compo</th>\n",
       "      <th>categorie</th>\n",
       "      <th>aero</th>\n",
       "      <th>desc</th>\n",
       "      <th>lifespan</th>\n",
       "      <th>taux_usure_actuel</th>\n",
       "      <th>cout</th>\n",
       "    </tr>\n",
       "  </thead>\n",
       "  <tbody>\n",
       "    <tr>\n",
       "      <th>1820</th>\n",
       "      <td>AILE170-E170_5551-20</td>\n",
       "      <td>Composants Majeurs</td>\n",
       "      <td>E170_5551</td>\n",
       "      <td>Ailerons</td>\n",
       "      <td>10524</td>\n",
       "      <td>44.575544</td>\n",
       "      <td>10290</td>\n",
       "    </tr>\n",
       "    <tr>\n",
       "      <th>10370</th>\n",
       "      <td>AILE170-E170_5551-20</td>\n",
       "      <td>Composants Majeurs</td>\n",
       "      <td>E170_5551</td>\n",
       "      <td>Ailerons</td>\n",
       "      <td>10524</td>\n",
       "      <td>48.730000</td>\n",
       "      <td>10290</td>\n",
       "    </tr>\n",
       "    <tr>\n",
       "      <th>10354</th>\n",
       "      <td>AUTE170-E170_5551-4</td>\n",
       "      <td>Composants Critiques</td>\n",
       "      <td>E170_5551</td>\n",
       "      <td>Autopilote</td>\n",
       "      <td>14847</td>\n",
       "      <td>49.050000</td>\n",
       "      <td>19362</td>\n",
       "    </tr>\n",
       "    <tr>\n",
       "      <th>1804</th>\n",
       "      <td>AUTE170-E170_5551-4</td>\n",
       "      <td>Composants Critiques</td>\n",
       "      <td>E170_5551</td>\n",
       "      <td>Autopilote</td>\n",
       "      <td>14847</td>\n",
       "      <td>24.763782</td>\n",
       "      <td>19362</td>\n",
       "    </tr>\n",
       "    <tr>\n",
       "      <th>1837</th>\n",
       "      <td>DETE170-E170_5551-37</td>\n",
       "      <td>Composants Secondaires</td>\n",
       "      <td>E170_5551</td>\n",
       "      <td>Détecteurs de fumée</td>\n",
       "      <td>11066</td>\n",
       "      <td>58.522996</td>\n",
       "      <td>2147</td>\n",
       "    </tr>\n",
       "    <tr>\n",
       "      <th>...</th>\n",
       "      <td>...</td>\n",
       "      <td>...</td>\n",
       "      <td>...</td>\n",
       "      <td>...</td>\n",
       "      <td>...</td>\n",
       "      <td>...</td>\n",
       "      <td>...</td>\n",
       "    </tr>\n",
       "    <tr>\n",
       "      <th>1817</th>\n",
       "      <td>TRAE170-E170_5551-17</td>\n",
       "      <td>Composants Majeurs</td>\n",
       "      <td>E170_5551</td>\n",
       "      <td>Train d'atterrissage principal</td>\n",
       "      <td>10389</td>\n",
       "      <td>2.221234</td>\n",
       "      <td>12512</td>\n",
       "    </tr>\n",
       "    <tr>\n",
       "      <th>10368</th>\n",
       "      <td>TRAE170-E170_5551-18</td>\n",
       "      <td>Composants Majeurs</td>\n",
       "      <td>E170_5551</td>\n",
       "      <td>Train d'atterrissage avant</td>\n",
       "      <td>13964</td>\n",
       "      <td>48.040000</td>\n",
       "      <td>14173</td>\n",
       "    </tr>\n",
       "    <tr>\n",
       "      <th>1818</th>\n",
       "      <td>TRAE170-E170_5551-18</td>\n",
       "      <td>Composants Majeurs</td>\n",
       "      <td>E170_5551</td>\n",
       "      <td>Train d'atterrissage avant</td>\n",
       "      <td>13964</td>\n",
       "      <td>43.640184</td>\n",
       "      <td>14173</td>\n",
       "    </tr>\n",
       "    <tr>\n",
       "      <th>10361</th>\n",
       "      <td>UNIE170-E170_5551-11</td>\n",
       "      <td>Composants Critiques</td>\n",
       "      <td>E170_5551</td>\n",
       "      <td>Unité de gestion de l'air</td>\n",
       "      <td>13224</td>\n",
       "      <td>51.520000</td>\n",
       "      <td>17834</td>\n",
       "    </tr>\n",
       "    <tr>\n",
       "      <th>1811</th>\n",
       "      <td>UNIE170-E170_5551-11</td>\n",
       "      <td>Composants Critiques</td>\n",
       "      <td>E170_5551</td>\n",
       "      <td>Unité de gestion de l'air</td>\n",
       "      <td>13224</td>\n",
       "      <td>29.731744</td>\n",
       "      <td>17834</td>\n",
       "    </tr>\n",
       "  </tbody>\n",
       "</table>\n",
       "<p>90 rows × 7 columns</p>\n",
       "</div>"
      ],
      "text/plain": [
       "                  ref_compo               categorie       aero  \\\n",
       "1820   AILE170-E170_5551-20      Composants Majeurs  E170_5551   \n",
       "10370  AILE170-E170_5551-20      Composants Majeurs  E170_5551   \n",
       "10354   AUTE170-E170_5551-4    Composants Critiques  E170_5551   \n",
       "1804    AUTE170-E170_5551-4    Composants Critiques  E170_5551   \n",
       "1837   DETE170-E170_5551-37  Composants Secondaires  E170_5551   \n",
       "...                     ...                     ...        ...   \n",
       "1817   TRAE170-E170_5551-17      Composants Majeurs  E170_5551   \n",
       "10368  TRAE170-E170_5551-18      Composants Majeurs  E170_5551   \n",
       "1818   TRAE170-E170_5551-18      Composants Majeurs  E170_5551   \n",
       "10361  UNIE170-E170_5551-11    Composants Critiques  E170_5551   \n",
       "1811   UNIE170-E170_5551-11    Composants Critiques  E170_5551   \n",
       "\n",
       "                                 desc  lifespan  taux_usure_actuel   cout  \n",
       "1820                         Ailerons     10524          44.575544  10290  \n",
       "10370                        Ailerons     10524          48.730000  10290  \n",
       "10354                      Autopilote     14847          49.050000  19362  \n",
       "1804                       Autopilote     14847          24.763782  19362  \n",
       "1837              Détecteurs de fumée     11066          58.522996   2147  \n",
       "...                               ...       ...                ...    ...  \n",
       "1817   Train d'atterrissage principal     10389           2.221234  12512  \n",
       "10368      Train d'atterrissage avant     13964          48.040000  14173  \n",
       "1818       Train d'atterrissage avant     13964          43.640184  14173  \n",
       "10361       Unité de gestion de l'air     13224          51.520000  17834  \n",
       "1811        Unité de gestion de l'air     13224          29.731744  17834  \n",
       "\n",
       "[90 rows x 7 columns]"
      ]
     },
     "execution_count": 97,
     "metadata": {},
     "output_type": "execute_result"
    }
   ],
   "source": [
    "# recherche du doublon de ref_aero et l'afficher.\n",
    "duplicates = df_composants[df_composants.duplicated(subset='ref_compo', keep=False)]\n",
    "print(\"Doublons basés sur la colonne 'ref_compo':\")\n",
    "\n",
    "# tri du df sur les ref_compo\n",
    "duplicates = duplicates.sort_values(by= ['ref_compo'])\n",
    "\n",
    "duplicates"
   ]
  },
  {
   "cell_type": "code",
   "execution_count": 99,
   "metadata": {},
   "outputs": [
    {
     "data": {
      "text/html": [
       "<div>\n",
       "<style scoped>\n",
       "    .dataframe tbody tr th:only-of-type {\n",
       "        vertical-align: middle;\n",
       "    }\n",
       "\n",
       "    .dataframe tbody tr th {\n",
       "        vertical-align: top;\n",
       "    }\n",
       "\n",
       "    .dataframe thead th {\n",
       "        text-align: right;\n",
       "    }\n",
       "</style>\n",
       "<table border=\"1\" class=\"dataframe\">\n",
       "  <thead>\n",
       "    <tr style=\"text-align: right;\">\n",
       "      <th></th>\n",
       "      <th>ref_compo</th>\n",
       "      <th>categorie</th>\n",
       "      <th>aero</th>\n",
       "      <th>desc</th>\n",
       "      <th>lifespan</th>\n",
       "      <th>taux_usure_actuel</th>\n",
       "      <th>cout</th>\n",
       "    </tr>\n",
       "  </thead>\n",
       "  <tbody>\n",
       "    <tr>\n",
       "      <th>0</th>\n",
       "      <td>REAE170-E170_6353-0</td>\n",
       "      <td>Composants Critiques</td>\n",
       "      <td>E170_6353</td>\n",
       "      <td>Réacteur gauche</td>\n",
       "      <td>13045</td>\n",
       "      <td>53.308375</td>\n",
       "      <td>15552</td>\n",
       "    </tr>\n",
       "    <tr>\n",
       "      <th>1</th>\n",
       "      <td>REAE170-E170_6353-1</td>\n",
       "      <td>Composants Critiques</td>\n",
       "      <td>E170_6353</td>\n",
       "      <td>Réacteur droit</td>\n",
       "      <td>13626</td>\n",
       "      <td>50.111950</td>\n",
       "      <td>17559</td>\n",
       "    </tr>\n",
       "    <tr>\n",
       "      <th>2</th>\n",
       "      <td>SYSE170-E170_6353-2</td>\n",
       "      <td>Composants Critiques</td>\n",
       "      <td>E170_6353</td>\n",
       "      <td>Système de navigation</td>\n",
       "      <td>10541</td>\n",
       "      <td>16.730575</td>\n",
       "      <td>16514</td>\n",
       "    </tr>\n",
       "    <tr>\n",
       "      <th>3</th>\n",
       "      <td>ORDE170-E170_6353-3</td>\n",
       "      <td>Composants Critiques</td>\n",
       "      <td>E170_6353</td>\n",
       "      <td>Ordinateur de vol</td>\n",
       "      <td>10441</td>\n",
       "      <td>6.653075</td>\n",
       "      <td>16047</td>\n",
       "    </tr>\n",
       "    <tr>\n",
       "      <th>4</th>\n",
       "      <td>AUTE170-E170_6353-4</td>\n",
       "      <td>Composants Critiques</td>\n",
       "      <td>E170_6353</td>\n",
       "      <td>Autopilote</td>\n",
       "      <td>14847</td>\n",
       "      <td>42.033525</td>\n",
       "      <td>19362</td>\n",
       "    </tr>\n",
       "  </tbody>\n",
       "</table>\n",
       "</div>"
      ],
      "text/plain": [
       "             ref_compo             categorie       aero  \\\n",
       "0  REAE170-E170_6353-0  Composants Critiques  E170_6353   \n",
       "1  REAE170-E170_6353-1  Composants Critiques  E170_6353   \n",
       "2  SYSE170-E170_6353-2  Composants Critiques  E170_6353   \n",
       "3  ORDE170-E170_6353-3  Composants Critiques  E170_6353   \n",
       "4  AUTE170-E170_6353-4  Composants Critiques  E170_6353   \n",
       "\n",
       "                    desc  lifespan  taux_usure_actuel   cout  \n",
       "0        Réacteur gauche     13045          53.308375  15552  \n",
       "1         Réacteur droit     13626          50.111950  17559  \n",
       "2  Système de navigation     10541          16.730575  16514  \n",
       "3      Ordinateur de vol     10441           6.653075  16047  \n",
       "4             Autopilote     14847          42.033525  19362  "
      ]
     },
     "execution_count": 99,
     "metadata": {},
     "output_type": "execute_result"
    }
   ],
   "source": [
    "# suppression des doublons et garde les premier car taux d'usure plus important\n",
    "df_composants = df_composants.drop_duplicates(subset='ref_compo', keep='first')\n",
    "\n",
    "df_composants.head()"
   ]
  }
 ],
 "metadata": {
  "kernelspec": {
   "display_name": "Python 3",
   "language": "python",
   "name": "python3"
  },
  "language_info": {
   "codemirror_mode": {
    "name": "ipython",
    "version": 3
   },
   "file_extension": ".py",
   "mimetype": "text/x-python",
   "name": "python",
   "nbconvert_exporter": "python",
   "pygments_lexer": "ipython3",
   "version": "3.12.3"
  }
 },
 "nbformat": 4,
 "nbformat_minor": 2
}
